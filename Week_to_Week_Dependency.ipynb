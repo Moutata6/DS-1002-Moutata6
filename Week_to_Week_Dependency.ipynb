{
  "nbformat": 4,
  "nbformat_minor": 0,
  "metadata": {
    "colab": {
      "provenance": [],
      "authorship_tag": "ABX9TyM7AhsJjwHog4J3DyaaL2k5",
      "include_colab_link": true
    },
    "kernelspec": {
      "name": "python3",
      "display_name": "Python 3"
    },
    "language_info": {
      "name": "python"
    }
  },
  "cells": [
    {
      "cell_type": "markdown",
      "metadata": {
        "id": "view-in-github",
        "colab_type": "text"
      },
      "source": [
        "<a href=\"https://colab.research.google.com/github/Moutata6/DS-1002-Moutata6/blob/main/Week_to_Week_Dependency.ipynb\" target=\"_parent\"><img src=\"https://colab.research.google.com/assets/colab-badge.svg\" alt=\"Open In Colab\"/></a>"
      ]
    },
    {
      "cell_type": "code",
      "execution_count": 40,
      "metadata": {
        "id": "Uk_8K5AH1zyL"
      },
      "outputs": [],
      "source": [
        "# Importing all nessacery packages\n",
        "import numpy as np\n",
        "import pandas as pd\n",
        "from datetime import datetime, timedelta\n",
        "import yfinance as yf"
      ]
    },
    {
      "cell_type": "code",
      "source": [
        "# Getting the first date\n",
        "# Convert the string date to a datetime object\n",
        "date1 = []\n",
        "\n",
        "# Function to generate weekly dates\n",
        "def fetching_dates():\n",
        "    start_date = '8-2-2010'\n",
        "    end_date = '7-29-2024'\n",
        "\n",
        "    date = datetime.strptime(start_date, '%m-%d-%Y')\n",
        "    end_date = datetime.strptime(end_date, '%m-%d-%Y')\n",
        "\n",
        "    while date <= end_date:\n",
        "        date1.append(date)\n",
        "        date += timedelta(days=7)\n",
        "\n",
        "    return date1\n",
        "\n",
        "# Generate the list of dates\n",
        "date_list = fetching_dates()\n",
        "\n",
        "# Create a DataFrame with the date1 column\n",
        "df = pd.DataFrame(date_list, columns=['date1'])\n"
      ],
      "metadata": {
        "id": "WEDACDM4DKZQ"
      },
      "execution_count": 41,
      "outputs": []
    },
    {
      "cell_type": "code",
      "source": [
        "# Fetching the market cap for date1\n",
        "# Define the ticker symbol for the stock you're interested in\n",
        "ticker = 'TFC'\n",
        "\n",
        "# Initialize an empty list to store the market caps\n",
        "market_caps = []\n",
        "\n",
        "# Fetch market cap for each date in the date1 column\n",
        "for date in df['date1']:\n",
        "    try:\n",
        "        stock = yf.Ticker(ticker)\n",
        "        # Fetch historical data around the date\n",
        "        hist_date = stock.history(start=date - timedelta(days=1), end=date + timedelta(days=1))\n",
        "        if not hist_date.empty:\n",
        "            # Get the market cap for the exact date\n",
        "            market_cap = hist_date.iloc[0]['Close'] * stock.info['sharesOutstanding']\n",
        "            market_caps.append(market_cap)\n",
        "        else:\n",
        "            market_caps.append(None)\n",
        "    except Exception as e:\n",
        "        print(f\"Error fetching data for {ticker} on {date}: {e}\")\n",
        "        market_caps.append(None)\n",
        "\n",
        "# Add the market cap column to the DataFrame\n",
        "df['Market_Cap'] = market_caps\n",
        "\n",
        "# Display the DataFrame with the market caps\n",
        "print(df)"
      ],
      "metadata": {
        "colab": {
          "base_uri": "https://localhost:8080/"
        },
        "id": "3P6o97I_mqkP",
        "outputId": "5d7f0afc-f638-4724-bced-0657e31bceaf"
      },
      "execution_count": 42,
      "outputs": [
        {
          "output_type": "stream",
          "name": "stderr",
          "text": [
            "ERROR:yfinance:$TFC: possibly delisted; No price data found  (1d 2010-09-05 00:00:00 -> 2010-09-07 00:00:00)\n"
          ]
        },
        {
          "output_type": "stream",
          "name": "stdout",
          "text": [
            "$TFC: possibly delisted; No price data found  (1d 2010-09-05 00:00:00 -> 2010-09-07 00:00:00)\n"
          ]
        },
        {
          "output_type": "stream",
          "name": "stderr",
          "text": [
            "ERROR:yfinance:$TFC: possibly delisted; No price data found  (1d 2011-01-16 00:00:00 -> 2011-01-18 00:00:00)\n"
          ]
        },
        {
          "output_type": "stream",
          "name": "stdout",
          "text": [
            "$TFC: possibly delisted; No price data found  (1d 2011-01-16 00:00:00 -> 2011-01-18 00:00:00)\n"
          ]
        },
        {
          "output_type": "stream",
          "name": "stderr",
          "text": [
            "ERROR:yfinance:$TFC: possibly delisted; No price data found  (1d 2011-02-20 00:00:00 -> 2011-02-22 00:00:00)\n"
          ]
        },
        {
          "output_type": "stream",
          "name": "stdout",
          "text": [
            "$TFC: possibly delisted; No price data found  (1d 2011-02-20 00:00:00 -> 2011-02-22 00:00:00)\n"
          ]
        },
        {
          "output_type": "stream",
          "name": "stderr",
          "text": [
            "ERROR:yfinance:$TFC: possibly delisted; No price data found  (1d 2011-05-29 00:00:00 -> 2011-05-31 00:00:00)\n"
          ]
        },
        {
          "output_type": "stream",
          "name": "stdout",
          "text": [
            "$TFC: possibly delisted; No price data found  (1d 2011-05-29 00:00:00 -> 2011-05-31 00:00:00)\n"
          ]
        },
        {
          "output_type": "stream",
          "name": "stderr",
          "text": [
            "ERROR:yfinance:$TFC: possibly delisted; No price data found  (1d 2011-07-03 00:00:00 -> 2011-07-05 00:00:00)\n"
          ]
        },
        {
          "output_type": "stream",
          "name": "stdout",
          "text": [
            "$TFC: possibly delisted; No price data found  (1d 2011-07-03 00:00:00 -> 2011-07-05 00:00:00)\n"
          ]
        },
        {
          "output_type": "stream",
          "name": "stderr",
          "text": [
            "ERROR:yfinance:$TFC: possibly delisted; No price data found  (1d 2011-09-04 00:00:00 -> 2011-09-06 00:00:00)\n"
          ]
        },
        {
          "output_type": "stream",
          "name": "stdout",
          "text": [
            "$TFC: possibly delisted; No price data found  (1d 2011-09-04 00:00:00 -> 2011-09-06 00:00:00)\n"
          ]
        },
        {
          "output_type": "stream",
          "name": "stderr",
          "text": [
            "ERROR:yfinance:$TFC: possibly delisted; No price data found  (1d 2011-12-25 00:00:00 -> 2011-12-27 00:00:00)\n",
            "ERROR:yfinance:$TFC: possibly delisted; No price data found  (1d 2012-01-01 00:00:00 -> 2012-01-03 00:00:00)\n"
          ]
        },
        {
          "output_type": "stream",
          "name": "stdout",
          "text": [
            "$TFC: possibly delisted; No price data found  (1d 2011-12-25 00:00:00 -> 2011-12-27 00:00:00)\n",
            "$TFC: possibly delisted; No price data found  (1d 2012-01-01 00:00:00 -> 2012-01-03 00:00:00)\n"
          ]
        },
        {
          "output_type": "stream",
          "name": "stderr",
          "text": [
            "ERROR:yfinance:$TFC: possibly delisted; No price data found  (1d 2012-01-15 00:00:00 -> 2012-01-17 00:00:00)\n"
          ]
        },
        {
          "output_type": "stream",
          "name": "stdout",
          "text": [
            "$TFC: possibly delisted; No price data found  (1d 2012-01-15 00:00:00 -> 2012-01-17 00:00:00)\n"
          ]
        },
        {
          "output_type": "stream",
          "name": "stderr",
          "text": [
            "ERROR:yfinance:$TFC: possibly delisted; No price data found  (1d 2012-02-19 00:00:00 -> 2012-02-21 00:00:00)\n"
          ]
        },
        {
          "output_type": "stream",
          "name": "stdout",
          "text": [
            "$TFC: possibly delisted; No price data found  (1d 2012-02-19 00:00:00 -> 2012-02-21 00:00:00)\n"
          ]
        },
        {
          "output_type": "stream",
          "name": "stderr",
          "text": [
            "ERROR:yfinance:$TFC: possibly delisted; No price data found  (1d 2012-05-27 00:00:00 -> 2012-05-29 00:00:00)\n"
          ]
        },
        {
          "output_type": "stream",
          "name": "stdout",
          "text": [
            "$TFC: possibly delisted; No price data found  (1d 2012-05-27 00:00:00 -> 2012-05-29 00:00:00)\n"
          ]
        },
        {
          "output_type": "stream",
          "name": "stderr",
          "text": [
            "ERROR:yfinance:$TFC: possibly delisted; No price data found  (1d 2012-09-02 00:00:00 -> 2012-09-04 00:00:00)\n"
          ]
        },
        {
          "output_type": "stream",
          "name": "stdout",
          "text": [
            "$TFC: possibly delisted; No price data found  (1d 2012-09-02 00:00:00 -> 2012-09-04 00:00:00)\n"
          ]
        },
        {
          "output_type": "stream",
          "name": "stderr",
          "text": [
            "ERROR:yfinance:$TFC: possibly delisted; No price data found  (1d 2012-10-28 00:00:00 -> 2012-10-30 00:00:00)\n"
          ]
        },
        {
          "output_type": "stream",
          "name": "stdout",
          "text": [
            "$TFC: possibly delisted; No price data found  (1d 2012-10-28 00:00:00 -> 2012-10-30 00:00:00)\n"
          ]
        },
        {
          "output_type": "stream",
          "name": "stderr",
          "text": [
            "ERROR:yfinance:$TFC: possibly delisted; No price data found  (1d 2013-01-20 00:00:00 -> 2013-01-22 00:00:00)\n"
          ]
        },
        {
          "output_type": "stream",
          "name": "stdout",
          "text": [
            "$TFC: possibly delisted; No price data found  (1d 2013-01-20 00:00:00 -> 2013-01-22 00:00:00)\n"
          ]
        },
        {
          "output_type": "stream",
          "name": "stderr",
          "text": [
            "ERROR:yfinance:$TFC: possibly delisted; No price data found  (1d 2013-02-17 00:00:00 -> 2013-02-19 00:00:00)\n"
          ]
        },
        {
          "output_type": "stream",
          "name": "stdout",
          "text": [
            "$TFC: possibly delisted; No price data found  (1d 2013-02-17 00:00:00 -> 2013-02-19 00:00:00)\n"
          ]
        },
        {
          "output_type": "stream",
          "name": "stderr",
          "text": [
            "ERROR:yfinance:$TFC: possibly delisted; No price data found  (1d 2013-05-26 00:00:00 -> 2013-05-28 00:00:00)\n"
          ]
        },
        {
          "output_type": "stream",
          "name": "stdout",
          "text": [
            "$TFC: possibly delisted; No price data found  (1d 2013-05-26 00:00:00 -> 2013-05-28 00:00:00)\n"
          ]
        },
        {
          "output_type": "stream",
          "name": "stderr",
          "text": [
            "ERROR:yfinance:$TFC: possibly delisted; No price data found  (1d 2013-09-01 00:00:00 -> 2013-09-03 00:00:00)\n"
          ]
        },
        {
          "output_type": "stream",
          "name": "stdout",
          "text": [
            "$TFC: possibly delisted; No price data found  (1d 2013-09-01 00:00:00 -> 2013-09-03 00:00:00)\n"
          ]
        },
        {
          "output_type": "stream",
          "name": "stderr",
          "text": [
            "ERROR:yfinance:$TFC: possibly delisted; No price data found  (1d 2014-01-19 00:00:00 -> 2014-01-21 00:00:00)\n"
          ]
        },
        {
          "output_type": "stream",
          "name": "stdout",
          "text": [
            "$TFC: possibly delisted; No price data found  (1d 2014-01-19 00:00:00 -> 2014-01-21 00:00:00)\n"
          ]
        },
        {
          "output_type": "stream",
          "name": "stderr",
          "text": [
            "ERROR:yfinance:$TFC: possibly delisted; No price data found  (1d 2014-02-16 00:00:00 -> 2014-02-18 00:00:00)\n"
          ]
        },
        {
          "output_type": "stream",
          "name": "stdout",
          "text": [
            "$TFC: possibly delisted; No price data found  (1d 2014-02-16 00:00:00 -> 2014-02-18 00:00:00)\n"
          ]
        },
        {
          "output_type": "stream",
          "name": "stderr",
          "text": [
            "ERROR:yfinance:$TFC: possibly delisted; No price data found  (1d 2014-05-25 00:00:00 -> 2014-05-27 00:00:00)\n"
          ]
        },
        {
          "output_type": "stream",
          "name": "stdout",
          "text": [
            "$TFC: possibly delisted; No price data found  (1d 2014-05-25 00:00:00 -> 2014-05-27 00:00:00)\n"
          ]
        },
        {
          "output_type": "stream",
          "name": "stderr",
          "text": [
            "ERROR:yfinance:$TFC: possibly delisted; No price data found  (1d 2014-08-31 00:00:00 -> 2014-09-02 00:00:00)\n"
          ]
        },
        {
          "output_type": "stream",
          "name": "stdout",
          "text": [
            "$TFC: possibly delisted; No price data found  (1d 2014-08-31 00:00:00 -> 2014-09-02 00:00:00)\n"
          ]
        },
        {
          "output_type": "stream",
          "name": "stderr",
          "text": [
            "ERROR:yfinance:$TFC: possibly delisted; No price data found  (1d 2015-01-18 00:00:00 -> 2015-01-20 00:00:00)\n"
          ]
        },
        {
          "output_type": "stream",
          "name": "stdout",
          "text": [
            "$TFC: possibly delisted; No price data found  (1d 2015-01-18 00:00:00 -> 2015-01-20 00:00:00)\n"
          ]
        },
        {
          "output_type": "stream",
          "name": "stderr",
          "text": [
            "ERROR:yfinance:$TFC: possibly delisted; No price data found  (1d 2015-02-15 00:00:00 -> 2015-02-17 00:00:00)\n"
          ]
        },
        {
          "output_type": "stream",
          "name": "stdout",
          "text": [
            "$TFC: possibly delisted; No price data found  (1d 2015-02-15 00:00:00 -> 2015-02-17 00:00:00)\n"
          ]
        },
        {
          "output_type": "stream",
          "name": "stderr",
          "text": [
            "ERROR:yfinance:$TFC: possibly delisted; No price data found  (1d 2015-05-24 00:00:00 -> 2015-05-26 00:00:00)\n"
          ]
        },
        {
          "output_type": "stream",
          "name": "stdout",
          "text": [
            "$TFC: possibly delisted; No price data found  (1d 2015-05-24 00:00:00 -> 2015-05-26 00:00:00)\n"
          ]
        },
        {
          "output_type": "stream",
          "name": "stderr",
          "text": [
            "ERROR:yfinance:$TFC: possibly delisted; No price data found  (1d 2015-09-06 00:00:00 -> 2015-09-08 00:00:00)\n"
          ]
        },
        {
          "output_type": "stream",
          "name": "stdout",
          "text": [
            "$TFC: possibly delisted; No price data found  (1d 2015-09-06 00:00:00 -> 2015-09-08 00:00:00)\n"
          ]
        },
        {
          "output_type": "stream",
          "name": "stderr",
          "text": [
            "ERROR:yfinance:$TFC: possibly delisted; No price data found  (1d 2016-01-17 00:00:00 -> 2016-01-19 00:00:00)\n"
          ]
        },
        {
          "output_type": "stream",
          "name": "stdout",
          "text": [
            "$TFC: possibly delisted; No price data found  (1d 2016-01-17 00:00:00 -> 2016-01-19 00:00:00)\n"
          ]
        },
        {
          "output_type": "stream",
          "name": "stderr",
          "text": [
            "ERROR:yfinance:$TFC: possibly delisted; No price data found  (1d 2016-02-14 00:00:00 -> 2016-02-16 00:00:00)\n"
          ]
        },
        {
          "output_type": "stream",
          "name": "stdout",
          "text": [
            "$TFC: possibly delisted; No price data found  (1d 2016-02-14 00:00:00 -> 2016-02-16 00:00:00)\n"
          ]
        },
        {
          "output_type": "stream",
          "name": "stderr",
          "text": [
            "ERROR:yfinance:$TFC: possibly delisted; No price data found  (1d 2016-05-29 00:00:00 -> 2016-05-31 00:00:00)\n"
          ]
        },
        {
          "output_type": "stream",
          "name": "stdout",
          "text": [
            "$TFC: possibly delisted; No price data found  (1d 2016-05-29 00:00:00 -> 2016-05-31 00:00:00)\n"
          ]
        },
        {
          "output_type": "stream",
          "name": "stderr",
          "text": [
            "ERROR:yfinance:$TFC: possibly delisted; No price data found  (1d 2016-07-03 00:00:00 -> 2016-07-05 00:00:00)\n"
          ]
        },
        {
          "output_type": "stream",
          "name": "stdout",
          "text": [
            "$TFC: possibly delisted; No price data found  (1d 2016-07-03 00:00:00 -> 2016-07-05 00:00:00)\n"
          ]
        },
        {
          "output_type": "stream",
          "name": "stderr",
          "text": [
            "ERROR:yfinance:$TFC: possibly delisted; No price data found  (1d 2016-09-04 00:00:00 -> 2016-09-06 00:00:00)\n"
          ]
        },
        {
          "output_type": "stream",
          "name": "stdout",
          "text": [
            "$TFC: possibly delisted; No price data found  (1d 2016-09-04 00:00:00 -> 2016-09-06 00:00:00)\n"
          ]
        },
        {
          "output_type": "stream",
          "name": "stderr",
          "text": [
            "ERROR:yfinance:$TFC: possibly delisted; No price data found  (1d 2016-12-25 00:00:00 -> 2016-12-27 00:00:00)\n",
            "ERROR:yfinance:$TFC: possibly delisted; No price data found  (1d 2017-01-01 00:00:00 -> 2017-01-03 00:00:00)\n"
          ]
        },
        {
          "output_type": "stream",
          "name": "stdout",
          "text": [
            "$TFC: possibly delisted; No price data found  (1d 2016-12-25 00:00:00 -> 2016-12-27 00:00:00)\n",
            "$TFC: possibly delisted; No price data found  (1d 2017-01-01 00:00:00 -> 2017-01-03 00:00:00)\n"
          ]
        },
        {
          "output_type": "stream",
          "name": "stderr",
          "text": [
            "ERROR:yfinance:$TFC: possibly delisted; No price data found  (1d 2017-01-15 00:00:00 -> 2017-01-17 00:00:00)\n"
          ]
        },
        {
          "output_type": "stream",
          "name": "stdout",
          "text": [
            "$TFC: possibly delisted; No price data found  (1d 2017-01-15 00:00:00 -> 2017-01-17 00:00:00)\n"
          ]
        },
        {
          "output_type": "stream",
          "name": "stderr",
          "text": [
            "ERROR:yfinance:$TFC: possibly delisted; No price data found  (1d 2017-02-19 00:00:00 -> 2017-02-21 00:00:00)\n"
          ]
        },
        {
          "output_type": "stream",
          "name": "stdout",
          "text": [
            "$TFC: possibly delisted; No price data found  (1d 2017-02-19 00:00:00 -> 2017-02-21 00:00:00)\n"
          ]
        },
        {
          "output_type": "stream",
          "name": "stderr",
          "text": [
            "ERROR:yfinance:$TFC: possibly delisted; No price data found  (1d 2017-05-28 00:00:00 -> 2017-05-30 00:00:00)\n"
          ]
        },
        {
          "output_type": "stream",
          "name": "stdout",
          "text": [
            "$TFC: possibly delisted; No price data found  (1d 2017-05-28 00:00:00 -> 2017-05-30 00:00:00)\n"
          ]
        },
        {
          "output_type": "stream",
          "name": "stderr",
          "text": [
            "ERROR:yfinance:$TFC: possibly delisted; No price data found  (1d 2017-09-03 00:00:00 -> 2017-09-05 00:00:00)\n"
          ]
        },
        {
          "output_type": "stream",
          "name": "stdout",
          "text": [
            "$TFC: possibly delisted; No price data found  (1d 2017-09-03 00:00:00 -> 2017-09-05 00:00:00)\n"
          ]
        },
        {
          "output_type": "stream",
          "name": "stderr",
          "text": [
            "ERROR:yfinance:$TFC: possibly delisted; No price data found  (1d 2017-12-24 00:00:00 -> 2017-12-26 00:00:00)\n",
            "ERROR:yfinance:$TFC: possibly delisted; No price data found  (1d 2017-12-31 00:00:00 -> 2018-01-02 00:00:00)\n"
          ]
        },
        {
          "output_type": "stream",
          "name": "stdout",
          "text": [
            "$TFC: possibly delisted; No price data found  (1d 2017-12-24 00:00:00 -> 2017-12-26 00:00:00)\n",
            "$TFC: possibly delisted; No price data found  (1d 2017-12-31 00:00:00 -> 2018-01-02 00:00:00)\n"
          ]
        },
        {
          "output_type": "stream",
          "name": "stderr",
          "text": [
            "ERROR:yfinance:$TFC: possibly delisted; No price data found  (1d 2018-01-14 00:00:00 -> 2018-01-16 00:00:00)\n"
          ]
        },
        {
          "output_type": "stream",
          "name": "stdout",
          "text": [
            "$TFC: possibly delisted; No price data found  (1d 2018-01-14 00:00:00 -> 2018-01-16 00:00:00)\n"
          ]
        },
        {
          "output_type": "stream",
          "name": "stderr",
          "text": [
            "ERROR:yfinance:$TFC: possibly delisted; No price data found  (1d 2018-02-18 00:00:00 -> 2018-02-20 00:00:00)\n"
          ]
        },
        {
          "output_type": "stream",
          "name": "stdout",
          "text": [
            "$TFC: possibly delisted; No price data found  (1d 2018-02-18 00:00:00 -> 2018-02-20 00:00:00)\n"
          ]
        },
        {
          "output_type": "stream",
          "name": "stderr",
          "text": [
            "ERROR:yfinance:$TFC: possibly delisted; No price data found  (1d 2018-05-27 00:00:00 -> 2018-05-29 00:00:00)\n"
          ]
        },
        {
          "output_type": "stream",
          "name": "stdout",
          "text": [
            "$TFC: possibly delisted; No price data found  (1d 2018-05-27 00:00:00 -> 2018-05-29 00:00:00)\n"
          ]
        },
        {
          "output_type": "stream",
          "name": "stderr",
          "text": [
            "ERROR:yfinance:$TFC: possibly delisted; No price data found  (1d 2018-09-02 00:00:00 -> 2018-09-04 00:00:00)\n"
          ]
        },
        {
          "output_type": "stream",
          "name": "stdout",
          "text": [
            "$TFC: possibly delisted; No price data found  (1d 2018-09-02 00:00:00 -> 2018-09-04 00:00:00)\n"
          ]
        },
        {
          "output_type": "stream",
          "name": "stderr",
          "text": [
            "ERROR:yfinance:$TFC: possibly delisted; No price data found  (1d 2019-01-20 00:00:00 -> 2019-01-22 00:00:00)\n"
          ]
        },
        {
          "output_type": "stream",
          "name": "stdout",
          "text": [
            "$TFC: possibly delisted; No price data found  (1d 2019-01-20 00:00:00 -> 2019-01-22 00:00:00)\n"
          ]
        },
        {
          "output_type": "stream",
          "name": "stderr",
          "text": [
            "ERROR:yfinance:$TFC: possibly delisted; No price data found  (1d 2019-02-17 00:00:00 -> 2019-02-19 00:00:00)\n"
          ]
        },
        {
          "output_type": "stream",
          "name": "stdout",
          "text": [
            "$TFC: possibly delisted; No price data found  (1d 2019-02-17 00:00:00 -> 2019-02-19 00:00:00)\n"
          ]
        },
        {
          "output_type": "stream",
          "name": "stderr",
          "text": [
            "ERROR:yfinance:$TFC: possibly delisted; No price data found  (1d 2019-05-26 00:00:00 -> 2019-05-28 00:00:00)\n"
          ]
        },
        {
          "output_type": "stream",
          "name": "stdout",
          "text": [
            "$TFC: possibly delisted; No price data found  (1d 2019-05-26 00:00:00 -> 2019-05-28 00:00:00)\n"
          ]
        },
        {
          "output_type": "stream",
          "name": "stderr",
          "text": [
            "ERROR:yfinance:$TFC: possibly delisted; No price data found  (1d 2019-09-01 00:00:00 -> 2019-09-03 00:00:00)\n"
          ]
        },
        {
          "output_type": "stream",
          "name": "stdout",
          "text": [
            "$TFC: possibly delisted; No price data found  (1d 2019-09-01 00:00:00 -> 2019-09-03 00:00:00)\n"
          ]
        },
        {
          "output_type": "stream",
          "name": "stderr",
          "text": [
            "ERROR:yfinance:$TFC: possibly delisted; No price data found  (1d 2020-01-19 00:00:00 -> 2020-01-21 00:00:00)\n"
          ]
        },
        {
          "output_type": "stream",
          "name": "stdout",
          "text": [
            "$TFC: possibly delisted; No price data found  (1d 2020-01-19 00:00:00 -> 2020-01-21 00:00:00)\n"
          ]
        },
        {
          "output_type": "stream",
          "name": "stderr",
          "text": [
            "ERROR:yfinance:$TFC: possibly delisted; No price data found  (1d 2020-02-16 00:00:00 -> 2020-02-18 00:00:00)\n"
          ]
        },
        {
          "output_type": "stream",
          "name": "stdout",
          "text": [
            "$TFC: possibly delisted; No price data found  (1d 2020-02-16 00:00:00 -> 2020-02-18 00:00:00)\n"
          ]
        },
        {
          "output_type": "stream",
          "name": "stderr",
          "text": [
            "ERROR:yfinance:$TFC: possibly delisted; No price data found  (1d 2020-05-24 00:00:00 -> 2020-05-26 00:00:00)\n"
          ]
        },
        {
          "output_type": "stream",
          "name": "stdout",
          "text": [
            "$TFC: possibly delisted; No price data found  (1d 2020-05-24 00:00:00 -> 2020-05-26 00:00:00)\n"
          ]
        },
        {
          "output_type": "stream",
          "name": "stderr",
          "text": [
            "ERROR:yfinance:$TFC: possibly delisted; No price data found  (1d 2020-09-06 00:00:00 -> 2020-09-08 00:00:00)\n"
          ]
        },
        {
          "output_type": "stream",
          "name": "stdout",
          "text": [
            "$TFC: possibly delisted; No price data found  (1d 2020-09-06 00:00:00 -> 2020-09-08 00:00:00)\n"
          ]
        },
        {
          "output_type": "stream",
          "name": "stderr",
          "text": [
            "ERROR:yfinance:$TFC: possibly delisted; No price data found  (1d 2021-01-17 00:00:00 -> 2021-01-19 00:00:00)\n"
          ]
        },
        {
          "output_type": "stream",
          "name": "stdout",
          "text": [
            "$TFC: possibly delisted; No price data found  (1d 2021-01-17 00:00:00 -> 2021-01-19 00:00:00)\n"
          ]
        },
        {
          "output_type": "stream",
          "name": "stderr",
          "text": [
            "ERROR:yfinance:$TFC: possibly delisted; No price data found  (1d 2021-02-14 00:00:00 -> 2021-02-16 00:00:00)\n"
          ]
        },
        {
          "output_type": "stream",
          "name": "stdout",
          "text": [
            "$TFC: possibly delisted; No price data found  (1d 2021-02-14 00:00:00 -> 2021-02-16 00:00:00)\n"
          ]
        },
        {
          "output_type": "stream",
          "name": "stderr",
          "text": [
            "ERROR:yfinance:$TFC: possibly delisted; No price data found  (1d 2021-05-30 00:00:00 -> 2021-06-01 00:00:00)\n"
          ]
        },
        {
          "output_type": "stream",
          "name": "stdout",
          "text": [
            "$TFC: possibly delisted; No price data found  (1d 2021-05-30 00:00:00 -> 2021-06-01 00:00:00)\n"
          ]
        },
        {
          "output_type": "stream",
          "name": "stderr",
          "text": [
            "ERROR:yfinance:$TFC: possibly delisted; No price data found  (1d 2021-07-04 00:00:00 -> 2021-07-06 00:00:00)\n"
          ]
        },
        {
          "output_type": "stream",
          "name": "stdout",
          "text": [
            "$TFC: possibly delisted; No price data found  (1d 2021-07-04 00:00:00 -> 2021-07-06 00:00:00)\n"
          ]
        },
        {
          "output_type": "stream",
          "name": "stderr",
          "text": [
            "ERROR:yfinance:$TFC: possibly delisted; No price data found  (1d 2021-09-05 00:00:00 -> 2021-09-07 00:00:00)\n"
          ]
        },
        {
          "output_type": "stream",
          "name": "stdout",
          "text": [
            "$TFC: possibly delisted; No price data found  (1d 2021-09-05 00:00:00 -> 2021-09-07 00:00:00)\n"
          ]
        },
        {
          "output_type": "stream",
          "name": "stderr",
          "text": [
            "ERROR:yfinance:$TFC: possibly delisted; No price data found  (1d 2022-01-16 00:00:00 -> 2022-01-18 00:00:00)\n"
          ]
        },
        {
          "output_type": "stream",
          "name": "stdout",
          "text": [
            "$TFC: possibly delisted; No price data found  (1d 2022-01-16 00:00:00 -> 2022-01-18 00:00:00)\n"
          ]
        },
        {
          "output_type": "stream",
          "name": "stderr",
          "text": [
            "ERROR:yfinance:$TFC: possibly delisted; No price data found  (1d 2022-02-20 00:00:00 -> 2022-02-22 00:00:00)\n"
          ]
        },
        {
          "output_type": "stream",
          "name": "stdout",
          "text": [
            "$TFC: possibly delisted; No price data found  (1d 2022-02-20 00:00:00 -> 2022-02-22 00:00:00)\n"
          ]
        },
        {
          "output_type": "stream",
          "name": "stderr",
          "text": [
            "ERROR:yfinance:$TFC: possibly delisted; No price data found  (1d 2022-05-29 00:00:00 -> 2022-05-31 00:00:00)\n"
          ]
        },
        {
          "output_type": "stream",
          "name": "stdout",
          "text": [
            "$TFC: possibly delisted; No price data found  (1d 2022-05-29 00:00:00 -> 2022-05-31 00:00:00)\n"
          ]
        },
        {
          "output_type": "stream",
          "name": "stderr",
          "text": [
            "ERROR:yfinance:$TFC: possibly delisted; No price data found  (1d 2022-06-19 00:00:00 -> 2022-06-21 00:00:00)\n"
          ]
        },
        {
          "output_type": "stream",
          "name": "stdout",
          "text": [
            "$TFC: possibly delisted; No price data found  (1d 2022-06-19 00:00:00 -> 2022-06-21 00:00:00)\n"
          ]
        },
        {
          "output_type": "stream",
          "name": "stderr",
          "text": [
            "ERROR:yfinance:$TFC: possibly delisted; No price data found  (1d 2022-07-03 00:00:00 -> 2022-07-05 00:00:00)\n"
          ]
        },
        {
          "output_type": "stream",
          "name": "stdout",
          "text": [
            "$TFC: possibly delisted; No price data found  (1d 2022-07-03 00:00:00 -> 2022-07-05 00:00:00)\n"
          ]
        },
        {
          "output_type": "stream",
          "name": "stderr",
          "text": [
            "ERROR:yfinance:$TFC: possibly delisted; No price data found  (1d 2022-09-04 00:00:00 -> 2022-09-06 00:00:00)\n"
          ]
        },
        {
          "output_type": "stream",
          "name": "stdout",
          "text": [
            "$TFC: possibly delisted; No price data found  (1d 2022-09-04 00:00:00 -> 2022-09-06 00:00:00)\n"
          ]
        },
        {
          "output_type": "stream",
          "name": "stderr",
          "text": [
            "ERROR:yfinance:$TFC: possibly delisted; No price data found  (1d 2022-12-25 00:00:00 -> 2022-12-27 00:00:00)\n",
            "ERROR:yfinance:$TFC: possibly delisted; No price data found  (1d 2023-01-01 00:00:00 -> 2023-01-03 00:00:00)\n"
          ]
        },
        {
          "output_type": "stream",
          "name": "stdout",
          "text": [
            "$TFC: possibly delisted; No price data found  (1d 2022-12-25 00:00:00 -> 2022-12-27 00:00:00)\n",
            "$TFC: possibly delisted; No price data found  (1d 2023-01-01 00:00:00 -> 2023-01-03 00:00:00)\n"
          ]
        },
        {
          "output_type": "stream",
          "name": "stderr",
          "text": [
            "ERROR:yfinance:$TFC: possibly delisted; No price data found  (1d 2023-01-15 00:00:00 -> 2023-01-17 00:00:00)\n"
          ]
        },
        {
          "output_type": "stream",
          "name": "stdout",
          "text": [
            "$TFC: possibly delisted; No price data found  (1d 2023-01-15 00:00:00 -> 2023-01-17 00:00:00)\n"
          ]
        },
        {
          "output_type": "stream",
          "name": "stderr",
          "text": [
            "ERROR:yfinance:$TFC: possibly delisted; No price data found  (1d 2023-02-19 00:00:00 -> 2023-02-21 00:00:00)\n"
          ]
        },
        {
          "output_type": "stream",
          "name": "stdout",
          "text": [
            "$TFC: possibly delisted; No price data found  (1d 2023-02-19 00:00:00 -> 2023-02-21 00:00:00)\n"
          ]
        },
        {
          "output_type": "stream",
          "name": "stderr",
          "text": [
            "ERROR:yfinance:$TFC: possibly delisted; No price data found  (1d 2023-05-28 00:00:00 -> 2023-05-30 00:00:00)\n"
          ]
        },
        {
          "output_type": "stream",
          "name": "stdout",
          "text": [
            "$TFC: possibly delisted; No price data found  (1d 2023-05-28 00:00:00 -> 2023-05-30 00:00:00)\n"
          ]
        },
        {
          "output_type": "stream",
          "name": "stderr",
          "text": [
            "ERROR:yfinance:$TFC: possibly delisted; No price data found  (1d 2023-06-18 00:00:00 -> 2023-06-20 00:00:00)\n"
          ]
        },
        {
          "output_type": "stream",
          "name": "stdout",
          "text": [
            "$TFC: possibly delisted; No price data found  (1d 2023-06-18 00:00:00 -> 2023-06-20 00:00:00)\n"
          ]
        },
        {
          "output_type": "stream",
          "name": "stderr",
          "text": [
            "ERROR:yfinance:$TFC: possibly delisted; No price data found  (1d 2023-09-03 00:00:00 -> 2023-09-05 00:00:00)\n"
          ]
        },
        {
          "output_type": "stream",
          "name": "stdout",
          "text": [
            "$TFC: possibly delisted; No price data found  (1d 2023-09-03 00:00:00 -> 2023-09-05 00:00:00)\n"
          ]
        },
        {
          "output_type": "stream",
          "name": "stderr",
          "text": [
            "ERROR:yfinance:$TFC: possibly delisted; No price data found  (1d 2023-12-24 00:00:00 -> 2023-12-26 00:00:00)\n",
            "ERROR:yfinance:$TFC: possibly delisted; No price data found  (1d 2023-12-31 00:00:00 -> 2024-01-02 00:00:00)\n"
          ]
        },
        {
          "output_type": "stream",
          "name": "stdout",
          "text": [
            "$TFC: possibly delisted; No price data found  (1d 2023-12-24 00:00:00 -> 2023-12-26 00:00:00)\n",
            "$TFC: possibly delisted; No price data found  (1d 2023-12-31 00:00:00 -> 2024-01-02 00:00:00)\n"
          ]
        },
        {
          "output_type": "stream",
          "name": "stderr",
          "text": [
            "ERROR:yfinance:$TFC: possibly delisted; No price data found  (1d 2024-01-14 00:00:00 -> 2024-01-16 00:00:00)\n"
          ]
        },
        {
          "output_type": "stream",
          "name": "stdout",
          "text": [
            "$TFC: possibly delisted; No price data found  (1d 2024-01-14 00:00:00 -> 2024-01-16 00:00:00)\n"
          ]
        },
        {
          "output_type": "stream",
          "name": "stderr",
          "text": [
            "ERROR:yfinance:$TFC: possibly delisted; No price data found  (1d 2024-02-18 00:00:00 -> 2024-02-20 00:00:00)\n"
          ]
        },
        {
          "output_type": "stream",
          "name": "stdout",
          "text": [
            "$TFC: possibly delisted; No price data found  (1d 2024-02-18 00:00:00 -> 2024-02-20 00:00:00)\n"
          ]
        },
        {
          "output_type": "stream",
          "name": "stderr",
          "text": [
            "ERROR:yfinance:$TFC: possibly delisted; No price data found  (1d 2024-05-26 00:00:00 -> 2024-05-28 00:00:00)\n"
          ]
        },
        {
          "output_type": "stream",
          "name": "stdout",
          "text": [
            "$TFC: possibly delisted; No price data found  (1d 2024-05-26 00:00:00 -> 2024-05-28 00:00:00)\n",
            "         date1    Market_Cap\n",
            "0   2010-08-02  2.089656e+10\n",
            "1   2010-08-09  2.089656e+10\n",
            "2   2010-08-16  1.961886e+10\n",
            "3   2010-08-23  1.864616e+10\n",
            "4   2010-08-30  1.802792e+10\n",
            "..         ...           ...\n",
            "726 2024-07-01  5.256124e+10\n",
            "727 2024-07-08  5.122210e+10\n",
            "728 2024-07-15  5.544040e+10\n",
            "729 2024-07-22  5.862755e+10\n",
            "730 2024-07-29  5.953816e+10\n",
            "\n",
            "[731 rows x 2 columns]\n"
          ]
        }
      ]
    },
    {
      "cell_type": "code",
      "source": [
        "# Getting date2\n",
        "df['date2'] = df['date1'] + pd.Timedelta(weeks=1)\n",
        "\n",
        "df"
      ],
      "metadata": {
        "colab": {
          "base_uri": "https://localhost:8080/",
          "height": 424
        },
        "id": "Ya8dJAKkna3p",
        "outputId": "c1a123d2-9a90-4e5e-cd80-08eb42b29894"
      },
      "execution_count": 43,
      "outputs": [
        {
          "output_type": "execute_result",
          "data": {
            "text/plain": [
              "         date1    Market_Cap      date2\n",
              "0   2010-08-02  2.089656e+10 2010-08-09\n",
              "1   2010-08-09  2.089656e+10 2010-08-16\n",
              "2   2010-08-16  1.961886e+10 2010-08-23\n",
              "3   2010-08-23  1.864616e+10 2010-08-30\n",
              "4   2010-08-30  1.802792e+10 2010-09-06\n",
              "..         ...           ...        ...\n",
              "726 2024-07-01  5.256124e+10 2024-07-08\n",
              "727 2024-07-08  5.122210e+10 2024-07-15\n",
              "728 2024-07-15  5.544040e+10 2024-07-22\n",
              "729 2024-07-22  5.862755e+10 2024-07-29\n",
              "730 2024-07-29  5.953816e+10 2024-08-05\n",
              "\n",
              "[731 rows x 3 columns]"
            ],
            "text/html": [
              "\n",
              "  <div id=\"df-de3387ff-0b88-4628-980f-67851addaaa5\" class=\"colab-df-container\">\n",
              "    <div>\n",
              "<style scoped>\n",
              "    .dataframe tbody tr th:only-of-type {\n",
              "        vertical-align: middle;\n",
              "    }\n",
              "\n",
              "    .dataframe tbody tr th {\n",
              "        vertical-align: top;\n",
              "    }\n",
              "\n",
              "    .dataframe thead th {\n",
              "        text-align: right;\n",
              "    }\n",
              "</style>\n",
              "<table border=\"1\" class=\"dataframe\">\n",
              "  <thead>\n",
              "    <tr style=\"text-align: right;\">\n",
              "      <th></th>\n",
              "      <th>date1</th>\n",
              "      <th>Market_Cap</th>\n",
              "      <th>date2</th>\n",
              "    </tr>\n",
              "  </thead>\n",
              "  <tbody>\n",
              "    <tr>\n",
              "      <th>0</th>\n",
              "      <td>2010-08-02</td>\n",
              "      <td>2.089656e+10</td>\n",
              "      <td>2010-08-09</td>\n",
              "    </tr>\n",
              "    <tr>\n",
              "      <th>1</th>\n",
              "      <td>2010-08-09</td>\n",
              "      <td>2.089656e+10</td>\n",
              "      <td>2010-08-16</td>\n",
              "    </tr>\n",
              "    <tr>\n",
              "      <th>2</th>\n",
              "      <td>2010-08-16</td>\n",
              "      <td>1.961886e+10</td>\n",
              "      <td>2010-08-23</td>\n",
              "    </tr>\n",
              "    <tr>\n",
              "      <th>3</th>\n",
              "      <td>2010-08-23</td>\n",
              "      <td>1.864616e+10</td>\n",
              "      <td>2010-08-30</td>\n",
              "    </tr>\n",
              "    <tr>\n",
              "      <th>4</th>\n",
              "      <td>2010-08-30</td>\n",
              "      <td>1.802792e+10</td>\n",
              "      <td>2010-09-06</td>\n",
              "    </tr>\n",
              "    <tr>\n",
              "      <th>...</th>\n",
              "      <td>...</td>\n",
              "      <td>...</td>\n",
              "      <td>...</td>\n",
              "    </tr>\n",
              "    <tr>\n",
              "      <th>726</th>\n",
              "      <td>2024-07-01</td>\n",
              "      <td>5.256124e+10</td>\n",
              "      <td>2024-07-08</td>\n",
              "    </tr>\n",
              "    <tr>\n",
              "      <th>727</th>\n",
              "      <td>2024-07-08</td>\n",
              "      <td>5.122210e+10</td>\n",
              "      <td>2024-07-15</td>\n",
              "    </tr>\n",
              "    <tr>\n",
              "      <th>728</th>\n",
              "      <td>2024-07-15</td>\n",
              "      <td>5.544040e+10</td>\n",
              "      <td>2024-07-22</td>\n",
              "    </tr>\n",
              "    <tr>\n",
              "      <th>729</th>\n",
              "      <td>2024-07-22</td>\n",
              "      <td>5.862755e+10</td>\n",
              "      <td>2024-07-29</td>\n",
              "    </tr>\n",
              "    <tr>\n",
              "      <th>730</th>\n",
              "      <td>2024-07-29</td>\n",
              "      <td>5.953816e+10</td>\n",
              "      <td>2024-08-05</td>\n",
              "    </tr>\n",
              "  </tbody>\n",
              "</table>\n",
              "<p>731 rows × 3 columns</p>\n",
              "</div>\n",
              "    <div class=\"colab-df-buttons\">\n",
              "\n",
              "  <div class=\"colab-df-container\">\n",
              "    <button class=\"colab-df-convert\" onclick=\"convertToInteractive('df-de3387ff-0b88-4628-980f-67851addaaa5')\"\n",
              "            title=\"Convert this dataframe to an interactive table.\"\n",
              "            style=\"display:none;\">\n",
              "\n",
              "  <svg xmlns=\"http://www.w3.org/2000/svg\" height=\"24px\" viewBox=\"0 -960 960 960\">\n",
              "    <path d=\"M120-120v-720h720v720H120Zm60-500h600v-160H180v160Zm220 220h160v-160H400v160Zm0 220h160v-160H400v160ZM180-400h160v-160H180v160Zm440 0h160v-160H620v160ZM180-180h160v-160H180v160Zm440 0h160v-160H620v160Z\"/>\n",
              "  </svg>\n",
              "    </button>\n",
              "\n",
              "  <style>\n",
              "    .colab-df-container {\n",
              "      display:flex;\n",
              "      gap: 12px;\n",
              "    }\n",
              "\n",
              "    .colab-df-convert {\n",
              "      background-color: #E8F0FE;\n",
              "      border: none;\n",
              "      border-radius: 50%;\n",
              "      cursor: pointer;\n",
              "      display: none;\n",
              "      fill: #1967D2;\n",
              "      height: 32px;\n",
              "      padding: 0 0 0 0;\n",
              "      width: 32px;\n",
              "    }\n",
              "\n",
              "    .colab-df-convert:hover {\n",
              "      background-color: #E2EBFA;\n",
              "      box-shadow: 0px 1px 2px rgba(60, 64, 67, 0.3), 0px 1px 3px 1px rgba(60, 64, 67, 0.15);\n",
              "      fill: #174EA6;\n",
              "    }\n",
              "\n",
              "    .colab-df-buttons div {\n",
              "      margin-bottom: 4px;\n",
              "    }\n",
              "\n",
              "    [theme=dark] .colab-df-convert {\n",
              "      background-color: #3B4455;\n",
              "      fill: #D2E3FC;\n",
              "    }\n",
              "\n",
              "    [theme=dark] .colab-df-convert:hover {\n",
              "      background-color: #434B5C;\n",
              "      box-shadow: 0px 1px 3px 1px rgba(0, 0, 0, 0.15);\n",
              "      filter: drop-shadow(0px 1px 2px rgba(0, 0, 0, 0.3));\n",
              "      fill: #FFFFFF;\n",
              "    }\n",
              "  </style>\n",
              "\n",
              "    <script>\n",
              "      const buttonEl =\n",
              "        document.querySelector('#df-de3387ff-0b88-4628-980f-67851addaaa5 button.colab-df-convert');\n",
              "      buttonEl.style.display =\n",
              "        google.colab.kernel.accessAllowed ? 'block' : 'none';\n",
              "\n",
              "      async function convertToInteractive(key) {\n",
              "        const element = document.querySelector('#df-de3387ff-0b88-4628-980f-67851addaaa5');\n",
              "        const dataTable =\n",
              "          await google.colab.kernel.invokeFunction('convertToInteractive',\n",
              "                                                    [key], {});\n",
              "        if (!dataTable) return;\n",
              "\n",
              "        const docLinkHtml = 'Like what you see? Visit the ' +\n",
              "          '<a target=\"_blank\" href=https://colab.research.google.com/notebooks/data_table.ipynb>data table notebook</a>'\n",
              "          + ' to learn more about interactive tables.';\n",
              "        element.innerHTML = '';\n",
              "        dataTable['output_type'] = 'display_data';\n",
              "        await google.colab.output.renderOutput(dataTable, element);\n",
              "        const docLink = document.createElement('div');\n",
              "        docLink.innerHTML = docLinkHtml;\n",
              "        element.appendChild(docLink);\n",
              "      }\n",
              "    </script>\n",
              "  </div>\n",
              "\n",
              "\n",
              "<div id=\"df-940588cf-b0c9-4edc-ae45-34aa8930fc42\">\n",
              "  <button class=\"colab-df-quickchart\" onclick=\"quickchart('df-940588cf-b0c9-4edc-ae45-34aa8930fc42')\"\n",
              "            title=\"Suggest charts\"\n",
              "            style=\"display:none;\">\n",
              "\n",
              "<svg xmlns=\"http://www.w3.org/2000/svg\" height=\"24px\"viewBox=\"0 0 24 24\"\n",
              "     width=\"24px\">\n",
              "    <g>\n",
              "        <path d=\"M19 3H5c-1.1 0-2 .9-2 2v14c0 1.1.9 2 2 2h14c1.1 0 2-.9 2-2V5c0-1.1-.9-2-2-2zM9 17H7v-7h2v7zm4 0h-2V7h2v10zm4 0h-2v-4h2v4z\"/>\n",
              "    </g>\n",
              "</svg>\n",
              "  </button>\n",
              "\n",
              "<style>\n",
              "  .colab-df-quickchart {\n",
              "      --bg-color: #E8F0FE;\n",
              "      --fill-color: #1967D2;\n",
              "      --hover-bg-color: #E2EBFA;\n",
              "      --hover-fill-color: #174EA6;\n",
              "      --disabled-fill-color: #AAA;\n",
              "      --disabled-bg-color: #DDD;\n",
              "  }\n",
              "\n",
              "  [theme=dark] .colab-df-quickchart {\n",
              "      --bg-color: #3B4455;\n",
              "      --fill-color: #D2E3FC;\n",
              "      --hover-bg-color: #434B5C;\n",
              "      --hover-fill-color: #FFFFFF;\n",
              "      --disabled-bg-color: #3B4455;\n",
              "      --disabled-fill-color: #666;\n",
              "  }\n",
              "\n",
              "  .colab-df-quickchart {\n",
              "    background-color: var(--bg-color);\n",
              "    border: none;\n",
              "    border-radius: 50%;\n",
              "    cursor: pointer;\n",
              "    display: none;\n",
              "    fill: var(--fill-color);\n",
              "    height: 32px;\n",
              "    padding: 0;\n",
              "    width: 32px;\n",
              "  }\n",
              "\n",
              "  .colab-df-quickchart:hover {\n",
              "    background-color: var(--hover-bg-color);\n",
              "    box-shadow: 0 1px 2px rgba(60, 64, 67, 0.3), 0 1px 3px 1px rgba(60, 64, 67, 0.15);\n",
              "    fill: var(--button-hover-fill-color);\n",
              "  }\n",
              "\n",
              "  .colab-df-quickchart-complete:disabled,\n",
              "  .colab-df-quickchart-complete:disabled:hover {\n",
              "    background-color: var(--disabled-bg-color);\n",
              "    fill: var(--disabled-fill-color);\n",
              "    box-shadow: none;\n",
              "  }\n",
              "\n",
              "  .colab-df-spinner {\n",
              "    border: 2px solid var(--fill-color);\n",
              "    border-color: transparent;\n",
              "    border-bottom-color: var(--fill-color);\n",
              "    animation:\n",
              "      spin 1s steps(1) infinite;\n",
              "  }\n",
              "\n",
              "  @keyframes spin {\n",
              "    0% {\n",
              "      border-color: transparent;\n",
              "      border-bottom-color: var(--fill-color);\n",
              "      border-left-color: var(--fill-color);\n",
              "    }\n",
              "    20% {\n",
              "      border-color: transparent;\n",
              "      border-left-color: var(--fill-color);\n",
              "      border-top-color: var(--fill-color);\n",
              "    }\n",
              "    30% {\n",
              "      border-color: transparent;\n",
              "      border-left-color: var(--fill-color);\n",
              "      border-top-color: var(--fill-color);\n",
              "      border-right-color: var(--fill-color);\n",
              "    }\n",
              "    40% {\n",
              "      border-color: transparent;\n",
              "      border-right-color: var(--fill-color);\n",
              "      border-top-color: var(--fill-color);\n",
              "    }\n",
              "    60% {\n",
              "      border-color: transparent;\n",
              "      border-right-color: var(--fill-color);\n",
              "    }\n",
              "    80% {\n",
              "      border-color: transparent;\n",
              "      border-right-color: var(--fill-color);\n",
              "      border-bottom-color: var(--fill-color);\n",
              "    }\n",
              "    90% {\n",
              "      border-color: transparent;\n",
              "      border-bottom-color: var(--fill-color);\n",
              "    }\n",
              "  }\n",
              "</style>\n",
              "\n",
              "  <script>\n",
              "    async function quickchart(key) {\n",
              "      const quickchartButtonEl =\n",
              "        document.querySelector('#' + key + ' button');\n",
              "      quickchartButtonEl.disabled = true;  // To prevent multiple clicks.\n",
              "      quickchartButtonEl.classList.add('colab-df-spinner');\n",
              "      try {\n",
              "        const charts = await google.colab.kernel.invokeFunction(\n",
              "            'suggestCharts', [key], {});\n",
              "      } catch (error) {\n",
              "        console.error('Error during call to suggestCharts:', error);\n",
              "      }\n",
              "      quickchartButtonEl.classList.remove('colab-df-spinner');\n",
              "      quickchartButtonEl.classList.add('colab-df-quickchart-complete');\n",
              "    }\n",
              "    (() => {\n",
              "      let quickchartButtonEl =\n",
              "        document.querySelector('#df-940588cf-b0c9-4edc-ae45-34aa8930fc42 button');\n",
              "      quickchartButtonEl.style.display =\n",
              "        google.colab.kernel.accessAllowed ? 'block' : 'none';\n",
              "    })();\n",
              "  </script>\n",
              "</div>\n",
              "\n",
              "  <div id=\"id_291f62e4-b544-42c1-a623-9550646c296b\">\n",
              "    <style>\n",
              "      .colab-df-generate {\n",
              "        background-color: #E8F0FE;\n",
              "        border: none;\n",
              "        border-radius: 50%;\n",
              "        cursor: pointer;\n",
              "        display: none;\n",
              "        fill: #1967D2;\n",
              "        height: 32px;\n",
              "        padding: 0 0 0 0;\n",
              "        width: 32px;\n",
              "      }\n",
              "\n",
              "      .colab-df-generate:hover {\n",
              "        background-color: #E2EBFA;\n",
              "        box-shadow: 0px 1px 2px rgba(60, 64, 67, 0.3), 0px 1px 3px 1px rgba(60, 64, 67, 0.15);\n",
              "        fill: #174EA6;\n",
              "      }\n",
              "\n",
              "      [theme=dark] .colab-df-generate {\n",
              "        background-color: #3B4455;\n",
              "        fill: #D2E3FC;\n",
              "      }\n",
              "\n",
              "      [theme=dark] .colab-df-generate:hover {\n",
              "        background-color: #434B5C;\n",
              "        box-shadow: 0px 1px 3px 1px rgba(0, 0, 0, 0.15);\n",
              "        filter: drop-shadow(0px 1px 2px rgba(0, 0, 0, 0.3));\n",
              "        fill: #FFFFFF;\n",
              "      }\n",
              "    </style>\n",
              "    <button class=\"colab-df-generate\" onclick=\"generateWithVariable('df')\"\n",
              "            title=\"Generate code using this dataframe.\"\n",
              "            style=\"display:none;\">\n",
              "\n",
              "  <svg xmlns=\"http://www.w3.org/2000/svg\" height=\"24px\"viewBox=\"0 0 24 24\"\n",
              "       width=\"24px\">\n",
              "    <path d=\"M7,19H8.4L18.45,9,17,7.55,7,17.6ZM5,21V16.75L18.45,3.32a2,2,0,0,1,2.83,0l1.4,1.43a1.91,1.91,0,0,1,.58,1.4,1.91,1.91,0,0,1-.58,1.4L9.25,21ZM18.45,9,17,7.55Zm-12,3A5.31,5.31,0,0,0,4.9,8.1,5.31,5.31,0,0,0,1,6.5,5.31,5.31,0,0,0,4.9,4.9,5.31,5.31,0,0,0,6.5,1,5.31,5.31,0,0,0,8.1,4.9,5.31,5.31,0,0,0,12,6.5,5.46,5.46,0,0,0,6.5,12Z\"/>\n",
              "  </svg>\n",
              "    </button>\n",
              "    <script>\n",
              "      (() => {\n",
              "      const buttonEl =\n",
              "        document.querySelector('#id_291f62e4-b544-42c1-a623-9550646c296b button.colab-df-generate');\n",
              "      buttonEl.style.display =\n",
              "        google.colab.kernel.accessAllowed ? 'block' : 'none';\n",
              "\n",
              "      buttonEl.onclick = () => {\n",
              "        google.colab.notebook.generateWithVariable('df');\n",
              "      }\n",
              "      })();\n",
              "    </script>\n",
              "  </div>\n",
              "\n",
              "    </div>\n",
              "  </div>\n"
            ],
            "application/vnd.google.colaboratory.intrinsic+json": {
              "type": "dataframe",
              "variable_name": "df",
              "summary": "{\n  \"name\": \"df\",\n  \"rows\": 731,\n  \"fields\": [\n    {\n      \"column\": \"date1\",\n      \"properties\": {\n        \"dtype\": \"date\",\n        \"min\": \"2010-08-02 00:00:00\",\n        \"max\": \"2024-07-29 00:00:00\",\n        \"num_unique_values\": 731,\n        \"samples\": [\n          \"2024-01-22 00:00:00\",\n          \"2011-03-21 00:00:00\",\n          \"2016-05-02 00:00:00\"\n        ],\n        \"semantic_type\": \"\",\n        \"description\": \"\"\n      }\n    },\n    {\n      \"column\": \"Market_Cap\",\n      \"properties\": {\n        \"dtype\": \"number\",\n        \"std\": 16372716319.047026,\n        \"min\": 16186880671.529907,\n        \"max\": 86791721855.7793,\n        \"num_unique_values\": 654,\n        \"samples\": [\n          53022599899.12842,\n          26378274305.884766,\n          78176617349.88379\n        ],\n        \"semantic_type\": \"\",\n        \"description\": \"\"\n      }\n    },\n    {\n      \"column\": \"date2\",\n      \"properties\": {\n        \"dtype\": \"date\",\n        \"min\": \"2010-08-09 00:00:00\",\n        \"max\": \"2024-08-05 00:00:00\",\n        \"num_unique_values\": 731,\n        \"samples\": [\n          \"2024-01-29 00:00:00\",\n          \"2011-03-28 00:00:00\",\n          \"2016-05-09 00:00:00\"\n        ],\n        \"semantic_type\": \"\",\n        \"description\": \"\"\n      }\n    }\n  ]\n}"
            }
          },
          "metadata": {},
          "execution_count": 43
        }
      ]
    },
    {
      "cell_type": "code",
      "source": [
        "# Getting the market cap for the relevant stock for date2\n",
        "\n",
        "market_caps_date2 = []\n",
        "\n",
        "for date in df['date2']:\n",
        "    try:\n",
        "        stock = yf.Ticker(ticker)\n",
        "        hist_date = stock.history(start=date - timedelta(days=1), end=date + timedelta(days=1))\n",
        "        if not hist_date.empty:\n",
        "            market_cap = hist_date.iloc[0]['Close'] * stock.info['sharesOutstanding']\n",
        "            market_caps_date2.append(market_cap)\n",
        "        else:\n",
        "            market_caps_date2.append(None)\n",
        "    except Exception as e:\n",
        "        print(f\"Error fetching data for {ticker} on {date}: {e}\")\n",
        "        market_caps_date2.append(None)\n",
        "\n",
        "df['Market_Cap_Date2'] = market_caps_date2\n",
        "\n",
        "# Display the DataFrame with the market caps\n",
        "print(df)"
      ],
      "metadata": {
        "colab": {
          "base_uri": "https://localhost:8080/"
        },
        "id": "PVxjqYmIGCee",
        "outputId": "16eaaead-4f2b-4607-8939-0b17722a29c1"
      },
      "execution_count": 44,
      "outputs": [
        {
          "output_type": "stream",
          "name": "stderr",
          "text": [
            "ERROR:yfinance:$TFC: possibly delisted; No price data found  (1d 2010-09-05 00:00:00 -> 2010-09-07 00:00:00)\n"
          ]
        },
        {
          "output_type": "stream",
          "name": "stdout",
          "text": [
            "$TFC: possibly delisted; No price data found  (1d 2010-09-05 00:00:00 -> 2010-09-07 00:00:00)\n"
          ]
        },
        {
          "output_type": "stream",
          "name": "stderr",
          "text": [
            "ERROR:yfinance:$TFC: possibly delisted; No price data found  (1d 2011-01-16 00:00:00 -> 2011-01-18 00:00:00)\n"
          ]
        },
        {
          "output_type": "stream",
          "name": "stdout",
          "text": [
            "$TFC: possibly delisted; No price data found  (1d 2011-01-16 00:00:00 -> 2011-01-18 00:00:00)\n"
          ]
        },
        {
          "output_type": "stream",
          "name": "stderr",
          "text": [
            "ERROR:yfinance:$TFC: possibly delisted; No price data found  (1d 2011-02-20 00:00:00 -> 2011-02-22 00:00:00)\n"
          ]
        },
        {
          "output_type": "stream",
          "name": "stdout",
          "text": [
            "$TFC: possibly delisted; No price data found  (1d 2011-02-20 00:00:00 -> 2011-02-22 00:00:00)\n"
          ]
        },
        {
          "output_type": "stream",
          "name": "stderr",
          "text": [
            "ERROR:yfinance:$TFC: possibly delisted; No price data found  (1d 2011-05-29 00:00:00 -> 2011-05-31 00:00:00)\n"
          ]
        },
        {
          "output_type": "stream",
          "name": "stdout",
          "text": [
            "$TFC: possibly delisted; No price data found  (1d 2011-05-29 00:00:00 -> 2011-05-31 00:00:00)\n"
          ]
        },
        {
          "output_type": "stream",
          "name": "stderr",
          "text": [
            "ERROR:yfinance:$TFC: possibly delisted; No price data found  (1d 2011-07-03 00:00:00 -> 2011-07-05 00:00:00)\n"
          ]
        },
        {
          "output_type": "stream",
          "name": "stdout",
          "text": [
            "$TFC: possibly delisted; No price data found  (1d 2011-07-03 00:00:00 -> 2011-07-05 00:00:00)\n"
          ]
        },
        {
          "output_type": "stream",
          "name": "stderr",
          "text": [
            "ERROR:yfinance:$TFC: possibly delisted; No price data found  (1d 2011-09-04 00:00:00 -> 2011-09-06 00:00:00)\n"
          ]
        },
        {
          "output_type": "stream",
          "name": "stdout",
          "text": [
            "$TFC: possibly delisted; No price data found  (1d 2011-09-04 00:00:00 -> 2011-09-06 00:00:00)\n"
          ]
        },
        {
          "output_type": "stream",
          "name": "stderr",
          "text": [
            "ERROR:yfinance:$TFC: possibly delisted; No price data found  (1d 2011-12-25 00:00:00 -> 2011-12-27 00:00:00)\n",
            "ERROR:yfinance:$TFC: possibly delisted; No price data found  (1d 2012-01-01 00:00:00 -> 2012-01-03 00:00:00)\n"
          ]
        },
        {
          "output_type": "stream",
          "name": "stdout",
          "text": [
            "$TFC: possibly delisted; No price data found  (1d 2011-12-25 00:00:00 -> 2011-12-27 00:00:00)\n",
            "$TFC: possibly delisted; No price data found  (1d 2012-01-01 00:00:00 -> 2012-01-03 00:00:00)\n"
          ]
        },
        {
          "output_type": "stream",
          "name": "stderr",
          "text": [
            "ERROR:yfinance:$TFC: possibly delisted; No price data found  (1d 2012-01-15 00:00:00 -> 2012-01-17 00:00:00)\n"
          ]
        },
        {
          "output_type": "stream",
          "name": "stdout",
          "text": [
            "$TFC: possibly delisted; No price data found  (1d 2012-01-15 00:00:00 -> 2012-01-17 00:00:00)\n"
          ]
        },
        {
          "output_type": "stream",
          "name": "stderr",
          "text": [
            "ERROR:yfinance:$TFC: possibly delisted; No price data found  (1d 2012-02-19 00:00:00 -> 2012-02-21 00:00:00)\n"
          ]
        },
        {
          "output_type": "stream",
          "name": "stdout",
          "text": [
            "$TFC: possibly delisted; No price data found  (1d 2012-02-19 00:00:00 -> 2012-02-21 00:00:00)\n"
          ]
        },
        {
          "output_type": "stream",
          "name": "stderr",
          "text": [
            "ERROR:yfinance:$TFC: possibly delisted; No price data found  (1d 2012-05-27 00:00:00 -> 2012-05-29 00:00:00)\n"
          ]
        },
        {
          "output_type": "stream",
          "name": "stdout",
          "text": [
            "$TFC: possibly delisted; No price data found  (1d 2012-05-27 00:00:00 -> 2012-05-29 00:00:00)\n"
          ]
        },
        {
          "output_type": "stream",
          "name": "stderr",
          "text": [
            "ERROR:yfinance:$TFC: possibly delisted; No price data found  (1d 2012-09-02 00:00:00 -> 2012-09-04 00:00:00)\n"
          ]
        },
        {
          "output_type": "stream",
          "name": "stdout",
          "text": [
            "$TFC: possibly delisted; No price data found  (1d 2012-09-02 00:00:00 -> 2012-09-04 00:00:00)\n"
          ]
        },
        {
          "output_type": "stream",
          "name": "stderr",
          "text": [
            "ERROR:yfinance:$TFC: possibly delisted; No price data found  (1d 2012-10-28 00:00:00 -> 2012-10-30 00:00:00)\n"
          ]
        },
        {
          "output_type": "stream",
          "name": "stdout",
          "text": [
            "$TFC: possibly delisted; No price data found  (1d 2012-10-28 00:00:00 -> 2012-10-30 00:00:00)\n"
          ]
        },
        {
          "output_type": "stream",
          "name": "stderr",
          "text": [
            "ERROR:yfinance:$TFC: possibly delisted; No price data found  (1d 2013-01-20 00:00:00 -> 2013-01-22 00:00:00)\n"
          ]
        },
        {
          "output_type": "stream",
          "name": "stdout",
          "text": [
            "$TFC: possibly delisted; No price data found  (1d 2013-01-20 00:00:00 -> 2013-01-22 00:00:00)\n"
          ]
        },
        {
          "output_type": "stream",
          "name": "stderr",
          "text": [
            "ERROR:yfinance:$TFC: possibly delisted; No price data found  (1d 2013-02-17 00:00:00 -> 2013-02-19 00:00:00)\n"
          ]
        },
        {
          "output_type": "stream",
          "name": "stdout",
          "text": [
            "$TFC: possibly delisted; No price data found  (1d 2013-02-17 00:00:00 -> 2013-02-19 00:00:00)\n"
          ]
        },
        {
          "output_type": "stream",
          "name": "stderr",
          "text": [
            "ERROR:yfinance:$TFC: possibly delisted; No price data found  (1d 2013-05-26 00:00:00 -> 2013-05-28 00:00:00)\n"
          ]
        },
        {
          "output_type": "stream",
          "name": "stdout",
          "text": [
            "$TFC: possibly delisted; No price data found  (1d 2013-05-26 00:00:00 -> 2013-05-28 00:00:00)\n"
          ]
        },
        {
          "output_type": "stream",
          "name": "stderr",
          "text": [
            "ERROR:yfinance:$TFC: possibly delisted; No price data found  (1d 2013-09-01 00:00:00 -> 2013-09-03 00:00:00)\n"
          ]
        },
        {
          "output_type": "stream",
          "name": "stdout",
          "text": [
            "$TFC: possibly delisted; No price data found  (1d 2013-09-01 00:00:00 -> 2013-09-03 00:00:00)\n"
          ]
        },
        {
          "output_type": "stream",
          "name": "stderr",
          "text": [
            "ERROR:yfinance:$TFC: possibly delisted; No price data found  (1d 2014-01-19 00:00:00 -> 2014-01-21 00:00:00)\n"
          ]
        },
        {
          "output_type": "stream",
          "name": "stdout",
          "text": [
            "$TFC: possibly delisted; No price data found  (1d 2014-01-19 00:00:00 -> 2014-01-21 00:00:00)\n"
          ]
        },
        {
          "output_type": "stream",
          "name": "stderr",
          "text": [
            "ERROR:yfinance:$TFC: possibly delisted; No price data found  (1d 2014-02-16 00:00:00 -> 2014-02-18 00:00:00)\n"
          ]
        },
        {
          "output_type": "stream",
          "name": "stdout",
          "text": [
            "$TFC: possibly delisted; No price data found  (1d 2014-02-16 00:00:00 -> 2014-02-18 00:00:00)\n"
          ]
        },
        {
          "output_type": "stream",
          "name": "stderr",
          "text": [
            "ERROR:yfinance:$TFC: possibly delisted; No price data found  (1d 2014-05-25 00:00:00 -> 2014-05-27 00:00:00)\n"
          ]
        },
        {
          "output_type": "stream",
          "name": "stdout",
          "text": [
            "$TFC: possibly delisted; No price data found  (1d 2014-05-25 00:00:00 -> 2014-05-27 00:00:00)\n"
          ]
        },
        {
          "output_type": "stream",
          "name": "stderr",
          "text": [
            "ERROR:yfinance:$TFC: possibly delisted; No price data found  (1d 2014-08-31 00:00:00 -> 2014-09-02 00:00:00)\n"
          ]
        },
        {
          "output_type": "stream",
          "name": "stdout",
          "text": [
            "$TFC: possibly delisted; No price data found  (1d 2014-08-31 00:00:00 -> 2014-09-02 00:00:00)\n"
          ]
        },
        {
          "output_type": "stream",
          "name": "stderr",
          "text": [
            "ERROR:yfinance:$TFC: possibly delisted; No price data found  (1d 2015-01-18 00:00:00 -> 2015-01-20 00:00:00)\n"
          ]
        },
        {
          "output_type": "stream",
          "name": "stdout",
          "text": [
            "$TFC: possibly delisted; No price data found  (1d 2015-01-18 00:00:00 -> 2015-01-20 00:00:00)\n"
          ]
        },
        {
          "output_type": "stream",
          "name": "stderr",
          "text": [
            "ERROR:yfinance:$TFC: possibly delisted; No price data found  (1d 2015-02-15 00:00:00 -> 2015-02-17 00:00:00)\n"
          ]
        },
        {
          "output_type": "stream",
          "name": "stdout",
          "text": [
            "$TFC: possibly delisted; No price data found  (1d 2015-02-15 00:00:00 -> 2015-02-17 00:00:00)\n"
          ]
        },
        {
          "output_type": "stream",
          "name": "stderr",
          "text": [
            "ERROR:yfinance:$TFC: possibly delisted; No price data found  (1d 2015-05-24 00:00:00 -> 2015-05-26 00:00:00)\n"
          ]
        },
        {
          "output_type": "stream",
          "name": "stdout",
          "text": [
            "$TFC: possibly delisted; No price data found  (1d 2015-05-24 00:00:00 -> 2015-05-26 00:00:00)\n"
          ]
        },
        {
          "output_type": "stream",
          "name": "stderr",
          "text": [
            "ERROR:yfinance:$TFC: possibly delisted; No price data found  (1d 2015-09-06 00:00:00 -> 2015-09-08 00:00:00)\n"
          ]
        },
        {
          "output_type": "stream",
          "name": "stdout",
          "text": [
            "$TFC: possibly delisted; No price data found  (1d 2015-09-06 00:00:00 -> 2015-09-08 00:00:00)\n"
          ]
        },
        {
          "output_type": "stream",
          "name": "stderr",
          "text": [
            "ERROR:yfinance:$TFC: possibly delisted; No price data found  (1d 2016-01-17 00:00:00 -> 2016-01-19 00:00:00)\n"
          ]
        },
        {
          "output_type": "stream",
          "name": "stdout",
          "text": [
            "$TFC: possibly delisted; No price data found  (1d 2016-01-17 00:00:00 -> 2016-01-19 00:00:00)\n"
          ]
        },
        {
          "output_type": "stream",
          "name": "stderr",
          "text": [
            "ERROR:yfinance:$TFC: possibly delisted; No price data found  (1d 2016-02-14 00:00:00 -> 2016-02-16 00:00:00)\n"
          ]
        },
        {
          "output_type": "stream",
          "name": "stdout",
          "text": [
            "$TFC: possibly delisted; No price data found  (1d 2016-02-14 00:00:00 -> 2016-02-16 00:00:00)\n"
          ]
        },
        {
          "output_type": "stream",
          "name": "stderr",
          "text": [
            "ERROR:yfinance:$TFC: possibly delisted; No price data found  (1d 2016-05-29 00:00:00 -> 2016-05-31 00:00:00)\n"
          ]
        },
        {
          "output_type": "stream",
          "name": "stdout",
          "text": [
            "$TFC: possibly delisted; No price data found  (1d 2016-05-29 00:00:00 -> 2016-05-31 00:00:00)\n"
          ]
        },
        {
          "output_type": "stream",
          "name": "stderr",
          "text": [
            "ERROR:yfinance:$TFC: possibly delisted; No price data found  (1d 2016-07-03 00:00:00 -> 2016-07-05 00:00:00)\n"
          ]
        },
        {
          "output_type": "stream",
          "name": "stdout",
          "text": [
            "$TFC: possibly delisted; No price data found  (1d 2016-07-03 00:00:00 -> 2016-07-05 00:00:00)\n"
          ]
        },
        {
          "output_type": "stream",
          "name": "stderr",
          "text": [
            "ERROR:yfinance:$TFC: possibly delisted; No price data found  (1d 2016-09-04 00:00:00 -> 2016-09-06 00:00:00)\n"
          ]
        },
        {
          "output_type": "stream",
          "name": "stdout",
          "text": [
            "$TFC: possibly delisted; No price data found  (1d 2016-09-04 00:00:00 -> 2016-09-06 00:00:00)\n"
          ]
        },
        {
          "output_type": "stream",
          "name": "stderr",
          "text": [
            "ERROR:yfinance:$TFC: possibly delisted; No price data found  (1d 2016-12-25 00:00:00 -> 2016-12-27 00:00:00)\n",
            "ERROR:yfinance:$TFC: possibly delisted; No price data found  (1d 2017-01-01 00:00:00 -> 2017-01-03 00:00:00)\n"
          ]
        },
        {
          "output_type": "stream",
          "name": "stdout",
          "text": [
            "$TFC: possibly delisted; No price data found  (1d 2016-12-25 00:00:00 -> 2016-12-27 00:00:00)\n",
            "$TFC: possibly delisted; No price data found  (1d 2017-01-01 00:00:00 -> 2017-01-03 00:00:00)\n"
          ]
        },
        {
          "output_type": "stream",
          "name": "stderr",
          "text": [
            "ERROR:yfinance:$TFC: possibly delisted; No price data found  (1d 2017-01-15 00:00:00 -> 2017-01-17 00:00:00)\n"
          ]
        },
        {
          "output_type": "stream",
          "name": "stdout",
          "text": [
            "$TFC: possibly delisted; No price data found  (1d 2017-01-15 00:00:00 -> 2017-01-17 00:00:00)\n"
          ]
        },
        {
          "output_type": "stream",
          "name": "stderr",
          "text": [
            "ERROR:yfinance:$TFC: possibly delisted; No price data found  (1d 2017-02-19 00:00:00 -> 2017-02-21 00:00:00)\n"
          ]
        },
        {
          "output_type": "stream",
          "name": "stdout",
          "text": [
            "$TFC: possibly delisted; No price data found  (1d 2017-02-19 00:00:00 -> 2017-02-21 00:00:00)\n"
          ]
        },
        {
          "output_type": "stream",
          "name": "stderr",
          "text": [
            "ERROR:yfinance:$TFC: possibly delisted; No price data found  (1d 2017-05-28 00:00:00 -> 2017-05-30 00:00:00)\n"
          ]
        },
        {
          "output_type": "stream",
          "name": "stdout",
          "text": [
            "$TFC: possibly delisted; No price data found  (1d 2017-05-28 00:00:00 -> 2017-05-30 00:00:00)\n"
          ]
        },
        {
          "output_type": "stream",
          "name": "stderr",
          "text": [
            "ERROR:yfinance:$TFC: possibly delisted; No price data found  (1d 2017-09-03 00:00:00 -> 2017-09-05 00:00:00)\n"
          ]
        },
        {
          "output_type": "stream",
          "name": "stdout",
          "text": [
            "$TFC: possibly delisted; No price data found  (1d 2017-09-03 00:00:00 -> 2017-09-05 00:00:00)\n"
          ]
        },
        {
          "output_type": "stream",
          "name": "stderr",
          "text": [
            "ERROR:yfinance:$TFC: possibly delisted; No price data found  (1d 2017-12-24 00:00:00 -> 2017-12-26 00:00:00)\n"
          ]
        },
        {
          "output_type": "stream",
          "name": "stdout",
          "text": [
            "$TFC: possibly delisted; No price data found  (1d 2017-12-24 00:00:00 -> 2017-12-26 00:00:00)\n",
            "$TFC: possibly delisted; No price data found  (1d 2017-12-31 00:00:00 -> 2018-01-02 00:00:00)"
          ]
        },
        {
          "output_type": "stream",
          "name": "stderr",
          "text": [
            "ERROR:yfinance:$TFC: possibly delisted; No price data found  (1d 2017-12-31 00:00:00 -> 2018-01-02 00:00:00)\n"
          ]
        },
        {
          "output_type": "stream",
          "name": "stdout",
          "text": [
            "\n"
          ]
        },
        {
          "output_type": "stream",
          "name": "stderr",
          "text": [
            "ERROR:yfinance:$TFC: possibly delisted; No price data found  (1d 2018-01-14 00:00:00 -> 2018-01-16 00:00:00)\n"
          ]
        },
        {
          "output_type": "stream",
          "name": "stdout",
          "text": [
            "$TFC: possibly delisted; No price data found  (1d 2018-01-14 00:00:00 -> 2018-01-16 00:00:00)\n"
          ]
        },
        {
          "output_type": "stream",
          "name": "stderr",
          "text": [
            "ERROR:yfinance:$TFC: possibly delisted; No price data found  (1d 2018-02-18 00:00:00 -> 2018-02-20 00:00:00)\n"
          ]
        },
        {
          "output_type": "stream",
          "name": "stdout",
          "text": [
            "$TFC: possibly delisted; No price data found  (1d 2018-02-18 00:00:00 -> 2018-02-20 00:00:00)\n"
          ]
        },
        {
          "output_type": "stream",
          "name": "stderr",
          "text": [
            "ERROR:yfinance:$TFC: possibly delisted; No price data found  (1d 2018-05-27 00:00:00 -> 2018-05-29 00:00:00)\n"
          ]
        },
        {
          "output_type": "stream",
          "name": "stdout",
          "text": [
            "$TFC: possibly delisted; No price data found  (1d 2018-05-27 00:00:00 -> 2018-05-29 00:00:00)\n"
          ]
        },
        {
          "output_type": "stream",
          "name": "stderr",
          "text": [
            "ERROR:yfinance:$TFC: possibly delisted; No price data found  (1d 2018-09-02 00:00:00 -> 2018-09-04 00:00:00)\n"
          ]
        },
        {
          "output_type": "stream",
          "name": "stdout",
          "text": [
            "$TFC: possibly delisted; No price data found  (1d 2018-09-02 00:00:00 -> 2018-09-04 00:00:00)\n"
          ]
        },
        {
          "output_type": "stream",
          "name": "stderr",
          "text": [
            "ERROR:yfinance:$TFC: possibly delisted; No price data found  (1d 2019-01-20 00:00:00 -> 2019-01-22 00:00:00)\n"
          ]
        },
        {
          "output_type": "stream",
          "name": "stdout",
          "text": [
            "$TFC: possibly delisted; No price data found  (1d 2019-01-20 00:00:00 -> 2019-01-22 00:00:00)\n"
          ]
        },
        {
          "output_type": "stream",
          "name": "stderr",
          "text": [
            "ERROR:yfinance:$TFC: possibly delisted; No price data found  (1d 2019-02-17 00:00:00 -> 2019-02-19 00:00:00)\n"
          ]
        },
        {
          "output_type": "stream",
          "name": "stdout",
          "text": [
            "$TFC: possibly delisted; No price data found  (1d 2019-02-17 00:00:00 -> 2019-02-19 00:00:00)\n"
          ]
        },
        {
          "output_type": "stream",
          "name": "stderr",
          "text": [
            "ERROR:yfinance:$TFC: possibly delisted; No price data found  (1d 2019-05-26 00:00:00 -> 2019-05-28 00:00:00)\n"
          ]
        },
        {
          "output_type": "stream",
          "name": "stdout",
          "text": [
            "$TFC: possibly delisted; No price data found  (1d 2019-05-26 00:00:00 -> 2019-05-28 00:00:00)\n"
          ]
        },
        {
          "output_type": "stream",
          "name": "stderr",
          "text": [
            "ERROR:yfinance:$TFC: possibly delisted; No price data found  (1d 2019-09-01 00:00:00 -> 2019-09-03 00:00:00)\n"
          ]
        },
        {
          "output_type": "stream",
          "name": "stdout",
          "text": [
            "$TFC: possibly delisted; No price data found  (1d 2019-09-01 00:00:00 -> 2019-09-03 00:00:00)\n"
          ]
        },
        {
          "output_type": "stream",
          "name": "stderr",
          "text": [
            "ERROR:yfinance:$TFC: possibly delisted; No price data found  (1d 2020-01-19 00:00:00 -> 2020-01-21 00:00:00)\n"
          ]
        },
        {
          "output_type": "stream",
          "name": "stdout",
          "text": [
            "$TFC: possibly delisted; No price data found  (1d 2020-01-19 00:00:00 -> 2020-01-21 00:00:00)\n"
          ]
        },
        {
          "output_type": "stream",
          "name": "stderr",
          "text": [
            "ERROR:yfinance:$TFC: possibly delisted; No price data found  (1d 2020-02-16 00:00:00 -> 2020-02-18 00:00:00)\n"
          ]
        },
        {
          "output_type": "stream",
          "name": "stdout",
          "text": [
            "$TFC: possibly delisted; No price data found  (1d 2020-02-16 00:00:00 -> 2020-02-18 00:00:00)\n"
          ]
        },
        {
          "output_type": "stream",
          "name": "stderr",
          "text": [
            "ERROR:yfinance:$TFC: possibly delisted; No price data found  (1d 2020-05-24 00:00:00 -> 2020-05-26 00:00:00)\n"
          ]
        },
        {
          "output_type": "stream",
          "name": "stdout",
          "text": [
            "$TFC: possibly delisted; No price data found  (1d 2020-05-24 00:00:00 -> 2020-05-26 00:00:00)\n"
          ]
        },
        {
          "output_type": "stream",
          "name": "stderr",
          "text": [
            "ERROR:yfinance:$TFC: possibly delisted; No price data found  (1d 2020-09-06 00:00:00 -> 2020-09-08 00:00:00)\n"
          ]
        },
        {
          "output_type": "stream",
          "name": "stdout",
          "text": [
            "$TFC: possibly delisted; No price data found  (1d 2020-09-06 00:00:00 -> 2020-09-08 00:00:00)\n"
          ]
        },
        {
          "output_type": "stream",
          "name": "stderr",
          "text": [
            "ERROR:yfinance:$TFC: possibly delisted; No price data found  (1d 2021-01-17 00:00:00 -> 2021-01-19 00:00:00)\n"
          ]
        },
        {
          "output_type": "stream",
          "name": "stdout",
          "text": [
            "$TFC: possibly delisted; No price data found  (1d 2021-01-17 00:00:00 -> 2021-01-19 00:00:00)\n"
          ]
        },
        {
          "output_type": "stream",
          "name": "stderr",
          "text": [
            "ERROR:yfinance:$TFC: possibly delisted; No price data found  (1d 2021-02-14 00:00:00 -> 2021-02-16 00:00:00)\n"
          ]
        },
        {
          "output_type": "stream",
          "name": "stdout",
          "text": [
            "$TFC: possibly delisted; No price data found  (1d 2021-02-14 00:00:00 -> 2021-02-16 00:00:00)\n"
          ]
        },
        {
          "output_type": "stream",
          "name": "stderr",
          "text": [
            "ERROR:yfinance:$TFC: possibly delisted; No price data found  (1d 2021-05-30 00:00:00 -> 2021-06-01 00:00:00)\n"
          ]
        },
        {
          "output_type": "stream",
          "name": "stdout",
          "text": [
            "$TFC: possibly delisted; No price data found  (1d 2021-05-30 00:00:00 -> 2021-06-01 00:00:00)\n"
          ]
        },
        {
          "output_type": "stream",
          "name": "stderr",
          "text": [
            "ERROR:yfinance:$TFC: possibly delisted; No price data found  (1d 2021-07-04 00:00:00 -> 2021-07-06 00:00:00)\n"
          ]
        },
        {
          "output_type": "stream",
          "name": "stdout",
          "text": [
            "$TFC: possibly delisted; No price data found  (1d 2021-07-04 00:00:00 -> 2021-07-06 00:00:00)\n"
          ]
        },
        {
          "output_type": "stream",
          "name": "stderr",
          "text": [
            "ERROR:yfinance:$TFC: possibly delisted; No price data found  (1d 2021-09-05 00:00:00 -> 2021-09-07 00:00:00)\n"
          ]
        },
        {
          "output_type": "stream",
          "name": "stdout",
          "text": [
            "$TFC: possibly delisted; No price data found  (1d 2021-09-05 00:00:00 -> 2021-09-07 00:00:00)\n"
          ]
        },
        {
          "output_type": "stream",
          "name": "stderr",
          "text": [
            "ERROR:yfinance:$TFC: possibly delisted; No price data found  (1d 2022-01-16 00:00:00 -> 2022-01-18 00:00:00)\n"
          ]
        },
        {
          "output_type": "stream",
          "name": "stdout",
          "text": [
            "$TFC: possibly delisted; No price data found  (1d 2022-01-16 00:00:00 -> 2022-01-18 00:00:00)\n"
          ]
        },
        {
          "output_type": "stream",
          "name": "stderr",
          "text": [
            "ERROR:yfinance:$TFC: possibly delisted; No price data found  (1d 2022-02-20 00:00:00 -> 2022-02-22 00:00:00)\n"
          ]
        },
        {
          "output_type": "stream",
          "name": "stdout",
          "text": [
            "$TFC: possibly delisted; No price data found  (1d 2022-02-20 00:00:00 -> 2022-02-22 00:00:00)\n"
          ]
        },
        {
          "output_type": "stream",
          "name": "stderr",
          "text": [
            "ERROR:yfinance:$TFC: possibly delisted; No price data found  (1d 2022-05-29 00:00:00 -> 2022-05-31 00:00:00)\n"
          ]
        },
        {
          "output_type": "stream",
          "name": "stdout",
          "text": [
            "$TFC: possibly delisted; No price data found  (1d 2022-05-29 00:00:00 -> 2022-05-31 00:00:00)\n"
          ]
        },
        {
          "output_type": "stream",
          "name": "stderr",
          "text": [
            "ERROR:yfinance:$TFC: possibly delisted; No price data found  (1d 2022-06-19 00:00:00 -> 2022-06-21 00:00:00)\n"
          ]
        },
        {
          "output_type": "stream",
          "name": "stdout",
          "text": [
            "$TFC: possibly delisted; No price data found  (1d 2022-06-19 00:00:00 -> 2022-06-21 00:00:00)\n"
          ]
        },
        {
          "output_type": "stream",
          "name": "stderr",
          "text": [
            "ERROR:yfinance:$TFC: possibly delisted; No price data found  (1d 2022-07-03 00:00:00 -> 2022-07-05 00:00:00)\n"
          ]
        },
        {
          "output_type": "stream",
          "name": "stdout",
          "text": [
            "$TFC: possibly delisted; No price data found  (1d 2022-07-03 00:00:00 -> 2022-07-05 00:00:00)\n"
          ]
        },
        {
          "output_type": "stream",
          "name": "stderr",
          "text": [
            "ERROR:yfinance:$TFC: possibly delisted; No price data found  (1d 2022-09-04 00:00:00 -> 2022-09-06 00:00:00)\n"
          ]
        },
        {
          "output_type": "stream",
          "name": "stdout",
          "text": [
            "$TFC: possibly delisted; No price data found  (1d 2022-09-04 00:00:00 -> 2022-09-06 00:00:00)\n"
          ]
        },
        {
          "output_type": "stream",
          "name": "stderr",
          "text": [
            "ERROR:yfinance:$TFC: possibly delisted; No price data found  (1d 2022-12-25 00:00:00 -> 2022-12-27 00:00:00)\n",
            "ERROR:yfinance:$TFC: possibly delisted; No price data found  (1d 2023-01-01 00:00:00 -> 2023-01-03 00:00:00)\n"
          ]
        },
        {
          "output_type": "stream",
          "name": "stdout",
          "text": [
            "$TFC: possibly delisted; No price data found  (1d 2022-12-25 00:00:00 -> 2022-12-27 00:00:00)\n",
            "$TFC: possibly delisted; No price data found  (1d 2023-01-01 00:00:00 -> 2023-01-03 00:00:00)\n"
          ]
        },
        {
          "output_type": "stream",
          "name": "stderr",
          "text": [
            "ERROR:yfinance:$TFC: possibly delisted; No price data found  (1d 2023-01-15 00:00:00 -> 2023-01-17 00:00:00)\n"
          ]
        },
        {
          "output_type": "stream",
          "name": "stdout",
          "text": [
            "$TFC: possibly delisted; No price data found  (1d 2023-01-15 00:00:00 -> 2023-01-17 00:00:00)\n"
          ]
        },
        {
          "output_type": "stream",
          "name": "stderr",
          "text": [
            "ERROR:yfinance:$TFC: possibly delisted; No price data found  (1d 2023-02-19 00:00:00 -> 2023-02-21 00:00:00)\n"
          ]
        },
        {
          "output_type": "stream",
          "name": "stdout",
          "text": [
            "$TFC: possibly delisted; No price data found  (1d 2023-02-19 00:00:00 -> 2023-02-21 00:00:00)\n"
          ]
        },
        {
          "output_type": "stream",
          "name": "stderr",
          "text": [
            "ERROR:yfinance:$TFC: possibly delisted; No price data found  (1d 2023-05-28 00:00:00 -> 2023-05-30 00:00:00)\n"
          ]
        },
        {
          "output_type": "stream",
          "name": "stdout",
          "text": [
            "$TFC: possibly delisted; No price data found  (1d 2023-05-28 00:00:00 -> 2023-05-30 00:00:00)\n"
          ]
        },
        {
          "output_type": "stream",
          "name": "stderr",
          "text": [
            "ERROR:yfinance:$TFC: possibly delisted; No price data found  (1d 2023-06-18 00:00:00 -> 2023-06-20 00:00:00)\n"
          ]
        },
        {
          "output_type": "stream",
          "name": "stdout",
          "text": [
            "$TFC: possibly delisted; No price data found  (1d 2023-06-18 00:00:00 -> 2023-06-20 00:00:00)\n"
          ]
        },
        {
          "output_type": "stream",
          "name": "stderr",
          "text": [
            "ERROR:yfinance:$TFC: possibly delisted; No price data found  (1d 2023-09-03 00:00:00 -> 2023-09-05 00:00:00)\n"
          ]
        },
        {
          "output_type": "stream",
          "name": "stdout",
          "text": [
            "$TFC: possibly delisted; No price data found  (1d 2023-09-03 00:00:00 -> 2023-09-05 00:00:00)\n"
          ]
        },
        {
          "output_type": "stream",
          "name": "stderr",
          "text": [
            "ERROR:yfinance:$TFC: possibly delisted; No price data found  (1d 2023-12-24 00:00:00 -> 2023-12-26 00:00:00)\n",
            "ERROR:yfinance:$TFC: possibly delisted; No price data found  (1d 2023-12-31 00:00:00 -> 2024-01-02 00:00:00)\n"
          ]
        },
        {
          "output_type": "stream",
          "name": "stdout",
          "text": [
            "$TFC: possibly delisted; No price data found  (1d 2023-12-24 00:00:00 -> 2023-12-26 00:00:00)\n",
            "$TFC: possibly delisted; No price data found  (1d 2023-12-31 00:00:00 -> 2024-01-02 00:00:00)\n"
          ]
        },
        {
          "output_type": "stream",
          "name": "stderr",
          "text": [
            "ERROR:yfinance:$TFC: possibly delisted; No price data found  (1d 2024-01-14 00:00:00 -> 2024-01-16 00:00:00)\n"
          ]
        },
        {
          "output_type": "stream",
          "name": "stdout",
          "text": [
            "$TFC: possibly delisted; No price data found  (1d 2024-01-14 00:00:00 -> 2024-01-16 00:00:00)\n"
          ]
        },
        {
          "output_type": "stream",
          "name": "stderr",
          "text": [
            "ERROR:yfinance:$TFC: possibly delisted; No price data found  (1d 2024-02-18 00:00:00 -> 2024-02-20 00:00:00)\n"
          ]
        },
        {
          "output_type": "stream",
          "name": "stdout",
          "text": [
            "$TFC: possibly delisted; No price data found  (1d 2024-02-18 00:00:00 -> 2024-02-20 00:00:00)\n"
          ]
        },
        {
          "output_type": "stream",
          "name": "stderr",
          "text": [
            "ERROR:yfinance:$TFC: possibly delisted; No price data found  (1d 2024-05-26 00:00:00 -> 2024-05-28 00:00:00)\n"
          ]
        },
        {
          "output_type": "stream",
          "name": "stdout",
          "text": [
            "$TFC: possibly delisted; No price data found  (1d 2024-05-26 00:00:00 -> 2024-05-28 00:00:00)\n",
            "         date1    Market_Cap      date2  Market_Cap_Date2\n",
            "0   2010-08-02  2.089656e+10 2010-08-09      2.393932e+10\n",
            "1   2010-08-09  2.089656e+10 2010-08-16      2.247556e+10\n",
            "2   2010-08-16  1.961886e+10 2010-08-23      2.136123e+10\n",
            "3   2010-08-23  1.864616e+10 2010-08-30      2.065296e+10\n",
            "4   2010-08-30  1.802792e+10 2010-09-06               NaN\n",
            "..         ...           ...        ...               ...\n",
            "726 2024-07-01  5.256124e+10 2024-07-08      5.122210e+10\n",
            "727 2024-07-08  5.122210e+10 2024-07-15      5.544040e+10\n",
            "728 2024-07-15  5.544040e+10 2024-07-22      5.862755e+10\n",
            "729 2024-07-22  5.862755e+10 2024-07-29      5.953816e+10\n",
            "730 2024-07-29  5.953816e+10 2024-08-05      5.514578e+10\n",
            "\n",
            "[731 rows x 4 columns]\n"
          ]
        }
      ]
    },
    {
      "cell_type": "code",
      "source": [
        "# Getting date3\n",
        "df['date3'] = df['date2'] + pd.Timedelta(weeks=1)\n",
        "\n",
        "df"
      ],
      "metadata": {
        "colab": {
          "base_uri": "https://localhost:8080/",
          "height": 424
        },
        "id": "CzB8WW5aoSTa",
        "outputId": "98f0edfc-854a-495e-dd0e-dbcf10e1301e"
      },
      "execution_count": 45,
      "outputs": [
        {
          "output_type": "execute_result",
          "data": {
            "text/plain": [
              "         date1    Market_Cap      date2  Market_Cap_Date2      date3\n",
              "0   2010-08-02  2.089656e+10 2010-08-09      2.393932e+10 2010-08-16\n",
              "1   2010-08-09  2.089656e+10 2010-08-16      2.247556e+10 2010-08-23\n",
              "2   2010-08-16  1.961886e+10 2010-08-23      2.136123e+10 2010-08-30\n",
              "3   2010-08-23  1.864616e+10 2010-08-30      2.065296e+10 2010-09-06\n",
              "4   2010-08-30  1.802792e+10 2010-09-06               NaN 2010-09-13\n",
              "..         ...           ...        ...               ...        ...\n",
              "726 2024-07-01  5.256124e+10 2024-07-08      5.122210e+10 2024-07-15\n",
              "727 2024-07-08  5.122210e+10 2024-07-15      5.544040e+10 2024-07-22\n",
              "728 2024-07-15  5.544040e+10 2024-07-22      5.862755e+10 2024-07-29\n",
              "729 2024-07-22  5.862755e+10 2024-07-29      5.953816e+10 2024-08-05\n",
              "730 2024-07-29  5.953816e+10 2024-08-05      5.514578e+10 2024-08-12\n",
              "\n",
              "[731 rows x 5 columns]"
            ],
            "text/html": [
              "\n",
              "  <div id=\"df-13c883cc-ed2f-4b3a-b9da-bfd1a8f18565\" class=\"colab-df-container\">\n",
              "    <div>\n",
              "<style scoped>\n",
              "    .dataframe tbody tr th:only-of-type {\n",
              "        vertical-align: middle;\n",
              "    }\n",
              "\n",
              "    .dataframe tbody tr th {\n",
              "        vertical-align: top;\n",
              "    }\n",
              "\n",
              "    .dataframe thead th {\n",
              "        text-align: right;\n",
              "    }\n",
              "</style>\n",
              "<table border=\"1\" class=\"dataframe\">\n",
              "  <thead>\n",
              "    <tr style=\"text-align: right;\">\n",
              "      <th></th>\n",
              "      <th>date1</th>\n",
              "      <th>Market_Cap</th>\n",
              "      <th>date2</th>\n",
              "      <th>Market_Cap_Date2</th>\n",
              "      <th>date3</th>\n",
              "    </tr>\n",
              "  </thead>\n",
              "  <tbody>\n",
              "    <tr>\n",
              "      <th>0</th>\n",
              "      <td>2010-08-02</td>\n",
              "      <td>2.089656e+10</td>\n",
              "      <td>2010-08-09</td>\n",
              "      <td>2.393932e+10</td>\n",
              "      <td>2010-08-16</td>\n",
              "    </tr>\n",
              "    <tr>\n",
              "      <th>1</th>\n",
              "      <td>2010-08-09</td>\n",
              "      <td>2.089656e+10</td>\n",
              "      <td>2010-08-16</td>\n",
              "      <td>2.247556e+10</td>\n",
              "      <td>2010-08-23</td>\n",
              "    </tr>\n",
              "    <tr>\n",
              "      <th>2</th>\n",
              "      <td>2010-08-16</td>\n",
              "      <td>1.961886e+10</td>\n",
              "      <td>2010-08-23</td>\n",
              "      <td>2.136123e+10</td>\n",
              "      <td>2010-08-30</td>\n",
              "    </tr>\n",
              "    <tr>\n",
              "      <th>3</th>\n",
              "      <td>2010-08-23</td>\n",
              "      <td>1.864616e+10</td>\n",
              "      <td>2010-08-30</td>\n",
              "      <td>2.065296e+10</td>\n",
              "      <td>2010-09-06</td>\n",
              "    </tr>\n",
              "    <tr>\n",
              "      <th>4</th>\n",
              "      <td>2010-08-30</td>\n",
              "      <td>1.802792e+10</td>\n",
              "      <td>2010-09-06</td>\n",
              "      <td>NaN</td>\n",
              "      <td>2010-09-13</td>\n",
              "    </tr>\n",
              "    <tr>\n",
              "      <th>...</th>\n",
              "      <td>...</td>\n",
              "      <td>...</td>\n",
              "      <td>...</td>\n",
              "      <td>...</td>\n",
              "      <td>...</td>\n",
              "    </tr>\n",
              "    <tr>\n",
              "      <th>726</th>\n",
              "      <td>2024-07-01</td>\n",
              "      <td>5.256124e+10</td>\n",
              "      <td>2024-07-08</td>\n",
              "      <td>5.122210e+10</td>\n",
              "      <td>2024-07-15</td>\n",
              "    </tr>\n",
              "    <tr>\n",
              "      <th>727</th>\n",
              "      <td>2024-07-08</td>\n",
              "      <td>5.122210e+10</td>\n",
              "      <td>2024-07-15</td>\n",
              "      <td>5.544040e+10</td>\n",
              "      <td>2024-07-22</td>\n",
              "    </tr>\n",
              "    <tr>\n",
              "      <th>728</th>\n",
              "      <td>2024-07-15</td>\n",
              "      <td>5.544040e+10</td>\n",
              "      <td>2024-07-22</td>\n",
              "      <td>5.862755e+10</td>\n",
              "      <td>2024-07-29</td>\n",
              "    </tr>\n",
              "    <tr>\n",
              "      <th>729</th>\n",
              "      <td>2024-07-22</td>\n",
              "      <td>5.862755e+10</td>\n",
              "      <td>2024-07-29</td>\n",
              "      <td>5.953816e+10</td>\n",
              "      <td>2024-08-05</td>\n",
              "    </tr>\n",
              "    <tr>\n",
              "      <th>730</th>\n",
              "      <td>2024-07-29</td>\n",
              "      <td>5.953816e+10</td>\n",
              "      <td>2024-08-05</td>\n",
              "      <td>5.514578e+10</td>\n",
              "      <td>2024-08-12</td>\n",
              "    </tr>\n",
              "  </tbody>\n",
              "</table>\n",
              "<p>731 rows × 5 columns</p>\n",
              "</div>\n",
              "    <div class=\"colab-df-buttons\">\n",
              "\n",
              "  <div class=\"colab-df-container\">\n",
              "    <button class=\"colab-df-convert\" onclick=\"convertToInteractive('df-13c883cc-ed2f-4b3a-b9da-bfd1a8f18565')\"\n",
              "            title=\"Convert this dataframe to an interactive table.\"\n",
              "            style=\"display:none;\">\n",
              "\n",
              "  <svg xmlns=\"http://www.w3.org/2000/svg\" height=\"24px\" viewBox=\"0 -960 960 960\">\n",
              "    <path d=\"M120-120v-720h720v720H120Zm60-500h600v-160H180v160Zm220 220h160v-160H400v160Zm0 220h160v-160H400v160ZM180-400h160v-160H180v160Zm440 0h160v-160H620v160ZM180-180h160v-160H180v160Zm440 0h160v-160H620v160Z\"/>\n",
              "  </svg>\n",
              "    </button>\n",
              "\n",
              "  <style>\n",
              "    .colab-df-container {\n",
              "      display:flex;\n",
              "      gap: 12px;\n",
              "    }\n",
              "\n",
              "    .colab-df-convert {\n",
              "      background-color: #E8F0FE;\n",
              "      border: none;\n",
              "      border-radius: 50%;\n",
              "      cursor: pointer;\n",
              "      display: none;\n",
              "      fill: #1967D2;\n",
              "      height: 32px;\n",
              "      padding: 0 0 0 0;\n",
              "      width: 32px;\n",
              "    }\n",
              "\n",
              "    .colab-df-convert:hover {\n",
              "      background-color: #E2EBFA;\n",
              "      box-shadow: 0px 1px 2px rgba(60, 64, 67, 0.3), 0px 1px 3px 1px rgba(60, 64, 67, 0.15);\n",
              "      fill: #174EA6;\n",
              "    }\n",
              "\n",
              "    .colab-df-buttons div {\n",
              "      margin-bottom: 4px;\n",
              "    }\n",
              "\n",
              "    [theme=dark] .colab-df-convert {\n",
              "      background-color: #3B4455;\n",
              "      fill: #D2E3FC;\n",
              "    }\n",
              "\n",
              "    [theme=dark] .colab-df-convert:hover {\n",
              "      background-color: #434B5C;\n",
              "      box-shadow: 0px 1px 3px 1px rgba(0, 0, 0, 0.15);\n",
              "      filter: drop-shadow(0px 1px 2px rgba(0, 0, 0, 0.3));\n",
              "      fill: #FFFFFF;\n",
              "    }\n",
              "  </style>\n",
              "\n",
              "    <script>\n",
              "      const buttonEl =\n",
              "        document.querySelector('#df-13c883cc-ed2f-4b3a-b9da-bfd1a8f18565 button.colab-df-convert');\n",
              "      buttonEl.style.display =\n",
              "        google.colab.kernel.accessAllowed ? 'block' : 'none';\n",
              "\n",
              "      async function convertToInteractive(key) {\n",
              "        const element = document.querySelector('#df-13c883cc-ed2f-4b3a-b9da-bfd1a8f18565');\n",
              "        const dataTable =\n",
              "          await google.colab.kernel.invokeFunction('convertToInteractive',\n",
              "                                                    [key], {});\n",
              "        if (!dataTable) return;\n",
              "\n",
              "        const docLinkHtml = 'Like what you see? Visit the ' +\n",
              "          '<a target=\"_blank\" href=https://colab.research.google.com/notebooks/data_table.ipynb>data table notebook</a>'\n",
              "          + ' to learn more about interactive tables.';\n",
              "        element.innerHTML = '';\n",
              "        dataTable['output_type'] = 'display_data';\n",
              "        await google.colab.output.renderOutput(dataTable, element);\n",
              "        const docLink = document.createElement('div');\n",
              "        docLink.innerHTML = docLinkHtml;\n",
              "        element.appendChild(docLink);\n",
              "      }\n",
              "    </script>\n",
              "  </div>\n",
              "\n",
              "\n",
              "<div id=\"df-b5ef2fee-209f-4e95-8504-fba0d1c2f176\">\n",
              "  <button class=\"colab-df-quickchart\" onclick=\"quickchart('df-b5ef2fee-209f-4e95-8504-fba0d1c2f176')\"\n",
              "            title=\"Suggest charts\"\n",
              "            style=\"display:none;\">\n",
              "\n",
              "<svg xmlns=\"http://www.w3.org/2000/svg\" height=\"24px\"viewBox=\"0 0 24 24\"\n",
              "     width=\"24px\">\n",
              "    <g>\n",
              "        <path d=\"M19 3H5c-1.1 0-2 .9-2 2v14c0 1.1.9 2 2 2h14c1.1 0 2-.9 2-2V5c0-1.1-.9-2-2-2zM9 17H7v-7h2v7zm4 0h-2V7h2v10zm4 0h-2v-4h2v4z\"/>\n",
              "    </g>\n",
              "</svg>\n",
              "  </button>\n",
              "\n",
              "<style>\n",
              "  .colab-df-quickchart {\n",
              "      --bg-color: #E8F0FE;\n",
              "      --fill-color: #1967D2;\n",
              "      --hover-bg-color: #E2EBFA;\n",
              "      --hover-fill-color: #174EA6;\n",
              "      --disabled-fill-color: #AAA;\n",
              "      --disabled-bg-color: #DDD;\n",
              "  }\n",
              "\n",
              "  [theme=dark] .colab-df-quickchart {\n",
              "      --bg-color: #3B4455;\n",
              "      --fill-color: #D2E3FC;\n",
              "      --hover-bg-color: #434B5C;\n",
              "      --hover-fill-color: #FFFFFF;\n",
              "      --disabled-bg-color: #3B4455;\n",
              "      --disabled-fill-color: #666;\n",
              "  }\n",
              "\n",
              "  .colab-df-quickchart {\n",
              "    background-color: var(--bg-color);\n",
              "    border: none;\n",
              "    border-radius: 50%;\n",
              "    cursor: pointer;\n",
              "    display: none;\n",
              "    fill: var(--fill-color);\n",
              "    height: 32px;\n",
              "    padding: 0;\n",
              "    width: 32px;\n",
              "  }\n",
              "\n",
              "  .colab-df-quickchart:hover {\n",
              "    background-color: var(--hover-bg-color);\n",
              "    box-shadow: 0 1px 2px rgba(60, 64, 67, 0.3), 0 1px 3px 1px rgba(60, 64, 67, 0.15);\n",
              "    fill: var(--button-hover-fill-color);\n",
              "  }\n",
              "\n",
              "  .colab-df-quickchart-complete:disabled,\n",
              "  .colab-df-quickchart-complete:disabled:hover {\n",
              "    background-color: var(--disabled-bg-color);\n",
              "    fill: var(--disabled-fill-color);\n",
              "    box-shadow: none;\n",
              "  }\n",
              "\n",
              "  .colab-df-spinner {\n",
              "    border: 2px solid var(--fill-color);\n",
              "    border-color: transparent;\n",
              "    border-bottom-color: var(--fill-color);\n",
              "    animation:\n",
              "      spin 1s steps(1) infinite;\n",
              "  }\n",
              "\n",
              "  @keyframes spin {\n",
              "    0% {\n",
              "      border-color: transparent;\n",
              "      border-bottom-color: var(--fill-color);\n",
              "      border-left-color: var(--fill-color);\n",
              "    }\n",
              "    20% {\n",
              "      border-color: transparent;\n",
              "      border-left-color: var(--fill-color);\n",
              "      border-top-color: var(--fill-color);\n",
              "    }\n",
              "    30% {\n",
              "      border-color: transparent;\n",
              "      border-left-color: var(--fill-color);\n",
              "      border-top-color: var(--fill-color);\n",
              "      border-right-color: var(--fill-color);\n",
              "    }\n",
              "    40% {\n",
              "      border-color: transparent;\n",
              "      border-right-color: var(--fill-color);\n",
              "      border-top-color: var(--fill-color);\n",
              "    }\n",
              "    60% {\n",
              "      border-color: transparent;\n",
              "      border-right-color: var(--fill-color);\n",
              "    }\n",
              "    80% {\n",
              "      border-color: transparent;\n",
              "      border-right-color: var(--fill-color);\n",
              "      border-bottom-color: var(--fill-color);\n",
              "    }\n",
              "    90% {\n",
              "      border-color: transparent;\n",
              "      border-bottom-color: var(--fill-color);\n",
              "    }\n",
              "  }\n",
              "</style>\n",
              "\n",
              "  <script>\n",
              "    async function quickchart(key) {\n",
              "      const quickchartButtonEl =\n",
              "        document.querySelector('#' + key + ' button');\n",
              "      quickchartButtonEl.disabled = true;  // To prevent multiple clicks.\n",
              "      quickchartButtonEl.classList.add('colab-df-spinner');\n",
              "      try {\n",
              "        const charts = await google.colab.kernel.invokeFunction(\n",
              "            'suggestCharts', [key], {});\n",
              "      } catch (error) {\n",
              "        console.error('Error during call to suggestCharts:', error);\n",
              "      }\n",
              "      quickchartButtonEl.classList.remove('colab-df-spinner');\n",
              "      quickchartButtonEl.classList.add('colab-df-quickchart-complete');\n",
              "    }\n",
              "    (() => {\n",
              "      let quickchartButtonEl =\n",
              "        document.querySelector('#df-b5ef2fee-209f-4e95-8504-fba0d1c2f176 button');\n",
              "      quickchartButtonEl.style.display =\n",
              "        google.colab.kernel.accessAllowed ? 'block' : 'none';\n",
              "    })();\n",
              "  </script>\n",
              "</div>\n",
              "\n",
              "  <div id=\"id_0cfbeeeb-e021-40a6-a205-e4f3d795602e\">\n",
              "    <style>\n",
              "      .colab-df-generate {\n",
              "        background-color: #E8F0FE;\n",
              "        border: none;\n",
              "        border-radius: 50%;\n",
              "        cursor: pointer;\n",
              "        display: none;\n",
              "        fill: #1967D2;\n",
              "        height: 32px;\n",
              "        padding: 0 0 0 0;\n",
              "        width: 32px;\n",
              "      }\n",
              "\n",
              "      .colab-df-generate:hover {\n",
              "        background-color: #E2EBFA;\n",
              "        box-shadow: 0px 1px 2px rgba(60, 64, 67, 0.3), 0px 1px 3px 1px rgba(60, 64, 67, 0.15);\n",
              "        fill: #174EA6;\n",
              "      }\n",
              "\n",
              "      [theme=dark] .colab-df-generate {\n",
              "        background-color: #3B4455;\n",
              "        fill: #D2E3FC;\n",
              "      }\n",
              "\n",
              "      [theme=dark] .colab-df-generate:hover {\n",
              "        background-color: #434B5C;\n",
              "        box-shadow: 0px 1px 3px 1px rgba(0, 0, 0, 0.15);\n",
              "        filter: drop-shadow(0px 1px 2px rgba(0, 0, 0, 0.3));\n",
              "        fill: #FFFFFF;\n",
              "      }\n",
              "    </style>\n",
              "    <button class=\"colab-df-generate\" onclick=\"generateWithVariable('df')\"\n",
              "            title=\"Generate code using this dataframe.\"\n",
              "            style=\"display:none;\">\n",
              "\n",
              "  <svg xmlns=\"http://www.w3.org/2000/svg\" height=\"24px\"viewBox=\"0 0 24 24\"\n",
              "       width=\"24px\">\n",
              "    <path d=\"M7,19H8.4L18.45,9,17,7.55,7,17.6ZM5,21V16.75L18.45,3.32a2,2,0,0,1,2.83,0l1.4,1.43a1.91,1.91,0,0,1,.58,1.4,1.91,1.91,0,0,1-.58,1.4L9.25,21ZM18.45,9,17,7.55Zm-12,3A5.31,5.31,0,0,0,4.9,8.1,5.31,5.31,0,0,0,1,6.5,5.31,5.31,0,0,0,4.9,4.9,5.31,5.31,0,0,0,6.5,1,5.31,5.31,0,0,0,8.1,4.9,5.31,5.31,0,0,0,12,6.5,5.46,5.46,0,0,0,6.5,12Z\"/>\n",
              "  </svg>\n",
              "    </button>\n",
              "    <script>\n",
              "      (() => {\n",
              "      const buttonEl =\n",
              "        document.querySelector('#id_0cfbeeeb-e021-40a6-a205-e4f3d795602e button.colab-df-generate');\n",
              "      buttonEl.style.display =\n",
              "        google.colab.kernel.accessAllowed ? 'block' : 'none';\n",
              "\n",
              "      buttonEl.onclick = () => {\n",
              "        google.colab.notebook.generateWithVariable('df');\n",
              "      }\n",
              "      })();\n",
              "    </script>\n",
              "  </div>\n",
              "\n",
              "    </div>\n",
              "  </div>\n"
            ],
            "application/vnd.google.colaboratory.intrinsic+json": {
              "type": "dataframe",
              "variable_name": "df",
              "summary": "{\n  \"name\": \"df\",\n  \"rows\": 731,\n  \"fields\": [\n    {\n      \"column\": \"date1\",\n      \"properties\": {\n        \"dtype\": \"date\",\n        \"min\": \"2010-08-02 00:00:00\",\n        \"max\": \"2024-07-29 00:00:00\",\n        \"num_unique_values\": 731,\n        \"samples\": [\n          \"2024-01-22 00:00:00\",\n          \"2011-03-21 00:00:00\",\n          \"2016-05-02 00:00:00\"\n        ],\n        \"semantic_type\": \"\",\n        \"description\": \"\"\n      }\n    },\n    {\n      \"column\": \"Market_Cap\",\n      \"properties\": {\n        \"dtype\": \"number\",\n        \"std\": 16372716319.047026,\n        \"min\": 16186880671.529907,\n        \"max\": 86791721855.7793,\n        \"num_unique_values\": 654,\n        \"samples\": [\n          53022599899.12842,\n          26378274305.884766,\n          78176617349.88379\n        ],\n        \"semantic_type\": \"\",\n        \"description\": \"\"\n      }\n    },\n    {\n      \"column\": \"date2\",\n      \"properties\": {\n        \"dtype\": \"date\",\n        \"min\": \"2010-08-09 00:00:00\",\n        \"max\": \"2024-08-05 00:00:00\",\n        \"num_unique_values\": 731,\n        \"samples\": [\n          \"2024-01-29 00:00:00\",\n          \"2011-03-28 00:00:00\",\n          \"2016-05-09 00:00:00\"\n        ],\n        \"semantic_type\": \"\",\n        \"description\": \"\"\n      }\n    },\n    {\n      \"column\": \"Market_Cap_Date2\",\n      \"properties\": {\n        \"dtype\": \"number\",\n        \"std\": 15592800195.580288,\n        \"min\": 18543856718.95227,\n        \"max\": 86791721855.7793,\n        \"num_unique_values\": 654,\n        \"samples\": [\n          51344818086.87988,\n          30416518657.82007,\n          74552882446.39453\n        ],\n        \"semantic_type\": \"\",\n        \"description\": \"\"\n      }\n    },\n    {\n      \"column\": \"date3\",\n      \"properties\": {\n        \"dtype\": \"date\",\n        \"min\": \"2010-08-16 00:00:00\",\n        \"max\": \"2024-08-12 00:00:00\",\n        \"num_unique_values\": 731,\n        \"samples\": [\n          \"2024-02-05 00:00:00\",\n          \"2011-04-04 00:00:00\",\n          \"2016-05-16 00:00:00\"\n        ],\n        \"semantic_type\": \"\",\n        \"description\": \"\"\n      }\n    }\n  ]\n}"
            }
          },
          "metadata": {},
          "execution_count": 45
        }
      ]
    },
    {
      "cell_type": "code",
      "source": [
        "# Getting the market cap for the relevant stock for date3\n",
        "\n",
        "market_caps_date3 = []\n",
        "\n",
        "for date in df['date3']:\n",
        "    try:\n",
        "        stock = yf.Ticker(ticker)\n",
        "        hist_date = stock.history(start=date - timedelta(days=1), end=date + timedelta(days=1))\n",
        "        if not hist_date.empty:\n",
        "            market_cap = hist_date.iloc[0]['Close'] * stock.info['sharesOutstanding']\n",
        "            market_caps_date3.append(market_cap)\n",
        "        else:\n",
        "            market_caps_date3.append(None)\n",
        "    except Exception as e:\n",
        "        print(f\"Error fetching data for {ticker} on {date}: {e}\")\n",
        "        market_caps_date3.append(None)\n",
        "\n",
        "df['Market_Cap_Date3'] = market_caps_date3\n",
        "\n",
        "# Display the DataFrame with the market caps\n",
        "df"
      ],
      "metadata": {
        "colab": {
          "base_uri": "https://localhost:8080/",
          "height": 1000
        },
        "id": "YgLgmmGJGCRv",
        "outputId": "8a7d2c9a-8943-4aa5-fde3-850c08a195f3"
      },
      "execution_count": 46,
      "outputs": [
        {
          "output_type": "stream",
          "name": "stderr",
          "text": [
            "ERROR:yfinance:$TFC: possibly delisted; No price data found  (1d 2010-09-05 00:00:00 -> 2010-09-07 00:00:00)\n"
          ]
        },
        {
          "output_type": "stream",
          "name": "stdout",
          "text": [
            "$TFC: possibly delisted; No price data found  (1d 2010-09-05 00:00:00 -> 2010-09-07 00:00:00)\n"
          ]
        },
        {
          "output_type": "stream",
          "name": "stderr",
          "text": [
            "ERROR:yfinance:$TFC: possibly delisted; No price data found  (1d 2011-01-16 00:00:00 -> 2011-01-18 00:00:00)\n"
          ]
        },
        {
          "output_type": "stream",
          "name": "stdout",
          "text": [
            "$TFC: possibly delisted; No price data found  (1d 2011-01-16 00:00:00 -> 2011-01-18 00:00:00)\n"
          ]
        },
        {
          "output_type": "stream",
          "name": "stderr",
          "text": [
            "ERROR:yfinance:$TFC: possibly delisted; No price data found  (1d 2011-02-20 00:00:00 -> 2011-02-22 00:00:00)\n"
          ]
        },
        {
          "output_type": "stream",
          "name": "stdout",
          "text": [
            "$TFC: possibly delisted; No price data found  (1d 2011-02-20 00:00:00 -> 2011-02-22 00:00:00)\n"
          ]
        },
        {
          "output_type": "stream",
          "name": "stderr",
          "text": [
            "ERROR:yfinance:$TFC: possibly delisted; No price data found  (1d 2011-05-29 00:00:00 -> 2011-05-31 00:00:00)\n"
          ]
        },
        {
          "output_type": "stream",
          "name": "stdout",
          "text": [
            "$TFC: possibly delisted; No price data found  (1d 2011-05-29 00:00:00 -> 2011-05-31 00:00:00)\n"
          ]
        },
        {
          "output_type": "stream",
          "name": "stderr",
          "text": [
            "ERROR:yfinance:$TFC: possibly delisted; No price data found  (1d 2011-07-03 00:00:00 -> 2011-07-05 00:00:00)\n"
          ]
        },
        {
          "output_type": "stream",
          "name": "stdout",
          "text": [
            "$TFC: possibly delisted; No price data found  (1d 2011-07-03 00:00:00 -> 2011-07-05 00:00:00)\n"
          ]
        },
        {
          "output_type": "stream",
          "name": "stderr",
          "text": [
            "ERROR:yfinance:$TFC: possibly delisted; No price data found  (1d 2011-09-04 00:00:00 -> 2011-09-06 00:00:00)\n"
          ]
        },
        {
          "output_type": "stream",
          "name": "stdout",
          "text": [
            "$TFC: possibly delisted; No price data found  (1d 2011-09-04 00:00:00 -> 2011-09-06 00:00:00)\n"
          ]
        },
        {
          "output_type": "stream",
          "name": "stderr",
          "text": [
            "ERROR:yfinance:$TFC: possibly delisted; No price data found  (1d 2011-12-25 00:00:00 -> 2011-12-27 00:00:00)\n",
            "ERROR:yfinance:$TFC: possibly delisted; No price data found  (1d 2012-01-01 00:00:00 -> 2012-01-03 00:00:00)\n"
          ]
        },
        {
          "output_type": "stream",
          "name": "stdout",
          "text": [
            "$TFC: possibly delisted; No price data found  (1d 2011-12-25 00:00:00 -> 2011-12-27 00:00:00)\n",
            "$TFC: possibly delisted; No price data found  (1d 2012-01-01 00:00:00 -> 2012-01-03 00:00:00)\n"
          ]
        },
        {
          "output_type": "stream",
          "name": "stderr",
          "text": [
            "ERROR:yfinance:$TFC: possibly delisted; No price data found  (1d 2012-01-15 00:00:00 -> 2012-01-17 00:00:00)\n"
          ]
        },
        {
          "output_type": "stream",
          "name": "stdout",
          "text": [
            "$TFC: possibly delisted; No price data found  (1d 2012-01-15 00:00:00 -> 2012-01-17 00:00:00)\n"
          ]
        },
        {
          "output_type": "stream",
          "name": "stderr",
          "text": [
            "ERROR:yfinance:$TFC: possibly delisted; No price data found  (1d 2012-02-19 00:00:00 -> 2012-02-21 00:00:00)\n"
          ]
        },
        {
          "output_type": "stream",
          "name": "stdout",
          "text": [
            "$TFC: possibly delisted; No price data found  (1d 2012-02-19 00:00:00 -> 2012-02-21 00:00:00)\n"
          ]
        },
        {
          "output_type": "stream",
          "name": "stderr",
          "text": [
            "ERROR:yfinance:$TFC: possibly delisted; No price data found  (1d 2012-05-27 00:00:00 -> 2012-05-29 00:00:00)\n"
          ]
        },
        {
          "output_type": "stream",
          "name": "stdout",
          "text": [
            "$TFC: possibly delisted; No price data found  (1d 2012-05-27 00:00:00 -> 2012-05-29 00:00:00)\n"
          ]
        },
        {
          "output_type": "stream",
          "name": "stderr",
          "text": [
            "ERROR:yfinance:$TFC: possibly delisted; No price data found  (1d 2012-09-02 00:00:00 -> 2012-09-04 00:00:00)\n"
          ]
        },
        {
          "output_type": "stream",
          "name": "stdout",
          "text": [
            "$TFC: possibly delisted; No price data found  (1d 2012-09-02 00:00:00 -> 2012-09-04 00:00:00)\n"
          ]
        },
        {
          "output_type": "stream",
          "name": "stderr",
          "text": [
            "ERROR:yfinance:$TFC: possibly delisted; No price data found  (1d 2012-10-28 00:00:00 -> 2012-10-30 00:00:00)\n"
          ]
        },
        {
          "output_type": "stream",
          "name": "stdout",
          "text": [
            "$TFC: possibly delisted; No price data found  (1d 2012-10-28 00:00:00 -> 2012-10-30 00:00:00)\n"
          ]
        },
        {
          "output_type": "stream",
          "name": "stderr",
          "text": [
            "ERROR:yfinance:$TFC: possibly delisted; No price data found  (1d 2013-01-20 00:00:00 -> 2013-01-22 00:00:00)\n"
          ]
        },
        {
          "output_type": "stream",
          "name": "stdout",
          "text": [
            "$TFC: possibly delisted; No price data found  (1d 2013-01-20 00:00:00 -> 2013-01-22 00:00:00)\n"
          ]
        },
        {
          "output_type": "stream",
          "name": "stderr",
          "text": [
            "ERROR:yfinance:$TFC: possibly delisted; No price data found  (1d 2013-02-17 00:00:00 -> 2013-02-19 00:00:00)\n"
          ]
        },
        {
          "output_type": "stream",
          "name": "stdout",
          "text": [
            "$TFC: possibly delisted; No price data found  (1d 2013-02-17 00:00:00 -> 2013-02-19 00:00:00)\n"
          ]
        },
        {
          "output_type": "stream",
          "name": "stderr",
          "text": [
            "ERROR:yfinance:$TFC: possibly delisted; No price data found  (1d 2013-05-26 00:00:00 -> 2013-05-28 00:00:00)\n"
          ]
        },
        {
          "output_type": "stream",
          "name": "stdout",
          "text": [
            "$TFC: possibly delisted; No price data found  (1d 2013-05-26 00:00:00 -> 2013-05-28 00:00:00)\n"
          ]
        },
        {
          "output_type": "stream",
          "name": "stderr",
          "text": [
            "ERROR:yfinance:$TFC: possibly delisted; No price data found  (1d 2013-09-01 00:00:00 -> 2013-09-03 00:00:00)\n"
          ]
        },
        {
          "output_type": "stream",
          "name": "stdout",
          "text": [
            "$TFC: possibly delisted; No price data found  (1d 2013-09-01 00:00:00 -> 2013-09-03 00:00:00)\n"
          ]
        },
        {
          "output_type": "stream",
          "name": "stderr",
          "text": [
            "ERROR:yfinance:$TFC: possibly delisted; No price data found  (1d 2014-01-19 00:00:00 -> 2014-01-21 00:00:00)\n"
          ]
        },
        {
          "output_type": "stream",
          "name": "stdout",
          "text": [
            "$TFC: possibly delisted; No price data found  (1d 2014-01-19 00:00:00 -> 2014-01-21 00:00:00)\n"
          ]
        },
        {
          "output_type": "stream",
          "name": "stderr",
          "text": [
            "ERROR:yfinance:$TFC: possibly delisted; No price data found  (1d 2014-02-16 00:00:00 -> 2014-02-18 00:00:00)\n"
          ]
        },
        {
          "output_type": "stream",
          "name": "stdout",
          "text": [
            "$TFC: possibly delisted; No price data found  (1d 2014-02-16 00:00:00 -> 2014-02-18 00:00:00)\n"
          ]
        },
        {
          "output_type": "stream",
          "name": "stderr",
          "text": [
            "ERROR:yfinance:$TFC: possibly delisted; No price data found  (1d 2014-05-25 00:00:00 -> 2014-05-27 00:00:00)\n"
          ]
        },
        {
          "output_type": "stream",
          "name": "stdout",
          "text": [
            "$TFC: possibly delisted; No price data found  (1d 2014-05-25 00:00:00 -> 2014-05-27 00:00:00)\n"
          ]
        },
        {
          "output_type": "stream",
          "name": "stderr",
          "text": [
            "ERROR:yfinance:$TFC: possibly delisted; No price data found  (1d 2014-08-31 00:00:00 -> 2014-09-02 00:00:00)\n"
          ]
        },
        {
          "output_type": "stream",
          "name": "stdout",
          "text": [
            "$TFC: possibly delisted; No price data found  (1d 2014-08-31 00:00:00 -> 2014-09-02 00:00:00)\n"
          ]
        },
        {
          "output_type": "stream",
          "name": "stderr",
          "text": [
            "ERROR:yfinance:$TFC: possibly delisted; No price data found  (1d 2015-01-18 00:00:00 -> 2015-01-20 00:00:00)\n"
          ]
        },
        {
          "output_type": "stream",
          "name": "stdout",
          "text": [
            "$TFC: possibly delisted; No price data found  (1d 2015-01-18 00:00:00 -> 2015-01-20 00:00:00)\n"
          ]
        },
        {
          "output_type": "stream",
          "name": "stderr",
          "text": [
            "ERROR:yfinance:$TFC: possibly delisted; No price data found  (1d 2015-02-15 00:00:00 -> 2015-02-17 00:00:00)\n"
          ]
        },
        {
          "output_type": "stream",
          "name": "stdout",
          "text": [
            "$TFC: possibly delisted; No price data found  (1d 2015-02-15 00:00:00 -> 2015-02-17 00:00:00)\n"
          ]
        },
        {
          "output_type": "stream",
          "name": "stderr",
          "text": [
            "ERROR:yfinance:$TFC: possibly delisted; No price data found  (1d 2015-05-24 00:00:00 -> 2015-05-26 00:00:00)\n"
          ]
        },
        {
          "output_type": "stream",
          "name": "stdout",
          "text": [
            "$TFC: possibly delisted; No price data found  (1d 2015-05-24 00:00:00 -> 2015-05-26 00:00:00)\n"
          ]
        },
        {
          "output_type": "stream",
          "name": "stderr",
          "text": [
            "ERROR:yfinance:$TFC: possibly delisted; No price data found  (1d 2015-09-06 00:00:00 -> 2015-09-08 00:00:00)\n"
          ]
        },
        {
          "output_type": "stream",
          "name": "stdout",
          "text": [
            "$TFC: possibly delisted; No price data found  (1d 2015-09-06 00:00:00 -> 2015-09-08 00:00:00)\n"
          ]
        },
        {
          "output_type": "stream",
          "name": "stderr",
          "text": [
            "ERROR:yfinance:$TFC: possibly delisted; No price data found  (1d 2016-01-17 00:00:00 -> 2016-01-19 00:00:00)\n"
          ]
        },
        {
          "output_type": "stream",
          "name": "stdout",
          "text": [
            "$TFC: possibly delisted; No price data found  (1d 2016-01-17 00:00:00 -> 2016-01-19 00:00:00)\n"
          ]
        },
        {
          "output_type": "stream",
          "name": "stderr",
          "text": [
            "ERROR:yfinance:$TFC: possibly delisted; No price data found  (1d 2016-02-14 00:00:00 -> 2016-02-16 00:00:00)\n"
          ]
        },
        {
          "output_type": "stream",
          "name": "stdout",
          "text": [
            "$TFC: possibly delisted; No price data found  (1d 2016-02-14 00:00:00 -> 2016-02-16 00:00:00)\n"
          ]
        },
        {
          "output_type": "stream",
          "name": "stderr",
          "text": [
            "ERROR:yfinance:$TFC: possibly delisted; No price data found  (1d 2016-05-29 00:00:00 -> 2016-05-31 00:00:00)\n"
          ]
        },
        {
          "output_type": "stream",
          "name": "stdout",
          "text": [
            "$TFC: possibly delisted; No price data found  (1d 2016-05-29 00:00:00 -> 2016-05-31 00:00:00)\n"
          ]
        },
        {
          "output_type": "stream",
          "name": "stderr",
          "text": [
            "ERROR:yfinance:$TFC: possibly delisted; No price data found  (1d 2016-07-03 00:00:00 -> 2016-07-05 00:00:00)\n"
          ]
        },
        {
          "output_type": "stream",
          "name": "stdout",
          "text": [
            "$TFC: possibly delisted; No price data found  (1d 2016-07-03 00:00:00 -> 2016-07-05 00:00:00)\n"
          ]
        },
        {
          "output_type": "stream",
          "name": "stderr",
          "text": [
            "ERROR:yfinance:$TFC: possibly delisted; No price data found  (1d 2016-09-04 00:00:00 -> 2016-09-06 00:00:00)\n"
          ]
        },
        {
          "output_type": "stream",
          "name": "stdout",
          "text": [
            "$TFC: possibly delisted; No price data found  (1d 2016-09-04 00:00:00 -> 2016-09-06 00:00:00)\n"
          ]
        },
        {
          "output_type": "stream",
          "name": "stderr",
          "text": [
            "ERROR:yfinance:$TFC: possibly delisted; No price data found  (1d 2016-12-25 00:00:00 -> 2016-12-27 00:00:00)\n",
            "ERROR:yfinance:$TFC: possibly delisted; No price data found  (1d 2017-01-01 00:00:00 -> 2017-01-03 00:00:00)\n"
          ]
        },
        {
          "output_type": "stream",
          "name": "stdout",
          "text": [
            "$TFC: possibly delisted; No price data found  (1d 2016-12-25 00:00:00 -> 2016-12-27 00:00:00)\n",
            "$TFC: possibly delisted; No price data found  (1d 2017-01-01 00:00:00 -> 2017-01-03 00:00:00)\n"
          ]
        },
        {
          "output_type": "stream",
          "name": "stderr",
          "text": [
            "ERROR:yfinance:$TFC: possibly delisted; No price data found  (1d 2017-01-15 00:00:00 -> 2017-01-17 00:00:00)\n"
          ]
        },
        {
          "output_type": "stream",
          "name": "stdout",
          "text": [
            "$TFC: possibly delisted; No price data found  (1d 2017-01-15 00:00:00 -> 2017-01-17 00:00:00)\n"
          ]
        },
        {
          "output_type": "stream",
          "name": "stderr",
          "text": [
            "ERROR:yfinance:$TFC: possibly delisted; No price data found  (1d 2017-02-19 00:00:00 -> 2017-02-21 00:00:00)\n"
          ]
        },
        {
          "output_type": "stream",
          "name": "stdout",
          "text": [
            "$TFC: possibly delisted; No price data found  (1d 2017-02-19 00:00:00 -> 2017-02-21 00:00:00)\n"
          ]
        },
        {
          "output_type": "stream",
          "name": "stderr",
          "text": [
            "ERROR:yfinance:$TFC: possibly delisted; No price data found  (1d 2017-05-28 00:00:00 -> 2017-05-30 00:00:00)\n"
          ]
        },
        {
          "output_type": "stream",
          "name": "stdout",
          "text": [
            "$TFC: possibly delisted; No price data found  (1d 2017-05-28 00:00:00 -> 2017-05-30 00:00:00)\n"
          ]
        },
        {
          "output_type": "stream",
          "name": "stderr",
          "text": [
            "ERROR:yfinance:$TFC: possibly delisted; No price data found  (1d 2017-09-03 00:00:00 -> 2017-09-05 00:00:00)\n"
          ]
        },
        {
          "output_type": "stream",
          "name": "stdout",
          "text": [
            "$TFC: possibly delisted; No price data found  (1d 2017-09-03 00:00:00 -> 2017-09-05 00:00:00)\n"
          ]
        },
        {
          "output_type": "stream",
          "name": "stderr",
          "text": [
            "ERROR:yfinance:$TFC: possibly delisted; No price data found  (1d 2017-12-24 00:00:00 -> 2017-12-26 00:00:00)\n"
          ]
        },
        {
          "output_type": "stream",
          "name": "stdout",
          "text": [
            "$TFC: possibly delisted; No price data found  (1d 2017-12-24 00:00:00 -> 2017-12-26 00:00:00)\n"
          ]
        },
        {
          "output_type": "stream",
          "name": "stderr",
          "text": [
            "ERROR:yfinance:$TFC: possibly delisted; No price data found  (1d 2017-12-31 00:00:00 -> 2018-01-02 00:00:00)\n"
          ]
        },
        {
          "output_type": "stream",
          "name": "stdout",
          "text": [
            "$TFC: possibly delisted; No price data found  (1d 2017-12-31 00:00:00 -> 2018-01-02 00:00:00)\n"
          ]
        },
        {
          "output_type": "stream",
          "name": "stderr",
          "text": [
            "ERROR:yfinance:$TFC: possibly delisted; No price data found  (1d 2018-01-14 00:00:00 -> 2018-01-16 00:00:00)\n"
          ]
        },
        {
          "output_type": "stream",
          "name": "stdout",
          "text": [
            "$TFC: possibly delisted; No price data found  (1d 2018-01-14 00:00:00 -> 2018-01-16 00:00:00)\n"
          ]
        },
        {
          "output_type": "stream",
          "name": "stderr",
          "text": [
            "ERROR:yfinance:$TFC: possibly delisted; No price data found  (1d 2018-02-18 00:00:00 -> 2018-02-20 00:00:00)\n"
          ]
        },
        {
          "output_type": "stream",
          "name": "stdout",
          "text": [
            "$TFC: possibly delisted; No price data found  (1d 2018-02-18 00:00:00 -> 2018-02-20 00:00:00)\n"
          ]
        },
        {
          "output_type": "stream",
          "name": "stderr",
          "text": [
            "ERROR:yfinance:$TFC: possibly delisted; No price data found  (1d 2018-05-27 00:00:00 -> 2018-05-29 00:00:00)\n"
          ]
        },
        {
          "output_type": "stream",
          "name": "stdout",
          "text": [
            "$TFC: possibly delisted; No price data found  (1d 2018-05-27 00:00:00 -> 2018-05-29 00:00:00)\n"
          ]
        },
        {
          "output_type": "stream",
          "name": "stderr",
          "text": [
            "ERROR:yfinance:$TFC: possibly delisted; No price data found  (1d 2018-09-02 00:00:00 -> 2018-09-04 00:00:00)\n"
          ]
        },
        {
          "output_type": "stream",
          "name": "stdout",
          "text": [
            "$TFC: possibly delisted; No price data found  (1d 2018-09-02 00:00:00 -> 2018-09-04 00:00:00)\n"
          ]
        },
        {
          "output_type": "stream",
          "name": "stderr",
          "text": [
            "ERROR:yfinance:$TFC: possibly delisted; No price data found  (1d 2019-01-20 00:00:00 -> 2019-01-22 00:00:00)\n"
          ]
        },
        {
          "output_type": "stream",
          "name": "stdout",
          "text": [
            "$TFC: possibly delisted; No price data found  (1d 2019-01-20 00:00:00 -> 2019-01-22 00:00:00)\n"
          ]
        },
        {
          "output_type": "stream",
          "name": "stderr",
          "text": [
            "ERROR:yfinance:$TFC: possibly delisted; No price data found  (1d 2019-02-17 00:00:00 -> 2019-02-19 00:00:00)\n"
          ]
        },
        {
          "output_type": "stream",
          "name": "stdout",
          "text": [
            "$TFC: possibly delisted; No price data found  (1d 2019-02-17 00:00:00 -> 2019-02-19 00:00:00)\n"
          ]
        },
        {
          "output_type": "stream",
          "name": "stderr",
          "text": [
            "ERROR:yfinance:$TFC: possibly delisted; No price data found  (1d 2019-05-26 00:00:00 -> 2019-05-28 00:00:00)\n"
          ]
        },
        {
          "output_type": "stream",
          "name": "stdout",
          "text": [
            "$TFC: possibly delisted; No price data found  (1d 2019-05-26 00:00:00 -> 2019-05-28 00:00:00)\n"
          ]
        },
        {
          "output_type": "stream",
          "name": "stderr",
          "text": [
            "ERROR:yfinance:$TFC: possibly delisted; No price data found  (1d 2019-09-01 00:00:00 -> 2019-09-03 00:00:00)\n"
          ]
        },
        {
          "output_type": "stream",
          "name": "stdout",
          "text": [
            "$TFC: possibly delisted; No price data found  (1d 2019-09-01 00:00:00 -> 2019-09-03 00:00:00)\n"
          ]
        },
        {
          "output_type": "stream",
          "name": "stderr",
          "text": [
            "ERROR:yfinance:$TFC: possibly delisted; No price data found  (1d 2020-01-19 00:00:00 -> 2020-01-21 00:00:00)\n"
          ]
        },
        {
          "output_type": "stream",
          "name": "stdout",
          "text": [
            "$TFC: possibly delisted; No price data found  (1d 2020-01-19 00:00:00 -> 2020-01-21 00:00:00)\n"
          ]
        },
        {
          "output_type": "stream",
          "name": "stderr",
          "text": [
            "ERROR:yfinance:$TFC: possibly delisted; No price data found  (1d 2020-02-16 00:00:00 -> 2020-02-18 00:00:00)\n"
          ]
        },
        {
          "output_type": "stream",
          "name": "stdout",
          "text": [
            "$TFC: possibly delisted; No price data found  (1d 2020-02-16 00:00:00 -> 2020-02-18 00:00:00)\n"
          ]
        },
        {
          "output_type": "stream",
          "name": "stderr",
          "text": [
            "ERROR:yfinance:$TFC: possibly delisted; No price data found  (1d 2020-05-24 00:00:00 -> 2020-05-26 00:00:00)\n"
          ]
        },
        {
          "output_type": "stream",
          "name": "stdout",
          "text": [
            "$TFC: possibly delisted; No price data found  (1d 2020-05-24 00:00:00 -> 2020-05-26 00:00:00)\n"
          ]
        },
        {
          "output_type": "stream",
          "name": "stderr",
          "text": [
            "ERROR:yfinance:$TFC: possibly delisted; No price data found  (1d 2020-09-06 00:00:00 -> 2020-09-08 00:00:00)\n"
          ]
        },
        {
          "output_type": "stream",
          "name": "stdout",
          "text": [
            "$TFC: possibly delisted; No price data found  (1d 2020-09-06 00:00:00 -> 2020-09-08 00:00:00)\n"
          ]
        },
        {
          "output_type": "stream",
          "name": "stderr",
          "text": [
            "ERROR:yfinance:$TFC: possibly delisted; No price data found  (1d 2021-01-17 00:00:00 -> 2021-01-19 00:00:00)\n"
          ]
        },
        {
          "output_type": "stream",
          "name": "stdout",
          "text": [
            "$TFC: possibly delisted; No price data found  (1d 2021-01-17 00:00:00 -> 2021-01-19 00:00:00)\n"
          ]
        },
        {
          "output_type": "stream",
          "name": "stderr",
          "text": [
            "ERROR:yfinance:$TFC: possibly delisted; No price data found  (1d 2021-02-14 00:00:00 -> 2021-02-16 00:00:00)\n"
          ]
        },
        {
          "output_type": "stream",
          "name": "stdout",
          "text": [
            "$TFC: possibly delisted; No price data found  (1d 2021-02-14 00:00:00 -> 2021-02-16 00:00:00)\n"
          ]
        },
        {
          "output_type": "stream",
          "name": "stderr",
          "text": [
            "ERROR:yfinance:$TFC: possibly delisted; No price data found  (1d 2021-05-30 00:00:00 -> 2021-06-01 00:00:00)\n"
          ]
        },
        {
          "output_type": "stream",
          "name": "stdout",
          "text": [
            "$TFC: possibly delisted; No price data found  (1d 2021-05-30 00:00:00 -> 2021-06-01 00:00:00)\n"
          ]
        },
        {
          "output_type": "stream",
          "name": "stderr",
          "text": [
            "ERROR:yfinance:$TFC: possibly delisted; No price data found  (1d 2021-07-04 00:00:00 -> 2021-07-06 00:00:00)\n"
          ]
        },
        {
          "output_type": "stream",
          "name": "stdout",
          "text": [
            "$TFC: possibly delisted; No price data found  (1d 2021-07-04 00:00:00 -> 2021-07-06 00:00:00)\n"
          ]
        },
        {
          "output_type": "stream",
          "name": "stderr",
          "text": [
            "ERROR:yfinance:$TFC: possibly delisted; No price data found  (1d 2021-09-05 00:00:00 -> 2021-09-07 00:00:00)\n"
          ]
        },
        {
          "output_type": "stream",
          "name": "stdout",
          "text": [
            "$TFC: possibly delisted; No price data found  (1d 2021-09-05 00:00:00 -> 2021-09-07 00:00:00)\n"
          ]
        },
        {
          "output_type": "stream",
          "name": "stderr",
          "text": [
            "ERROR:yfinance:$TFC: possibly delisted; No price data found  (1d 2022-01-16 00:00:00 -> 2022-01-18 00:00:00)\n"
          ]
        },
        {
          "output_type": "stream",
          "name": "stdout",
          "text": [
            "$TFC: possibly delisted; No price data found  (1d 2022-01-16 00:00:00 -> 2022-01-18 00:00:00)\n"
          ]
        },
        {
          "output_type": "stream",
          "name": "stderr",
          "text": [
            "ERROR:yfinance:$TFC: possibly delisted; No price data found  (1d 2022-02-20 00:00:00 -> 2022-02-22 00:00:00)\n"
          ]
        },
        {
          "output_type": "stream",
          "name": "stdout",
          "text": [
            "$TFC: possibly delisted; No price data found  (1d 2022-02-20 00:00:00 -> 2022-02-22 00:00:00)\n"
          ]
        },
        {
          "output_type": "stream",
          "name": "stderr",
          "text": [
            "ERROR:yfinance:$TFC: possibly delisted; No price data found  (1d 2022-05-29 00:00:00 -> 2022-05-31 00:00:00)\n"
          ]
        },
        {
          "output_type": "stream",
          "name": "stdout",
          "text": [
            "$TFC: possibly delisted; No price data found  (1d 2022-05-29 00:00:00 -> 2022-05-31 00:00:00)\n"
          ]
        },
        {
          "output_type": "stream",
          "name": "stderr",
          "text": [
            "ERROR:yfinance:$TFC: possibly delisted; No price data found  (1d 2022-06-19 00:00:00 -> 2022-06-21 00:00:00)\n"
          ]
        },
        {
          "output_type": "stream",
          "name": "stdout",
          "text": [
            "$TFC: possibly delisted; No price data found  (1d 2022-06-19 00:00:00 -> 2022-06-21 00:00:00)\n"
          ]
        },
        {
          "output_type": "stream",
          "name": "stderr",
          "text": [
            "ERROR:yfinance:$TFC: possibly delisted; No price data found  (1d 2022-07-03 00:00:00 -> 2022-07-05 00:00:00)\n"
          ]
        },
        {
          "output_type": "stream",
          "name": "stdout",
          "text": [
            "$TFC: possibly delisted; No price data found  (1d 2022-07-03 00:00:00 -> 2022-07-05 00:00:00)\n"
          ]
        },
        {
          "output_type": "stream",
          "name": "stderr",
          "text": [
            "ERROR:yfinance:$TFC: possibly delisted; No price data found  (1d 2022-09-04 00:00:00 -> 2022-09-06 00:00:00)\n"
          ]
        },
        {
          "output_type": "stream",
          "name": "stdout",
          "text": [
            "$TFC: possibly delisted; No price data found  (1d 2022-09-04 00:00:00 -> 2022-09-06 00:00:00)\n"
          ]
        },
        {
          "output_type": "stream",
          "name": "stderr",
          "text": [
            "ERROR:yfinance:$TFC: possibly delisted; No price data found  (1d 2022-12-25 00:00:00 -> 2022-12-27 00:00:00)\n",
            "ERROR:yfinance:$TFC: possibly delisted; No price data found  (1d 2023-01-01 00:00:00 -> 2023-01-03 00:00:00)\n"
          ]
        },
        {
          "output_type": "stream",
          "name": "stdout",
          "text": [
            "$TFC: possibly delisted; No price data found  (1d 2022-12-25 00:00:00 -> 2022-12-27 00:00:00)\n",
            "$TFC: possibly delisted; No price data found  (1d 2023-01-01 00:00:00 -> 2023-01-03 00:00:00)\n"
          ]
        },
        {
          "output_type": "stream",
          "name": "stderr",
          "text": [
            "ERROR:yfinance:$TFC: possibly delisted; No price data found  (1d 2023-01-15 00:00:00 -> 2023-01-17 00:00:00)\n"
          ]
        },
        {
          "output_type": "stream",
          "name": "stdout",
          "text": [
            "$TFC: possibly delisted; No price data found  (1d 2023-01-15 00:00:00 -> 2023-01-17 00:00:00)\n"
          ]
        },
        {
          "output_type": "stream",
          "name": "stderr",
          "text": [
            "ERROR:yfinance:$TFC: possibly delisted; No price data found  (1d 2023-02-19 00:00:00 -> 2023-02-21 00:00:00)\n"
          ]
        },
        {
          "output_type": "stream",
          "name": "stdout",
          "text": [
            "$TFC: possibly delisted; No price data found  (1d 2023-02-19 00:00:00 -> 2023-02-21 00:00:00)\n"
          ]
        },
        {
          "output_type": "stream",
          "name": "stderr",
          "text": [
            "ERROR:yfinance:$TFC: possibly delisted; No price data found  (1d 2023-05-28 00:00:00 -> 2023-05-30 00:00:00)\n"
          ]
        },
        {
          "output_type": "stream",
          "name": "stdout",
          "text": [
            "$TFC: possibly delisted; No price data found  (1d 2023-05-28 00:00:00 -> 2023-05-30 00:00:00)\n"
          ]
        },
        {
          "output_type": "stream",
          "name": "stderr",
          "text": [
            "ERROR:yfinance:$TFC: possibly delisted; No price data found  (1d 2023-06-18 00:00:00 -> 2023-06-20 00:00:00)\n"
          ]
        },
        {
          "output_type": "stream",
          "name": "stdout",
          "text": [
            "$TFC: possibly delisted; No price data found  (1d 2023-06-18 00:00:00 -> 2023-06-20 00:00:00)\n"
          ]
        },
        {
          "output_type": "stream",
          "name": "stderr",
          "text": [
            "ERROR:yfinance:$TFC: possibly delisted; No price data found  (1d 2023-09-03 00:00:00 -> 2023-09-05 00:00:00)\n"
          ]
        },
        {
          "output_type": "stream",
          "name": "stdout",
          "text": [
            "$TFC: possibly delisted; No price data found  (1d 2023-09-03 00:00:00 -> 2023-09-05 00:00:00)\n"
          ]
        },
        {
          "output_type": "stream",
          "name": "stderr",
          "text": [
            "ERROR:yfinance:$TFC: possibly delisted; No price data found  (1d 2023-12-24 00:00:00 -> 2023-12-26 00:00:00)\n",
            "ERROR:yfinance:$TFC: possibly delisted; No price data found  (1d 2023-12-31 00:00:00 -> 2024-01-02 00:00:00)\n"
          ]
        },
        {
          "output_type": "stream",
          "name": "stdout",
          "text": [
            "$TFC: possibly delisted; No price data found  (1d 2023-12-24 00:00:00 -> 2023-12-26 00:00:00)\n",
            "$TFC: possibly delisted; No price data found  (1d 2023-12-31 00:00:00 -> 2024-01-02 00:00:00)\n"
          ]
        },
        {
          "output_type": "stream",
          "name": "stderr",
          "text": [
            "ERROR:yfinance:$TFC: possibly delisted; No price data found  (1d 2024-01-14 00:00:00 -> 2024-01-16 00:00:00)\n"
          ]
        },
        {
          "output_type": "stream",
          "name": "stdout",
          "text": [
            "$TFC: possibly delisted; No price data found  (1d 2024-01-14 00:00:00 -> 2024-01-16 00:00:00)\n"
          ]
        },
        {
          "output_type": "stream",
          "name": "stderr",
          "text": [
            "ERROR:yfinance:$TFC: possibly delisted; No price data found  (1d 2024-02-18 00:00:00 -> 2024-02-20 00:00:00)\n"
          ]
        },
        {
          "output_type": "stream",
          "name": "stdout",
          "text": [
            "$TFC: possibly delisted; No price data found  (1d 2024-02-18 00:00:00 -> 2024-02-20 00:00:00)\n"
          ]
        },
        {
          "output_type": "stream",
          "name": "stderr",
          "text": [
            "ERROR:yfinance:$TFC: possibly delisted; No price data found  (1d 2024-05-26 00:00:00 -> 2024-05-28 00:00:00)\n"
          ]
        },
        {
          "output_type": "stream",
          "name": "stdout",
          "text": [
            "$TFC: possibly delisted; No price data found  (1d 2024-05-26 00:00:00 -> 2024-05-28 00:00:00)\n"
          ]
        },
        {
          "output_type": "execute_result",
          "data": {
            "text/plain": [
              "         date1    Market_Cap      date2  Market_Cap_Date2      date3  \\\n",
              "0   2010-08-02  2.089656e+10 2010-08-09      2.393932e+10 2010-08-16   \n",
              "1   2010-08-09  2.089656e+10 2010-08-16      2.247556e+10 2010-08-23   \n",
              "2   2010-08-16  1.961886e+10 2010-08-23      2.136123e+10 2010-08-30   \n",
              "3   2010-08-23  1.864616e+10 2010-08-30      2.065296e+10 2010-09-06   \n",
              "4   2010-08-30  1.802792e+10 2010-09-06               NaN 2010-09-13   \n",
              "..         ...           ...        ...               ...        ...   \n",
              "726 2024-07-01  5.256124e+10 2024-07-08      5.122210e+10 2024-07-15   \n",
              "727 2024-07-08  5.122210e+10 2024-07-15      5.544040e+10 2024-07-22   \n",
              "728 2024-07-15  5.544040e+10 2024-07-22      5.862755e+10 2024-07-29   \n",
              "729 2024-07-22  5.862755e+10 2024-07-29      5.953816e+10 2024-08-05   \n",
              "730 2024-07-29  5.953816e+10 2024-08-05      5.514578e+10 2024-08-12   \n",
              "\n",
              "     Market_Cap_Date3  \n",
              "0        2.247556e+10  \n",
              "1        2.136123e+10  \n",
              "2        2.065296e+10  \n",
              "3                 NaN  \n",
              "4        2.301384e+10  \n",
              "..                ...  \n",
              "726      5.544040e+10  \n",
              "727      5.862755e+10  \n",
              "728      5.953816e+10  \n",
              "729      5.514578e+10  \n",
              "730      5.519935e+10  \n",
              "\n",
              "[731 rows x 6 columns]"
            ],
            "text/html": [
              "\n",
              "  <div id=\"df-98c03b37-7b3c-4c24-8ba6-9df46fd257f7\" class=\"colab-df-container\">\n",
              "    <div>\n",
              "<style scoped>\n",
              "    .dataframe tbody tr th:only-of-type {\n",
              "        vertical-align: middle;\n",
              "    }\n",
              "\n",
              "    .dataframe tbody tr th {\n",
              "        vertical-align: top;\n",
              "    }\n",
              "\n",
              "    .dataframe thead th {\n",
              "        text-align: right;\n",
              "    }\n",
              "</style>\n",
              "<table border=\"1\" class=\"dataframe\">\n",
              "  <thead>\n",
              "    <tr style=\"text-align: right;\">\n",
              "      <th></th>\n",
              "      <th>date1</th>\n",
              "      <th>Market_Cap</th>\n",
              "      <th>date2</th>\n",
              "      <th>Market_Cap_Date2</th>\n",
              "      <th>date3</th>\n",
              "      <th>Market_Cap_Date3</th>\n",
              "    </tr>\n",
              "  </thead>\n",
              "  <tbody>\n",
              "    <tr>\n",
              "      <th>0</th>\n",
              "      <td>2010-08-02</td>\n",
              "      <td>2.089656e+10</td>\n",
              "      <td>2010-08-09</td>\n",
              "      <td>2.393932e+10</td>\n",
              "      <td>2010-08-16</td>\n",
              "      <td>2.247556e+10</td>\n",
              "    </tr>\n",
              "    <tr>\n",
              "      <th>1</th>\n",
              "      <td>2010-08-09</td>\n",
              "      <td>2.089656e+10</td>\n",
              "      <td>2010-08-16</td>\n",
              "      <td>2.247556e+10</td>\n",
              "      <td>2010-08-23</td>\n",
              "      <td>2.136123e+10</td>\n",
              "    </tr>\n",
              "    <tr>\n",
              "      <th>2</th>\n",
              "      <td>2010-08-16</td>\n",
              "      <td>1.961886e+10</td>\n",
              "      <td>2010-08-23</td>\n",
              "      <td>2.136123e+10</td>\n",
              "      <td>2010-08-30</td>\n",
              "      <td>2.065296e+10</td>\n",
              "    </tr>\n",
              "    <tr>\n",
              "      <th>3</th>\n",
              "      <td>2010-08-23</td>\n",
              "      <td>1.864616e+10</td>\n",
              "      <td>2010-08-30</td>\n",
              "      <td>2.065296e+10</td>\n",
              "      <td>2010-09-06</td>\n",
              "      <td>NaN</td>\n",
              "    </tr>\n",
              "    <tr>\n",
              "      <th>4</th>\n",
              "      <td>2010-08-30</td>\n",
              "      <td>1.802792e+10</td>\n",
              "      <td>2010-09-06</td>\n",
              "      <td>NaN</td>\n",
              "      <td>2010-09-13</td>\n",
              "      <td>2.301384e+10</td>\n",
              "    </tr>\n",
              "    <tr>\n",
              "      <th>...</th>\n",
              "      <td>...</td>\n",
              "      <td>...</td>\n",
              "      <td>...</td>\n",
              "      <td>...</td>\n",
              "      <td>...</td>\n",
              "      <td>...</td>\n",
              "    </tr>\n",
              "    <tr>\n",
              "      <th>726</th>\n",
              "      <td>2024-07-01</td>\n",
              "      <td>5.256124e+10</td>\n",
              "      <td>2024-07-08</td>\n",
              "      <td>5.122210e+10</td>\n",
              "      <td>2024-07-15</td>\n",
              "      <td>5.544040e+10</td>\n",
              "    </tr>\n",
              "    <tr>\n",
              "      <th>727</th>\n",
              "      <td>2024-07-08</td>\n",
              "      <td>5.122210e+10</td>\n",
              "      <td>2024-07-15</td>\n",
              "      <td>5.544040e+10</td>\n",
              "      <td>2024-07-22</td>\n",
              "      <td>5.862755e+10</td>\n",
              "    </tr>\n",
              "    <tr>\n",
              "      <th>728</th>\n",
              "      <td>2024-07-15</td>\n",
              "      <td>5.544040e+10</td>\n",
              "      <td>2024-07-22</td>\n",
              "      <td>5.862755e+10</td>\n",
              "      <td>2024-07-29</td>\n",
              "      <td>5.953816e+10</td>\n",
              "    </tr>\n",
              "    <tr>\n",
              "      <th>729</th>\n",
              "      <td>2024-07-22</td>\n",
              "      <td>5.862755e+10</td>\n",
              "      <td>2024-07-29</td>\n",
              "      <td>5.953816e+10</td>\n",
              "      <td>2024-08-05</td>\n",
              "      <td>5.514578e+10</td>\n",
              "    </tr>\n",
              "    <tr>\n",
              "      <th>730</th>\n",
              "      <td>2024-07-29</td>\n",
              "      <td>5.953816e+10</td>\n",
              "      <td>2024-08-05</td>\n",
              "      <td>5.514578e+10</td>\n",
              "      <td>2024-08-12</td>\n",
              "      <td>5.519935e+10</td>\n",
              "    </tr>\n",
              "  </tbody>\n",
              "</table>\n",
              "<p>731 rows × 6 columns</p>\n",
              "</div>\n",
              "    <div class=\"colab-df-buttons\">\n",
              "\n",
              "  <div class=\"colab-df-container\">\n",
              "    <button class=\"colab-df-convert\" onclick=\"convertToInteractive('df-98c03b37-7b3c-4c24-8ba6-9df46fd257f7')\"\n",
              "            title=\"Convert this dataframe to an interactive table.\"\n",
              "            style=\"display:none;\">\n",
              "\n",
              "  <svg xmlns=\"http://www.w3.org/2000/svg\" height=\"24px\" viewBox=\"0 -960 960 960\">\n",
              "    <path d=\"M120-120v-720h720v720H120Zm60-500h600v-160H180v160Zm220 220h160v-160H400v160Zm0 220h160v-160H400v160ZM180-400h160v-160H180v160Zm440 0h160v-160H620v160ZM180-180h160v-160H180v160Zm440 0h160v-160H620v160Z\"/>\n",
              "  </svg>\n",
              "    </button>\n",
              "\n",
              "  <style>\n",
              "    .colab-df-container {\n",
              "      display:flex;\n",
              "      gap: 12px;\n",
              "    }\n",
              "\n",
              "    .colab-df-convert {\n",
              "      background-color: #E8F0FE;\n",
              "      border: none;\n",
              "      border-radius: 50%;\n",
              "      cursor: pointer;\n",
              "      display: none;\n",
              "      fill: #1967D2;\n",
              "      height: 32px;\n",
              "      padding: 0 0 0 0;\n",
              "      width: 32px;\n",
              "    }\n",
              "\n",
              "    .colab-df-convert:hover {\n",
              "      background-color: #E2EBFA;\n",
              "      box-shadow: 0px 1px 2px rgba(60, 64, 67, 0.3), 0px 1px 3px 1px rgba(60, 64, 67, 0.15);\n",
              "      fill: #174EA6;\n",
              "    }\n",
              "\n",
              "    .colab-df-buttons div {\n",
              "      margin-bottom: 4px;\n",
              "    }\n",
              "\n",
              "    [theme=dark] .colab-df-convert {\n",
              "      background-color: #3B4455;\n",
              "      fill: #D2E3FC;\n",
              "    }\n",
              "\n",
              "    [theme=dark] .colab-df-convert:hover {\n",
              "      background-color: #434B5C;\n",
              "      box-shadow: 0px 1px 3px 1px rgba(0, 0, 0, 0.15);\n",
              "      filter: drop-shadow(0px 1px 2px rgba(0, 0, 0, 0.3));\n",
              "      fill: #FFFFFF;\n",
              "    }\n",
              "  </style>\n",
              "\n",
              "    <script>\n",
              "      const buttonEl =\n",
              "        document.querySelector('#df-98c03b37-7b3c-4c24-8ba6-9df46fd257f7 button.colab-df-convert');\n",
              "      buttonEl.style.display =\n",
              "        google.colab.kernel.accessAllowed ? 'block' : 'none';\n",
              "\n",
              "      async function convertToInteractive(key) {\n",
              "        const element = document.querySelector('#df-98c03b37-7b3c-4c24-8ba6-9df46fd257f7');\n",
              "        const dataTable =\n",
              "          await google.colab.kernel.invokeFunction('convertToInteractive',\n",
              "                                                    [key], {});\n",
              "        if (!dataTable) return;\n",
              "\n",
              "        const docLinkHtml = 'Like what you see? Visit the ' +\n",
              "          '<a target=\"_blank\" href=https://colab.research.google.com/notebooks/data_table.ipynb>data table notebook</a>'\n",
              "          + ' to learn more about interactive tables.';\n",
              "        element.innerHTML = '';\n",
              "        dataTable['output_type'] = 'display_data';\n",
              "        await google.colab.output.renderOutput(dataTable, element);\n",
              "        const docLink = document.createElement('div');\n",
              "        docLink.innerHTML = docLinkHtml;\n",
              "        element.appendChild(docLink);\n",
              "      }\n",
              "    </script>\n",
              "  </div>\n",
              "\n",
              "\n",
              "<div id=\"df-e761da27-6ffd-422f-9b9a-59d100e8e389\">\n",
              "  <button class=\"colab-df-quickchart\" onclick=\"quickchart('df-e761da27-6ffd-422f-9b9a-59d100e8e389')\"\n",
              "            title=\"Suggest charts\"\n",
              "            style=\"display:none;\">\n",
              "\n",
              "<svg xmlns=\"http://www.w3.org/2000/svg\" height=\"24px\"viewBox=\"0 0 24 24\"\n",
              "     width=\"24px\">\n",
              "    <g>\n",
              "        <path d=\"M19 3H5c-1.1 0-2 .9-2 2v14c0 1.1.9 2 2 2h14c1.1 0 2-.9 2-2V5c0-1.1-.9-2-2-2zM9 17H7v-7h2v7zm4 0h-2V7h2v10zm4 0h-2v-4h2v4z\"/>\n",
              "    </g>\n",
              "</svg>\n",
              "  </button>\n",
              "\n",
              "<style>\n",
              "  .colab-df-quickchart {\n",
              "      --bg-color: #E8F0FE;\n",
              "      --fill-color: #1967D2;\n",
              "      --hover-bg-color: #E2EBFA;\n",
              "      --hover-fill-color: #174EA6;\n",
              "      --disabled-fill-color: #AAA;\n",
              "      --disabled-bg-color: #DDD;\n",
              "  }\n",
              "\n",
              "  [theme=dark] .colab-df-quickchart {\n",
              "      --bg-color: #3B4455;\n",
              "      --fill-color: #D2E3FC;\n",
              "      --hover-bg-color: #434B5C;\n",
              "      --hover-fill-color: #FFFFFF;\n",
              "      --disabled-bg-color: #3B4455;\n",
              "      --disabled-fill-color: #666;\n",
              "  }\n",
              "\n",
              "  .colab-df-quickchart {\n",
              "    background-color: var(--bg-color);\n",
              "    border: none;\n",
              "    border-radius: 50%;\n",
              "    cursor: pointer;\n",
              "    display: none;\n",
              "    fill: var(--fill-color);\n",
              "    height: 32px;\n",
              "    padding: 0;\n",
              "    width: 32px;\n",
              "  }\n",
              "\n",
              "  .colab-df-quickchart:hover {\n",
              "    background-color: var(--hover-bg-color);\n",
              "    box-shadow: 0 1px 2px rgba(60, 64, 67, 0.3), 0 1px 3px 1px rgba(60, 64, 67, 0.15);\n",
              "    fill: var(--button-hover-fill-color);\n",
              "  }\n",
              "\n",
              "  .colab-df-quickchart-complete:disabled,\n",
              "  .colab-df-quickchart-complete:disabled:hover {\n",
              "    background-color: var(--disabled-bg-color);\n",
              "    fill: var(--disabled-fill-color);\n",
              "    box-shadow: none;\n",
              "  }\n",
              "\n",
              "  .colab-df-spinner {\n",
              "    border: 2px solid var(--fill-color);\n",
              "    border-color: transparent;\n",
              "    border-bottom-color: var(--fill-color);\n",
              "    animation:\n",
              "      spin 1s steps(1) infinite;\n",
              "  }\n",
              "\n",
              "  @keyframes spin {\n",
              "    0% {\n",
              "      border-color: transparent;\n",
              "      border-bottom-color: var(--fill-color);\n",
              "      border-left-color: var(--fill-color);\n",
              "    }\n",
              "    20% {\n",
              "      border-color: transparent;\n",
              "      border-left-color: var(--fill-color);\n",
              "      border-top-color: var(--fill-color);\n",
              "    }\n",
              "    30% {\n",
              "      border-color: transparent;\n",
              "      border-left-color: var(--fill-color);\n",
              "      border-top-color: var(--fill-color);\n",
              "      border-right-color: var(--fill-color);\n",
              "    }\n",
              "    40% {\n",
              "      border-color: transparent;\n",
              "      border-right-color: var(--fill-color);\n",
              "      border-top-color: var(--fill-color);\n",
              "    }\n",
              "    60% {\n",
              "      border-color: transparent;\n",
              "      border-right-color: var(--fill-color);\n",
              "    }\n",
              "    80% {\n",
              "      border-color: transparent;\n",
              "      border-right-color: var(--fill-color);\n",
              "      border-bottom-color: var(--fill-color);\n",
              "    }\n",
              "    90% {\n",
              "      border-color: transparent;\n",
              "      border-bottom-color: var(--fill-color);\n",
              "    }\n",
              "  }\n",
              "</style>\n",
              "\n",
              "  <script>\n",
              "    async function quickchart(key) {\n",
              "      const quickchartButtonEl =\n",
              "        document.querySelector('#' + key + ' button');\n",
              "      quickchartButtonEl.disabled = true;  // To prevent multiple clicks.\n",
              "      quickchartButtonEl.classList.add('colab-df-spinner');\n",
              "      try {\n",
              "        const charts = await google.colab.kernel.invokeFunction(\n",
              "            'suggestCharts', [key], {});\n",
              "      } catch (error) {\n",
              "        console.error('Error during call to suggestCharts:', error);\n",
              "      }\n",
              "      quickchartButtonEl.classList.remove('colab-df-spinner');\n",
              "      quickchartButtonEl.classList.add('colab-df-quickchart-complete');\n",
              "    }\n",
              "    (() => {\n",
              "      let quickchartButtonEl =\n",
              "        document.querySelector('#df-e761da27-6ffd-422f-9b9a-59d100e8e389 button');\n",
              "      quickchartButtonEl.style.display =\n",
              "        google.colab.kernel.accessAllowed ? 'block' : 'none';\n",
              "    })();\n",
              "  </script>\n",
              "</div>\n",
              "\n",
              "  <div id=\"id_f469e42c-b819-4da8-ad10-c88daf672fea\">\n",
              "    <style>\n",
              "      .colab-df-generate {\n",
              "        background-color: #E8F0FE;\n",
              "        border: none;\n",
              "        border-radius: 50%;\n",
              "        cursor: pointer;\n",
              "        display: none;\n",
              "        fill: #1967D2;\n",
              "        height: 32px;\n",
              "        padding: 0 0 0 0;\n",
              "        width: 32px;\n",
              "      }\n",
              "\n",
              "      .colab-df-generate:hover {\n",
              "        background-color: #E2EBFA;\n",
              "        box-shadow: 0px 1px 2px rgba(60, 64, 67, 0.3), 0px 1px 3px 1px rgba(60, 64, 67, 0.15);\n",
              "        fill: #174EA6;\n",
              "      }\n",
              "\n",
              "      [theme=dark] .colab-df-generate {\n",
              "        background-color: #3B4455;\n",
              "        fill: #D2E3FC;\n",
              "      }\n",
              "\n",
              "      [theme=dark] .colab-df-generate:hover {\n",
              "        background-color: #434B5C;\n",
              "        box-shadow: 0px 1px 3px 1px rgba(0, 0, 0, 0.15);\n",
              "        filter: drop-shadow(0px 1px 2px rgba(0, 0, 0, 0.3));\n",
              "        fill: #FFFFFF;\n",
              "      }\n",
              "    </style>\n",
              "    <button class=\"colab-df-generate\" onclick=\"generateWithVariable('df')\"\n",
              "            title=\"Generate code using this dataframe.\"\n",
              "            style=\"display:none;\">\n",
              "\n",
              "  <svg xmlns=\"http://www.w3.org/2000/svg\" height=\"24px\"viewBox=\"0 0 24 24\"\n",
              "       width=\"24px\">\n",
              "    <path d=\"M7,19H8.4L18.45,9,17,7.55,7,17.6ZM5,21V16.75L18.45,3.32a2,2,0,0,1,2.83,0l1.4,1.43a1.91,1.91,0,0,1,.58,1.4,1.91,1.91,0,0,1-.58,1.4L9.25,21ZM18.45,9,17,7.55Zm-12,3A5.31,5.31,0,0,0,4.9,8.1,5.31,5.31,0,0,0,1,6.5,5.31,5.31,0,0,0,4.9,4.9,5.31,5.31,0,0,0,6.5,1,5.31,5.31,0,0,0,8.1,4.9,5.31,5.31,0,0,0,12,6.5,5.46,5.46,0,0,0,6.5,12Z\"/>\n",
              "  </svg>\n",
              "    </button>\n",
              "    <script>\n",
              "      (() => {\n",
              "      const buttonEl =\n",
              "        document.querySelector('#id_f469e42c-b819-4da8-ad10-c88daf672fea button.colab-df-generate');\n",
              "      buttonEl.style.display =\n",
              "        google.colab.kernel.accessAllowed ? 'block' : 'none';\n",
              "\n",
              "      buttonEl.onclick = () => {\n",
              "        google.colab.notebook.generateWithVariable('df');\n",
              "      }\n",
              "      })();\n",
              "    </script>\n",
              "  </div>\n",
              "\n",
              "    </div>\n",
              "  </div>\n"
            ],
            "application/vnd.google.colaboratory.intrinsic+json": {
              "type": "dataframe",
              "variable_name": "df",
              "summary": "{\n  \"name\": \"df\",\n  \"rows\": 731,\n  \"fields\": [\n    {\n      \"column\": \"date1\",\n      \"properties\": {\n        \"dtype\": \"date\",\n        \"min\": \"2010-08-02 00:00:00\",\n        \"max\": \"2024-07-29 00:00:00\",\n        \"num_unique_values\": 731,\n        \"samples\": [\n          \"2024-01-22 00:00:00\",\n          \"2011-03-21 00:00:00\",\n          \"2016-05-02 00:00:00\"\n        ],\n        \"semantic_type\": \"\",\n        \"description\": \"\"\n      }\n    },\n    {\n      \"column\": \"Market_Cap\",\n      \"properties\": {\n        \"dtype\": \"number\",\n        \"std\": 16372716319.047026,\n        \"min\": 16186880671.529907,\n        \"max\": 86791721855.7793,\n        \"num_unique_values\": 654,\n        \"samples\": [\n          53022599899.12842,\n          26378274305.884766,\n          78176617349.88379\n        ],\n        \"semantic_type\": \"\",\n        \"description\": \"\"\n      }\n    },\n    {\n      \"column\": \"date2\",\n      \"properties\": {\n        \"dtype\": \"date\",\n        \"min\": \"2010-08-09 00:00:00\",\n        \"max\": \"2024-08-05 00:00:00\",\n        \"num_unique_values\": 731,\n        \"samples\": [\n          \"2024-01-29 00:00:00\",\n          \"2011-03-28 00:00:00\",\n          \"2016-05-09 00:00:00\"\n        ],\n        \"semantic_type\": \"\",\n        \"description\": \"\"\n      }\n    },\n    {\n      \"column\": \"Market_Cap_Date2\",\n      \"properties\": {\n        \"dtype\": \"number\",\n        \"std\": 15592800195.580288,\n        \"min\": 18543856718.95227,\n        \"max\": 86791721855.7793,\n        \"num_unique_values\": 654,\n        \"samples\": [\n          51344818086.87988,\n          30416518657.82007,\n          74552882446.39453\n        ],\n        \"semantic_type\": \"\",\n        \"description\": \"\"\n      }\n    },\n    {\n      \"column\": \"date3\",\n      \"properties\": {\n        \"dtype\": \"date\",\n        \"min\": \"2010-08-16 00:00:00\",\n        \"max\": \"2024-08-12 00:00:00\",\n        \"num_unique_values\": 731,\n        \"samples\": [\n          \"2024-02-05 00:00:00\",\n          \"2011-04-04 00:00:00\",\n          \"2016-05-16 00:00:00\"\n        ],\n        \"semantic_type\": \"\",\n        \"description\": \"\"\n      }\n    },\n    {\n      \"column\": \"Market_Cap_Date3\",\n      \"properties\": {\n        \"dtype\": \"number\",\n        \"std\": 15568703476.742409,\n        \"min\": 18543856718.95227,\n        \"max\": 86791721855.7793,\n        \"num_unique_values\": 654,\n        \"samples\": [\n          50839192419.717285,\n          31215663552.130127,\n          74968508083.20654\n        ],\n        \"semantic_type\": \"\",\n        \"description\": \"\"\n      }\n    }\n  ]\n}"
            }
          },
          "metadata": {},
          "execution_count": 46
        }
      ]
    },
    {
      "cell_type": "code",
      "source": [
        "# Calculating the growth rate for the relevant period\n",
        "df['Growth Rate'] = ((df['Market_Cap_Date2'] - df['Market_Cap'])/ df['Market_Cap']) * 100\n",
        "df"
      ],
      "metadata": {
        "colab": {
          "base_uri": "https://localhost:8080/",
          "height": 424
        },
        "id": "NgLZAeAnFTnP",
        "outputId": "36f2c104-24d1-4ee1-e24c-6a6e0b465152"
      },
      "execution_count": 47,
      "outputs": [
        {
          "output_type": "execute_result",
          "data": {
            "text/plain": [
              "         date1    Market_Cap      date2  Market_Cap_Date2      date3  \\\n",
              "0   2010-08-02  2.089656e+10 2010-08-09      2.393932e+10 2010-08-16   \n",
              "1   2010-08-09  2.089656e+10 2010-08-16      2.247556e+10 2010-08-23   \n",
              "2   2010-08-16  1.961886e+10 2010-08-23      2.136123e+10 2010-08-30   \n",
              "3   2010-08-23  1.864616e+10 2010-08-30      2.065296e+10 2010-09-06   \n",
              "4   2010-08-30  1.802792e+10 2010-09-06               NaN 2010-09-13   \n",
              "..         ...           ...        ...               ...        ...   \n",
              "726 2024-07-01  5.256124e+10 2024-07-08      5.122210e+10 2024-07-15   \n",
              "727 2024-07-08  5.122210e+10 2024-07-15      5.544040e+10 2024-07-22   \n",
              "728 2024-07-15  5.544040e+10 2024-07-22      5.862755e+10 2024-07-29   \n",
              "729 2024-07-22  5.862755e+10 2024-07-29      5.953816e+10 2024-08-05   \n",
              "730 2024-07-29  5.953816e+10 2024-08-05      5.514578e+10 2024-08-12   \n",
              "\n",
              "     Market_Cap_Date3  Growth Rate  \n",
              "0        2.247556e+10    14.561019  \n",
              "1        2.136123e+10     7.556225  \n",
              "2        2.065296e+10     8.881084  \n",
              "3                 NaN    10.762541  \n",
              "4        2.301384e+10          NaN  \n",
              "..                ...          ...  \n",
              "726      5.544040e+10    -2.547771  \n",
              "727      5.862755e+10     8.235298  \n",
              "728      5.953816e+10     5.748785  \n",
              "729      5.514578e+10     1.553221  \n",
              "730      5.519935e+10    -7.377415  \n",
              "\n",
              "[731 rows x 7 columns]"
            ],
            "text/html": [
              "\n",
              "  <div id=\"df-024e4569-f2e1-4380-a75d-6212549238b3\" class=\"colab-df-container\">\n",
              "    <div>\n",
              "<style scoped>\n",
              "    .dataframe tbody tr th:only-of-type {\n",
              "        vertical-align: middle;\n",
              "    }\n",
              "\n",
              "    .dataframe tbody tr th {\n",
              "        vertical-align: top;\n",
              "    }\n",
              "\n",
              "    .dataframe thead th {\n",
              "        text-align: right;\n",
              "    }\n",
              "</style>\n",
              "<table border=\"1\" class=\"dataframe\">\n",
              "  <thead>\n",
              "    <tr style=\"text-align: right;\">\n",
              "      <th></th>\n",
              "      <th>date1</th>\n",
              "      <th>Market_Cap</th>\n",
              "      <th>date2</th>\n",
              "      <th>Market_Cap_Date2</th>\n",
              "      <th>date3</th>\n",
              "      <th>Market_Cap_Date3</th>\n",
              "      <th>Growth Rate</th>\n",
              "    </tr>\n",
              "  </thead>\n",
              "  <tbody>\n",
              "    <tr>\n",
              "      <th>0</th>\n",
              "      <td>2010-08-02</td>\n",
              "      <td>2.089656e+10</td>\n",
              "      <td>2010-08-09</td>\n",
              "      <td>2.393932e+10</td>\n",
              "      <td>2010-08-16</td>\n",
              "      <td>2.247556e+10</td>\n",
              "      <td>14.561019</td>\n",
              "    </tr>\n",
              "    <tr>\n",
              "      <th>1</th>\n",
              "      <td>2010-08-09</td>\n",
              "      <td>2.089656e+10</td>\n",
              "      <td>2010-08-16</td>\n",
              "      <td>2.247556e+10</td>\n",
              "      <td>2010-08-23</td>\n",
              "      <td>2.136123e+10</td>\n",
              "      <td>7.556225</td>\n",
              "    </tr>\n",
              "    <tr>\n",
              "      <th>2</th>\n",
              "      <td>2010-08-16</td>\n",
              "      <td>1.961886e+10</td>\n",
              "      <td>2010-08-23</td>\n",
              "      <td>2.136123e+10</td>\n",
              "      <td>2010-08-30</td>\n",
              "      <td>2.065296e+10</td>\n",
              "      <td>8.881084</td>\n",
              "    </tr>\n",
              "    <tr>\n",
              "      <th>3</th>\n",
              "      <td>2010-08-23</td>\n",
              "      <td>1.864616e+10</td>\n",
              "      <td>2010-08-30</td>\n",
              "      <td>2.065296e+10</td>\n",
              "      <td>2010-09-06</td>\n",
              "      <td>NaN</td>\n",
              "      <td>10.762541</td>\n",
              "    </tr>\n",
              "    <tr>\n",
              "      <th>4</th>\n",
              "      <td>2010-08-30</td>\n",
              "      <td>1.802792e+10</td>\n",
              "      <td>2010-09-06</td>\n",
              "      <td>NaN</td>\n",
              "      <td>2010-09-13</td>\n",
              "      <td>2.301384e+10</td>\n",
              "      <td>NaN</td>\n",
              "    </tr>\n",
              "    <tr>\n",
              "      <th>...</th>\n",
              "      <td>...</td>\n",
              "      <td>...</td>\n",
              "      <td>...</td>\n",
              "      <td>...</td>\n",
              "      <td>...</td>\n",
              "      <td>...</td>\n",
              "      <td>...</td>\n",
              "    </tr>\n",
              "    <tr>\n",
              "      <th>726</th>\n",
              "      <td>2024-07-01</td>\n",
              "      <td>5.256124e+10</td>\n",
              "      <td>2024-07-08</td>\n",
              "      <td>5.122210e+10</td>\n",
              "      <td>2024-07-15</td>\n",
              "      <td>5.544040e+10</td>\n",
              "      <td>-2.547771</td>\n",
              "    </tr>\n",
              "    <tr>\n",
              "      <th>727</th>\n",
              "      <td>2024-07-08</td>\n",
              "      <td>5.122210e+10</td>\n",
              "      <td>2024-07-15</td>\n",
              "      <td>5.544040e+10</td>\n",
              "      <td>2024-07-22</td>\n",
              "      <td>5.862755e+10</td>\n",
              "      <td>8.235298</td>\n",
              "    </tr>\n",
              "    <tr>\n",
              "      <th>728</th>\n",
              "      <td>2024-07-15</td>\n",
              "      <td>5.544040e+10</td>\n",
              "      <td>2024-07-22</td>\n",
              "      <td>5.862755e+10</td>\n",
              "      <td>2024-07-29</td>\n",
              "      <td>5.953816e+10</td>\n",
              "      <td>5.748785</td>\n",
              "    </tr>\n",
              "    <tr>\n",
              "      <th>729</th>\n",
              "      <td>2024-07-22</td>\n",
              "      <td>5.862755e+10</td>\n",
              "      <td>2024-07-29</td>\n",
              "      <td>5.953816e+10</td>\n",
              "      <td>2024-08-05</td>\n",
              "      <td>5.514578e+10</td>\n",
              "      <td>1.553221</td>\n",
              "    </tr>\n",
              "    <tr>\n",
              "      <th>730</th>\n",
              "      <td>2024-07-29</td>\n",
              "      <td>5.953816e+10</td>\n",
              "      <td>2024-08-05</td>\n",
              "      <td>5.514578e+10</td>\n",
              "      <td>2024-08-12</td>\n",
              "      <td>5.519935e+10</td>\n",
              "      <td>-7.377415</td>\n",
              "    </tr>\n",
              "  </tbody>\n",
              "</table>\n",
              "<p>731 rows × 7 columns</p>\n",
              "</div>\n",
              "    <div class=\"colab-df-buttons\">\n",
              "\n",
              "  <div class=\"colab-df-container\">\n",
              "    <button class=\"colab-df-convert\" onclick=\"convertToInteractive('df-024e4569-f2e1-4380-a75d-6212549238b3')\"\n",
              "            title=\"Convert this dataframe to an interactive table.\"\n",
              "            style=\"display:none;\">\n",
              "\n",
              "  <svg xmlns=\"http://www.w3.org/2000/svg\" height=\"24px\" viewBox=\"0 -960 960 960\">\n",
              "    <path d=\"M120-120v-720h720v720H120Zm60-500h600v-160H180v160Zm220 220h160v-160H400v160Zm0 220h160v-160H400v160ZM180-400h160v-160H180v160Zm440 0h160v-160H620v160ZM180-180h160v-160H180v160Zm440 0h160v-160H620v160Z\"/>\n",
              "  </svg>\n",
              "    </button>\n",
              "\n",
              "  <style>\n",
              "    .colab-df-container {\n",
              "      display:flex;\n",
              "      gap: 12px;\n",
              "    }\n",
              "\n",
              "    .colab-df-convert {\n",
              "      background-color: #E8F0FE;\n",
              "      border: none;\n",
              "      border-radius: 50%;\n",
              "      cursor: pointer;\n",
              "      display: none;\n",
              "      fill: #1967D2;\n",
              "      height: 32px;\n",
              "      padding: 0 0 0 0;\n",
              "      width: 32px;\n",
              "    }\n",
              "\n",
              "    .colab-df-convert:hover {\n",
              "      background-color: #E2EBFA;\n",
              "      box-shadow: 0px 1px 2px rgba(60, 64, 67, 0.3), 0px 1px 3px 1px rgba(60, 64, 67, 0.15);\n",
              "      fill: #174EA6;\n",
              "    }\n",
              "\n",
              "    .colab-df-buttons div {\n",
              "      margin-bottom: 4px;\n",
              "    }\n",
              "\n",
              "    [theme=dark] .colab-df-convert {\n",
              "      background-color: #3B4455;\n",
              "      fill: #D2E3FC;\n",
              "    }\n",
              "\n",
              "    [theme=dark] .colab-df-convert:hover {\n",
              "      background-color: #434B5C;\n",
              "      box-shadow: 0px 1px 3px 1px rgba(0, 0, 0, 0.15);\n",
              "      filter: drop-shadow(0px 1px 2px rgba(0, 0, 0, 0.3));\n",
              "      fill: #FFFFFF;\n",
              "    }\n",
              "  </style>\n",
              "\n",
              "    <script>\n",
              "      const buttonEl =\n",
              "        document.querySelector('#df-024e4569-f2e1-4380-a75d-6212549238b3 button.colab-df-convert');\n",
              "      buttonEl.style.display =\n",
              "        google.colab.kernel.accessAllowed ? 'block' : 'none';\n",
              "\n",
              "      async function convertToInteractive(key) {\n",
              "        const element = document.querySelector('#df-024e4569-f2e1-4380-a75d-6212549238b3');\n",
              "        const dataTable =\n",
              "          await google.colab.kernel.invokeFunction('convertToInteractive',\n",
              "                                                    [key], {});\n",
              "        if (!dataTable) return;\n",
              "\n",
              "        const docLinkHtml = 'Like what you see? Visit the ' +\n",
              "          '<a target=\"_blank\" href=https://colab.research.google.com/notebooks/data_table.ipynb>data table notebook</a>'\n",
              "          + ' to learn more about interactive tables.';\n",
              "        element.innerHTML = '';\n",
              "        dataTable['output_type'] = 'display_data';\n",
              "        await google.colab.output.renderOutput(dataTable, element);\n",
              "        const docLink = document.createElement('div');\n",
              "        docLink.innerHTML = docLinkHtml;\n",
              "        element.appendChild(docLink);\n",
              "      }\n",
              "    </script>\n",
              "  </div>\n",
              "\n",
              "\n",
              "<div id=\"df-2bc7a27f-ea76-4f32-9eae-ba0675f0dd90\">\n",
              "  <button class=\"colab-df-quickchart\" onclick=\"quickchart('df-2bc7a27f-ea76-4f32-9eae-ba0675f0dd90')\"\n",
              "            title=\"Suggest charts\"\n",
              "            style=\"display:none;\">\n",
              "\n",
              "<svg xmlns=\"http://www.w3.org/2000/svg\" height=\"24px\"viewBox=\"0 0 24 24\"\n",
              "     width=\"24px\">\n",
              "    <g>\n",
              "        <path d=\"M19 3H5c-1.1 0-2 .9-2 2v14c0 1.1.9 2 2 2h14c1.1 0 2-.9 2-2V5c0-1.1-.9-2-2-2zM9 17H7v-7h2v7zm4 0h-2V7h2v10zm4 0h-2v-4h2v4z\"/>\n",
              "    </g>\n",
              "</svg>\n",
              "  </button>\n",
              "\n",
              "<style>\n",
              "  .colab-df-quickchart {\n",
              "      --bg-color: #E8F0FE;\n",
              "      --fill-color: #1967D2;\n",
              "      --hover-bg-color: #E2EBFA;\n",
              "      --hover-fill-color: #174EA6;\n",
              "      --disabled-fill-color: #AAA;\n",
              "      --disabled-bg-color: #DDD;\n",
              "  }\n",
              "\n",
              "  [theme=dark] .colab-df-quickchart {\n",
              "      --bg-color: #3B4455;\n",
              "      --fill-color: #D2E3FC;\n",
              "      --hover-bg-color: #434B5C;\n",
              "      --hover-fill-color: #FFFFFF;\n",
              "      --disabled-bg-color: #3B4455;\n",
              "      --disabled-fill-color: #666;\n",
              "  }\n",
              "\n",
              "  .colab-df-quickchart {\n",
              "    background-color: var(--bg-color);\n",
              "    border: none;\n",
              "    border-radius: 50%;\n",
              "    cursor: pointer;\n",
              "    display: none;\n",
              "    fill: var(--fill-color);\n",
              "    height: 32px;\n",
              "    padding: 0;\n",
              "    width: 32px;\n",
              "  }\n",
              "\n",
              "  .colab-df-quickchart:hover {\n",
              "    background-color: var(--hover-bg-color);\n",
              "    box-shadow: 0 1px 2px rgba(60, 64, 67, 0.3), 0 1px 3px 1px rgba(60, 64, 67, 0.15);\n",
              "    fill: var(--button-hover-fill-color);\n",
              "  }\n",
              "\n",
              "  .colab-df-quickchart-complete:disabled,\n",
              "  .colab-df-quickchart-complete:disabled:hover {\n",
              "    background-color: var(--disabled-bg-color);\n",
              "    fill: var(--disabled-fill-color);\n",
              "    box-shadow: none;\n",
              "  }\n",
              "\n",
              "  .colab-df-spinner {\n",
              "    border: 2px solid var(--fill-color);\n",
              "    border-color: transparent;\n",
              "    border-bottom-color: var(--fill-color);\n",
              "    animation:\n",
              "      spin 1s steps(1) infinite;\n",
              "  }\n",
              "\n",
              "  @keyframes spin {\n",
              "    0% {\n",
              "      border-color: transparent;\n",
              "      border-bottom-color: var(--fill-color);\n",
              "      border-left-color: var(--fill-color);\n",
              "    }\n",
              "    20% {\n",
              "      border-color: transparent;\n",
              "      border-left-color: var(--fill-color);\n",
              "      border-top-color: var(--fill-color);\n",
              "    }\n",
              "    30% {\n",
              "      border-color: transparent;\n",
              "      border-left-color: var(--fill-color);\n",
              "      border-top-color: var(--fill-color);\n",
              "      border-right-color: var(--fill-color);\n",
              "    }\n",
              "    40% {\n",
              "      border-color: transparent;\n",
              "      border-right-color: var(--fill-color);\n",
              "      border-top-color: var(--fill-color);\n",
              "    }\n",
              "    60% {\n",
              "      border-color: transparent;\n",
              "      border-right-color: var(--fill-color);\n",
              "    }\n",
              "    80% {\n",
              "      border-color: transparent;\n",
              "      border-right-color: var(--fill-color);\n",
              "      border-bottom-color: var(--fill-color);\n",
              "    }\n",
              "    90% {\n",
              "      border-color: transparent;\n",
              "      border-bottom-color: var(--fill-color);\n",
              "    }\n",
              "  }\n",
              "</style>\n",
              "\n",
              "  <script>\n",
              "    async function quickchart(key) {\n",
              "      const quickchartButtonEl =\n",
              "        document.querySelector('#' + key + ' button');\n",
              "      quickchartButtonEl.disabled = true;  // To prevent multiple clicks.\n",
              "      quickchartButtonEl.classList.add('colab-df-spinner');\n",
              "      try {\n",
              "        const charts = await google.colab.kernel.invokeFunction(\n",
              "            'suggestCharts', [key], {});\n",
              "      } catch (error) {\n",
              "        console.error('Error during call to suggestCharts:', error);\n",
              "      }\n",
              "      quickchartButtonEl.classList.remove('colab-df-spinner');\n",
              "      quickchartButtonEl.classList.add('colab-df-quickchart-complete');\n",
              "    }\n",
              "    (() => {\n",
              "      let quickchartButtonEl =\n",
              "        document.querySelector('#df-2bc7a27f-ea76-4f32-9eae-ba0675f0dd90 button');\n",
              "      quickchartButtonEl.style.display =\n",
              "        google.colab.kernel.accessAllowed ? 'block' : 'none';\n",
              "    })();\n",
              "  </script>\n",
              "</div>\n",
              "\n",
              "  <div id=\"id_98ac3442-2817-481e-bb36-65542f253665\">\n",
              "    <style>\n",
              "      .colab-df-generate {\n",
              "        background-color: #E8F0FE;\n",
              "        border: none;\n",
              "        border-radius: 50%;\n",
              "        cursor: pointer;\n",
              "        display: none;\n",
              "        fill: #1967D2;\n",
              "        height: 32px;\n",
              "        padding: 0 0 0 0;\n",
              "        width: 32px;\n",
              "      }\n",
              "\n",
              "      .colab-df-generate:hover {\n",
              "        background-color: #E2EBFA;\n",
              "        box-shadow: 0px 1px 2px rgba(60, 64, 67, 0.3), 0px 1px 3px 1px rgba(60, 64, 67, 0.15);\n",
              "        fill: #174EA6;\n",
              "      }\n",
              "\n",
              "      [theme=dark] .colab-df-generate {\n",
              "        background-color: #3B4455;\n",
              "        fill: #D2E3FC;\n",
              "      }\n",
              "\n",
              "      [theme=dark] .colab-df-generate:hover {\n",
              "        background-color: #434B5C;\n",
              "        box-shadow: 0px 1px 3px 1px rgba(0, 0, 0, 0.15);\n",
              "        filter: drop-shadow(0px 1px 2px rgba(0, 0, 0, 0.3));\n",
              "        fill: #FFFFFF;\n",
              "      }\n",
              "    </style>\n",
              "    <button class=\"colab-df-generate\" onclick=\"generateWithVariable('df')\"\n",
              "            title=\"Generate code using this dataframe.\"\n",
              "            style=\"display:none;\">\n",
              "\n",
              "  <svg xmlns=\"http://www.w3.org/2000/svg\" height=\"24px\"viewBox=\"0 0 24 24\"\n",
              "       width=\"24px\">\n",
              "    <path d=\"M7,19H8.4L18.45,9,17,7.55,7,17.6ZM5,21V16.75L18.45,3.32a2,2,0,0,1,2.83,0l1.4,1.43a1.91,1.91,0,0,1,.58,1.4,1.91,1.91,0,0,1-.58,1.4L9.25,21ZM18.45,9,17,7.55Zm-12,3A5.31,5.31,0,0,0,4.9,8.1,5.31,5.31,0,0,0,1,6.5,5.31,5.31,0,0,0,4.9,4.9,5.31,5.31,0,0,0,6.5,1,5.31,5.31,0,0,0,8.1,4.9,5.31,5.31,0,0,0,12,6.5,5.46,5.46,0,0,0,6.5,12Z\"/>\n",
              "  </svg>\n",
              "    </button>\n",
              "    <script>\n",
              "      (() => {\n",
              "      const buttonEl =\n",
              "        document.querySelector('#id_98ac3442-2817-481e-bb36-65542f253665 button.colab-df-generate');\n",
              "      buttonEl.style.display =\n",
              "        google.colab.kernel.accessAllowed ? 'block' : 'none';\n",
              "\n",
              "      buttonEl.onclick = () => {\n",
              "        google.colab.notebook.generateWithVariable('df');\n",
              "      }\n",
              "      })();\n",
              "    </script>\n",
              "  </div>\n",
              "\n",
              "    </div>\n",
              "  </div>\n"
            ],
            "application/vnd.google.colaboratory.intrinsic+json": {
              "type": "dataframe",
              "variable_name": "df",
              "summary": "{\n  \"name\": \"df\",\n  \"rows\": 731,\n  \"fields\": [\n    {\n      \"column\": \"date1\",\n      \"properties\": {\n        \"dtype\": \"date\",\n        \"min\": \"2010-08-02 00:00:00\",\n        \"max\": \"2024-07-29 00:00:00\",\n        \"num_unique_values\": 731,\n        \"samples\": [\n          \"2024-01-22 00:00:00\",\n          \"2011-03-21 00:00:00\",\n          \"2016-05-02 00:00:00\"\n        ],\n        \"semantic_type\": \"\",\n        \"description\": \"\"\n      }\n    },\n    {\n      \"column\": \"Market_Cap\",\n      \"properties\": {\n        \"dtype\": \"number\",\n        \"std\": 16372716319.047026,\n        \"min\": 16186880671.529907,\n        \"max\": 86791721855.7793,\n        \"num_unique_values\": 654,\n        \"samples\": [\n          53022599899.12842,\n          26378274305.884766,\n          78176617349.88379\n        ],\n        \"semantic_type\": \"\",\n        \"description\": \"\"\n      }\n    },\n    {\n      \"column\": \"date2\",\n      \"properties\": {\n        \"dtype\": \"date\",\n        \"min\": \"2010-08-09 00:00:00\",\n        \"max\": \"2024-08-05 00:00:00\",\n        \"num_unique_values\": 731,\n        \"samples\": [\n          \"2024-01-29 00:00:00\",\n          \"2011-03-28 00:00:00\",\n          \"2016-05-09 00:00:00\"\n        ],\n        \"semantic_type\": \"\",\n        \"description\": \"\"\n      }\n    },\n    {\n      \"column\": \"Market_Cap_Date2\",\n      \"properties\": {\n        \"dtype\": \"number\",\n        \"std\": 15592800195.580288,\n        \"min\": 18543856718.95227,\n        \"max\": 86791721855.7793,\n        \"num_unique_values\": 654,\n        \"samples\": [\n          51344818086.87988,\n          30416518657.82007,\n          74552882446.39453\n        ],\n        \"semantic_type\": \"\",\n        \"description\": \"\"\n      }\n    },\n    {\n      \"column\": \"date3\",\n      \"properties\": {\n        \"dtype\": \"date\",\n        \"min\": \"2010-08-16 00:00:00\",\n        \"max\": \"2024-08-12 00:00:00\",\n        \"num_unique_values\": 731,\n        \"samples\": [\n          \"2024-02-05 00:00:00\",\n          \"2011-04-04 00:00:00\",\n          \"2016-05-16 00:00:00\"\n        ],\n        \"semantic_type\": \"\",\n        \"description\": \"\"\n      }\n    },\n    {\n      \"column\": \"Market_Cap_Date3\",\n      \"properties\": {\n        \"dtype\": \"number\",\n        \"std\": 15568703476.742409,\n        \"min\": 18543856718.95227,\n        \"max\": 86791721855.7793,\n        \"num_unique_values\": 654,\n        \"samples\": [\n          50839192419.717285,\n          31215663552.130127,\n          74968508083.20654\n        ],\n        \"semantic_type\": \"\",\n        \"description\": \"\"\n      }\n    },\n    {\n      \"column\": \"Growth Rate\",\n      \"properties\": {\n        \"dtype\": \"number\",\n        \"std\": 7.008730748349518,\n        \"min\": -30.125699815895796,\n        \"max\": 29.919438616334627,\n        \"num_unique_values\": 590,\n        \"samples\": [\n          0.17372819192210295,\n          1.344161214532053,\n          -9.522824233557078\n        ],\n        \"semantic_type\": \"\",\n        \"description\": \"\"\n      }\n    }\n  ]\n}"
            }
          },
          "metadata": {},
          "execution_count": 47
        }
      ]
    },
    {
      "cell_type": "code",
      "source": [
        "# Calculating the reaction weeks growth\n",
        "df['Reaction Growth Rate'] = ((df['Market_Cap_Date3'] - df['Market_Cap_Date2'])/ df['Market_Cap_Date2']) * 100\n",
        "df"
      ],
      "metadata": {
        "colab": {
          "base_uri": "https://localhost:8080/",
          "height": 424
        },
        "id": "iM0SsK-DFrre",
        "outputId": "9cae5d6d-f993-43f8-edbb-bfe6e09bac87"
      },
      "execution_count": 64,
      "outputs": [
        {
          "output_type": "execute_result",
          "data": {
            "text/plain": [
              "         date1    Market_Cap      date2  Market_Cap_Date2      date3  \\\n",
              "0   2010-08-02  2.089656e+10 2010-08-09      2.393932e+10 2010-08-16   \n",
              "1   2010-08-09  2.089656e+10 2010-08-16      2.247556e+10 2010-08-23   \n",
              "2   2010-08-16  1.961886e+10 2010-08-23      2.136123e+10 2010-08-30   \n",
              "3   2010-08-23  1.864616e+10 2010-08-30      2.065296e+10 2010-09-06   \n",
              "4   2010-08-30  1.802792e+10 2010-09-06               NaN 2010-09-13   \n",
              "..         ...           ...        ...               ...        ...   \n",
              "726 2024-07-01  5.256124e+10 2024-07-08      5.122210e+10 2024-07-15   \n",
              "727 2024-07-08  5.122210e+10 2024-07-15      5.544040e+10 2024-07-22   \n",
              "728 2024-07-15  5.544040e+10 2024-07-22      5.862755e+10 2024-07-29   \n",
              "729 2024-07-22  5.862755e+10 2024-07-29      5.953816e+10 2024-08-05   \n",
              "730 2024-07-29  5.953816e+10 2024-08-05      5.514578e+10 2024-08-12   \n",
              "\n",
              "     Market_Cap_Date3  Growth Rate  Reaction Growth Rate  \n",
              "0        2.247556e+10    14.561019             -6.114459  \n",
              "1        2.136123e+10     7.556225             -4.957959  \n",
              "2        2.065296e+10     8.881084             -3.315663  \n",
              "3                 NaN    10.762541                   NaN  \n",
              "4        2.301384e+10          NaN                   NaN  \n",
              "..                ...          ...                   ...  \n",
              "726      5.544040e+10    -2.547771              8.235298  \n",
              "727      5.862755e+10     8.235298              5.748785  \n",
              "728      5.953816e+10     5.748785              1.553221  \n",
              "729      5.514578e+10     1.553221             -7.377415  \n",
              "730      5.519935e+10    -7.377415              0.097137  \n",
              "\n",
              "[731 rows x 8 columns]"
            ],
            "text/html": [
              "\n",
              "  <div id=\"df-55780c40-15dc-447a-900f-16dbece9956f\" class=\"colab-df-container\">\n",
              "    <div>\n",
              "<style scoped>\n",
              "    .dataframe tbody tr th:only-of-type {\n",
              "        vertical-align: middle;\n",
              "    }\n",
              "\n",
              "    .dataframe tbody tr th {\n",
              "        vertical-align: top;\n",
              "    }\n",
              "\n",
              "    .dataframe thead th {\n",
              "        text-align: right;\n",
              "    }\n",
              "</style>\n",
              "<table border=\"1\" class=\"dataframe\">\n",
              "  <thead>\n",
              "    <tr style=\"text-align: right;\">\n",
              "      <th></th>\n",
              "      <th>date1</th>\n",
              "      <th>Market_Cap</th>\n",
              "      <th>date2</th>\n",
              "      <th>Market_Cap_Date2</th>\n",
              "      <th>date3</th>\n",
              "      <th>Market_Cap_Date3</th>\n",
              "      <th>Growth Rate</th>\n",
              "      <th>Reaction Growth Rate</th>\n",
              "    </tr>\n",
              "  </thead>\n",
              "  <tbody>\n",
              "    <tr>\n",
              "      <th>0</th>\n",
              "      <td>2010-08-02</td>\n",
              "      <td>2.089656e+10</td>\n",
              "      <td>2010-08-09</td>\n",
              "      <td>2.393932e+10</td>\n",
              "      <td>2010-08-16</td>\n",
              "      <td>2.247556e+10</td>\n",
              "      <td>14.561019</td>\n",
              "      <td>-6.114459</td>\n",
              "    </tr>\n",
              "    <tr>\n",
              "      <th>1</th>\n",
              "      <td>2010-08-09</td>\n",
              "      <td>2.089656e+10</td>\n",
              "      <td>2010-08-16</td>\n",
              "      <td>2.247556e+10</td>\n",
              "      <td>2010-08-23</td>\n",
              "      <td>2.136123e+10</td>\n",
              "      <td>7.556225</td>\n",
              "      <td>-4.957959</td>\n",
              "    </tr>\n",
              "    <tr>\n",
              "      <th>2</th>\n",
              "      <td>2010-08-16</td>\n",
              "      <td>1.961886e+10</td>\n",
              "      <td>2010-08-23</td>\n",
              "      <td>2.136123e+10</td>\n",
              "      <td>2010-08-30</td>\n",
              "      <td>2.065296e+10</td>\n",
              "      <td>8.881084</td>\n",
              "      <td>-3.315663</td>\n",
              "    </tr>\n",
              "    <tr>\n",
              "      <th>3</th>\n",
              "      <td>2010-08-23</td>\n",
              "      <td>1.864616e+10</td>\n",
              "      <td>2010-08-30</td>\n",
              "      <td>2.065296e+10</td>\n",
              "      <td>2010-09-06</td>\n",
              "      <td>NaN</td>\n",
              "      <td>10.762541</td>\n",
              "      <td>NaN</td>\n",
              "    </tr>\n",
              "    <tr>\n",
              "      <th>4</th>\n",
              "      <td>2010-08-30</td>\n",
              "      <td>1.802792e+10</td>\n",
              "      <td>2010-09-06</td>\n",
              "      <td>NaN</td>\n",
              "      <td>2010-09-13</td>\n",
              "      <td>2.301384e+10</td>\n",
              "      <td>NaN</td>\n",
              "      <td>NaN</td>\n",
              "    </tr>\n",
              "    <tr>\n",
              "      <th>...</th>\n",
              "      <td>...</td>\n",
              "      <td>...</td>\n",
              "      <td>...</td>\n",
              "      <td>...</td>\n",
              "      <td>...</td>\n",
              "      <td>...</td>\n",
              "      <td>...</td>\n",
              "      <td>...</td>\n",
              "    </tr>\n",
              "    <tr>\n",
              "      <th>726</th>\n",
              "      <td>2024-07-01</td>\n",
              "      <td>5.256124e+10</td>\n",
              "      <td>2024-07-08</td>\n",
              "      <td>5.122210e+10</td>\n",
              "      <td>2024-07-15</td>\n",
              "      <td>5.544040e+10</td>\n",
              "      <td>-2.547771</td>\n",
              "      <td>8.235298</td>\n",
              "    </tr>\n",
              "    <tr>\n",
              "      <th>727</th>\n",
              "      <td>2024-07-08</td>\n",
              "      <td>5.122210e+10</td>\n",
              "      <td>2024-07-15</td>\n",
              "      <td>5.544040e+10</td>\n",
              "      <td>2024-07-22</td>\n",
              "      <td>5.862755e+10</td>\n",
              "      <td>8.235298</td>\n",
              "      <td>5.748785</td>\n",
              "    </tr>\n",
              "    <tr>\n",
              "      <th>728</th>\n",
              "      <td>2024-07-15</td>\n",
              "      <td>5.544040e+10</td>\n",
              "      <td>2024-07-22</td>\n",
              "      <td>5.862755e+10</td>\n",
              "      <td>2024-07-29</td>\n",
              "      <td>5.953816e+10</td>\n",
              "      <td>5.748785</td>\n",
              "      <td>1.553221</td>\n",
              "    </tr>\n",
              "    <tr>\n",
              "      <th>729</th>\n",
              "      <td>2024-07-22</td>\n",
              "      <td>5.862755e+10</td>\n",
              "      <td>2024-07-29</td>\n",
              "      <td>5.953816e+10</td>\n",
              "      <td>2024-08-05</td>\n",
              "      <td>5.514578e+10</td>\n",
              "      <td>1.553221</td>\n",
              "      <td>-7.377415</td>\n",
              "    </tr>\n",
              "    <tr>\n",
              "      <th>730</th>\n",
              "      <td>2024-07-29</td>\n",
              "      <td>5.953816e+10</td>\n",
              "      <td>2024-08-05</td>\n",
              "      <td>5.514578e+10</td>\n",
              "      <td>2024-08-12</td>\n",
              "      <td>5.519935e+10</td>\n",
              "      <td>-7.377415</td>\n",
              "      <td>0.097137</td>\n",
              "    </tr>\n",
              "  </tbody>\n",
              "</table>\n",
              "<p>731 rows × 8 columns</p>\n",
              "</div>\n",
              "    <div class=\"colab-df-buttons\">\n",
              "\n",
              "  <div class=\"colab-df-container\">\n",
              "    <button class=\"colab-df-convert\" onclick=\"convertToInteractive('df-55780c40-15dc-447a-900f-16dbece9956f')\"\n",
              "            title=\"Convert this dataframe to an interactive table.\"\n",
              "            style=\"display:none;\">\n",
              "\n",
              "  <svg xmlns=\"http://www.w3.org/2000/svg\" height=\"24px\" viewBox=\"0 -960 960 960\">\n",
              "    <path d=\"M120-120v-720h720v720H120Zm60-500h600v-160H180v160Zm220 220h160v-160H400v160Zm0 220h160v-160H400v160ZM180-400h160v-160H180v160Zm440 0h160v-160H620v160ZM180-180h160v-160H180v160Zm440 0h160v-160H620v160Z\"/>\n",
              "  </svg>\n",
              "    </button>\n",
              "\n",
              "  <style>\n",
              "    .colab-df-container {\n",
              "      display:flex;\n",
              "      gap: 12px;\n",
              "    }\n",
              "\n",
              "    .colab-df-convert {\n",
              "      background-color: #E8F0FE;\n",
              "      border: none;\n",
              "      border-radius: 50%;\n",
              "      cursor: pointer;\n",
              "      display: none;\n",
              "      fill: #1967D2;\n",
              "      height: 32px;\n",
              "      padding: 0 0 0 0;\n",
              "      width: 32px;\n",
              "    }\n",
              "\n",
              "    .colab-df-convert:hover {\n",
              "      background-color: #E2EBFA;\n",
              "      box-shadow: 0px 1px 2px rgba(60, 64, 67, 0.3), 0px 1px 3px 1px rgba(60, 64, 67, 0.15);\n",
              "      fill: #174EA6;\n",
              "    }\n",
              "\n",
              "    .colab-df-buttons div {\n",
              "      margin-bottom: 4px;\n",
              "    }\n",
              "\n",
              "    [theme=dark] .colab-df-convert {\n",
              "      background-color: #3B4455;\n",
              "      fill: #D2E3FC;\n",
              "    }\n",
              "\n",
              "    [theme=dark] .colab-df-convert:hover {\n",
              "      background-color: #434B5C;\n",
              "      box-shadow: 0px 1px 3px 1px rgba(0, 0, 0, 0.15);\n",
              "      filter: drop-shadow(0px 1px 2px rgba(0, 0, 0, 0.3));\n",
              "      fill: #FFFFFF;\n",
              "    }\n",
              "  </style>\n",
              "\n",
              "    <script>\n",
              "      const buttonEl =\n",
              "        document.querySelector('#df-55780c40-15dc-447a-900f-16dbece9956f button.colab-df-convert');\n",
              "      buttonEl.style.display =\n",
              "        google.colab.kernel.accessAllowed ? 'block' : 'none';\n",
              "\n",
              "      async function convertToInteractive(key) {\n",
              "        const element = document.querySelector('#df-55780c40-15dc-447a-900f-16dbece9956f');\n",
              "        const dataTable =\n",
              "          await google.colab.kernel.invokeFunction('convertToInteractive',\n",
              "                                                    [key], {});\n",
              "        if (!dataTable) return;\n",
              "\n",
              "        const docLinkHtml = 'Like what you see? Visit the ' +\n",
              "          '<a target=\"_blank\" href=https://colab.research.google.com/notebooks/data_table.ipynb>data table notebook</a>'\n",
              "          + ' to learn more about interactive tables.';\n",
              "        element.innerHTML = '';\n",
              "        dataTable['output_type'] = 'display_data';\n",
              "        await google.colab.output.renderOutput(dataTable, element);\n",
              "        const docLink = document.createElement('div');\n",
              "        docLink.innerHTML = docLinkHtml;\n",
              "        element.appendChild(docLink);\n",
              "      }\n",
              "    </script>\n",
              "  </div>\n",
              "\n",
              "\n",
              "<div id=\"df-ab18148a-0f9a-4ed4-a8c4-a45729181c14\">\n",
              "  <button class=\"colab-df-quickchart\" onclick=\"quickchart('df-ab18148a-0f9a-4ed4-a8c4-a45729181c14')\"\n",
              "            title=\"Suggest charts\"\n",
              "            style=\"display:none;\">\n",
              "\n",
              "<svg xmlns=\"http://www.w3.org/2000/svg\" height=\"24px\"viewBox=\"0 0 24 24\"\n",
              "     width=\"24px\">\n",
              "    <g>\n",
              "        <path d=\"M19 3H5c-1.1 0-2 .9-2 2v14c0 1.1.9 2 2 2h14c1.1 0 2-.9 2-2V5c0-1.1-.9-2-2-2zM9 17H7v-7h2v7zm4 0h-2V7h2v10zm4 0h-2v-4h2v4z\"/>\n",
              "    </g>\n",
              "</svg>\n",
              "  </button>\n",
              "\n",
              "<style>\n",
              "  .colab-df-quickchart {\n",
              "      --bg-color: #E8F0FE;\n",
              "      --fill-color: #1967D2;\n",
              "      --hover-bg-color: #E2EBFA;\n",
              "      --hover-fill-color: #174EA6;\n",
              "      --disabled-fill-color: #AAA;\n",
              "      --disabled-bg-color: #DDD;\n",
              "  }\n",
              "\n",
              "  [theme=dark] .colab-df-quickchart {\n",
              "      --bg-color: #3B4455;\n",
              "      --fill-color: #D2E3FC;\n",
              "      --hover-bg-color: #434B5C;\n",
              "      --hover-fill-color: #FFFFFF;\n",
              "      --disabled-bg-color: #3B4455;\n",
              "      --disabled-fill-color: #666;\n",
              "  }\n",
              "\n",
              "  .colab-df-quickchart {\n",
              "    background-color: var(--bg-color);\n",
              "    border: none;\n",
              "    border-radius: 50%;\n",
              "    cursor: pointer;\n",
              "    display: none;\n",
              "    fill: var(--fill-color);\n",
              "    height: 32px;\n",
              "    padding: 0;\n",
              "    width: 32px;\n",
              "  }\n",
              "\n",
              "  .colab-df-quickchart:hover {\n",
              "    background-color: var(--hover-bg-color);\n",
              "    box-shadow: 0 1px 2px rgba(60, 64, 67, 0.3), 0 1px 3px 1px rgba(60, 64, 67, 0.15);\n",
              "    fill: var(--button-hover-fill-color);\n",
              "  }\n",
              "\n",
              "  .colab-df-quickchart-complete:disabled,\n",
              "  .colab-df-quickchart-complete:disabled:hover {\n",
              "    background-color: var(--disabled-bg-color);\n",
              "    fill: var(--disabled-fill-color);\n",
              "    box-shadow: none;\n",
              "  }\n",
              "\n",
              "  .colab-df-spinner {\n",
              "    border: 2px solid var(--fill-color);\n",
              "    border-color: transparent;\n",
              "    border-bottom-color: var(--fill-color);\n",
              "    animation:\n",
              "      spin 1s steps(1) infinite;\n",
              "  }\n",
              "\n",
              "  @keyframes spin {\n",
              "    0% {\n",
              "      border-color: transparent;\n",
              "      border-bottom-color: var(--fill-color);\n",
              "      border-left-color: var(--fill-color);\n",
              "    }\n",
              "    20% {\n",
              "      border-color: transparent;\n",
              "      border-left-color: var(--fill-color);\n",
              "      border-top-color: var(--fill-color);\n",
              "    }\n",
              "    30% {\n",
              "      border-color: transparent;\n",
              "      border-left-color: var(--fill-color);\n",
              "      border-top-color: var(--fill-color);\n",
              "      border-right-color: var(--fill-color);\n",
              "    }\n",
              "    40% {\n",
              "      border-color: transparent;\n",
              "      border-right-color: var(--fill-color);\n",
              "      border-top-color: var(--fill-color);\n",
              "    }\n",
              "    60% {\n",
              "      border-color: transparent;\n",
              "      border-right-color: var(--fill-color);\n",
              "    }\n",
              "    80% {\n",
              "      border-color: transparent;\n",
              "      border-right-color: var(--fill-color);\n",
              "      border-bottom-color: var(--fill-color);\n",
              "    }\n",
              "    90% {\n",
              "      border-color: transparent;\n",
              "      border-bottom-color: var(--fill-color);\n",
              "    }\n",
              "  }\n",
              "</style>\n",
              "\n",
              "  <script>\n",
              "    async function quickchart(key) {\n",
              "      const quickchartButtonEl =\n",
              "        document.querySelector('#' + key + ' button');\n",
              "      quickchartButtonEl.disabled = true;  // To prevent multiple clicks.\n",
              "      quickchartButtonEl.classList.add('colab-df-spinner');\n",
              "      try {\n",
              "        const charts = await google.colab.kernel.invokeFunction(\n",
              "            'suggestCharts', [key], {});\n",
              "      } catch (error) {\n",
              "        console.error('Error during call to suggestCharts:', error);\n",
              "      }\n",
              "      quickchartButtonEl.classList.remove('colab-df-spinner');\n",
              "      quickchartButtonEl.classList.add('colab-df-quickchart-complete');\n",
              "    }\n",
              "    (() => {\n",
              "      let quickchartButtonEl =\n",
              "        document.querySelector('#df-ab18148a-0f9a-4ed4-a8c4-a45729181c14 button');\n",
              "      quickchartButtonEl.style.display =\n",
              "        google.colab.kernel.accessAllowed ? 'block' : 'none';\n",
              "    })();\n",
              "  </script>\n",
              "</div>\n",
              "\n",
              "  <div id=\"id_0457fbb0-da75-4e3b-b317-8b603f791e24\">\n",
              "    <style>\n",
              "      .colab-df-generate {\n",
              "        background-color: #E8F0FE;\n",
              "        border: none;\n",
              "        border-radius: 50%;\n",
              "        cursor: pointer;\n",
              "        display: none;\n",
              "        fill: #1967D2;\n",
              "        height: 32px;\n",
              "        padding: 0 0 0 0;\n",
              "        width: 32px;\n",
              "      }\n",
              "\n",
              "      .colab-df-generate:hover {\n",
              "        background-color: #E2EBFA;\n",
              "        box-shadow: 0px 1px 2px rgba(60, 64, 67, 0.3), 0px 1px 3px 1px rgba(60, 64, 67, 0.15);\n",
              "        fill: #174EA6;\n",
              "      }\n",
              "\n",
              "      [theme=dark] .colab-df-generate {\n",
              "        background-color: #3B4455;\n",
              "        fill: #D2E3FC;\n",
              "      }\n",
              "\n",
              "      [theme=dark] .colab-df-generate:hover {\n",
              "        background-color: #434B5C;\n",
              "        box-shadow: 0px 1px 3px 1px rgba(0, 0, 0, 0.15);\n",
              "        filter: drop-shadow(0px 1px 2px rgba(0, 0, 0, 0.3));\n",
              "        fill: #FFFFFF;\n",
              "      }\n",
              "    </style>\n",
              "    <button class=\"colab-df-generate\" onclick=\"generateWithVariable('df')\"\n",
              "            title=\"Generate code using this dataframe.\"\n",
              "            style=\"display:none;\">\n",
              "\n",
              "  <svg xmlns=\"http://www.w3.org/2000/svg\" height=\"24px\"viewBox=\"0 0 24 24\"\n",
              "       width=\"24px\">\n",
              "    <path d=\"M7,19H8.4L18.45,9,17,7.55,7,17.6ZM5,21V16.75L18.45,3.32a2,2,0,0,1,2.83,0l1.4,1.43a1.91,1.91,0,0,1,.58,1.4,1.91,1.91,0,0,1-.58,1.4L9.25,21ZM18.45,9,17,7.55Zm-12,3A5.31,5.31,0,0,0,4.9,8.1,5.31,5.31,0,0,0,1,6.5,5.31,5.31,0,0,0,4.9,4.9,5.31,5.31,0,0,0,6.5,1,5.31,5.31,0,0,0,8.1,4.9,5.31,5.31,0,0,0,12,6.5,5.46,5.46,0,0,0,6.5,12Z\"/>\n",
              "  </svg>\n",
              "    </button>\n",
              "    <script>\n",
              "      (() => {\n",
              "      const buttonEl =\n",
              "        document.querySelector('#id_0457fbb0-da75-4e3b-b317-8b603f791e24 button.colab-df-generate');\n",
              "      buttonEl.style.display =\n",
              "        google.colab.kernel.accessAllowed ? 'block' : 'none';\n",
              "\n",
              "      buttonEl.onclick = () => {\n",
              "        google.colab.notebook.generateWithVariable('df');\n",
              "      }\n",
              "      })();\n",
              "    </script>\n",
              "  </div>\n",
              "\n",
              "    </div>\n",
              "  </div>\n"
            ],
            "application/vnd.google.colaboratory.intrinsic+json": {
              "type": "dataframe",
              "variable_name": "df",
              "summary": "{\n  \"name\": \"df\",\n  \"rows\": 731,\n  \"fields\": [\n    {\n      \"column\": \"date1\",\n      \"properties\": {\n        \"dtype\": \"date\",\n        \"min\": \"2010-08-02 00:00:00\",\n        \"max\": \"2024-07-29 00:00:00\",\n        \"num_unique_values\": 731,\n        \"samples\": [\n          \"2024-01-22 00:00:00\",\n          \"2011-03-21 00:00:00\",\n          \"2016-05-02 00:00:00\"\n        ],\n        \"semantic_type\": \"\",\n        \"description\": \"\"\n      }\n    },\n    {\n      \"column\": \"Market_Cap\",\n      \"properties\": {\n        \"dtype\": \"number\",\n        \"std\": 16372716319.047026,\n        \"min\": 16186880671.529907,\n        \"max\": 86791721855.7793,\n        \"num_unique_values\": 654,\n        \"samples\": [\n          53022599899.12842,\n          26378274305.884766,\n          78176617349.88379\n        ],\n        \"semantic_type\": \"\",\n        \"description\": \"\"\n      }\n    },\n    {\n      \"column\": \"date2\",\n      \"properties\": {\n        \"dtype\": \"date\",\n        \"min\": \"2010-08-09 00:00:00\",\n        \"max\": \"2024-08-05 00:00:00\",\n        \"num_unique_values\": 731,\n        \"samples\": [\n          \"2024-01-29 00:00:00\",\n          \"2011-03-28 00:00:00\",\n          \"2016-05-09 00:00:00\"\n        ],\n        \"semantic_type\": \"\",\n        \"description\": \"\"\n      }\n    },\n    {\n      \"column\": \"Market_Cap_Date2\",\n      \"properties\": {\n        \"dtype\": \"number\",\n        \"std\": 15592800195.580288,\n        \"min\": 18543856718.95227,\n        \"max\": 86791721855.7793,\n        \"num_unique_values\": 654,\n        \"samples\": [\n          51344818086.87988,\n          30416518657.82007,\n          74552882446.39453\n        ],\n        \"semantic_type\": \"\",\n        \"description\": \"\"\n      }\n    },\n    {\n      \"column\": \"date3\",\n      \"properties\": {\n        \"dtype\": \"date\",\n        \"min\": \"2010-08-16 00:00:00\",\n        \"max\": \"2024-08-12 00:00:00\",\n        \"num_unique_values\": 731,\n        \"samples\": [\n          \"2024-02-05 00:00:00\",\n          \"2011-04-04 00:00:00\",\n          \"2016-05-16 00:00:00\"\n        ],\n        \"semantic_type\": \"\",\n        \"description\": \"\"\n      }\n    },\n    {\n      \"column\": \"Market_Cap_Date3\",\n      \"properties\": {\n        \"dtype\": \"number\",\n        \"std\": 15568703476.742409,\n        \"min\": 18543856718.95227,\n        \"max\": 86791721855.7793,\n        \"num_unique_values\": 654,\n        \"samples\": [\n          50839192419.717285,\n          31215663552.130127,\n          74968508083.20654\n        ],\n        \"semantic_type\": \"\",\n        \"description\": \"\"\n      }\n    },\n    {\n      \"column\": \"Growth Rate\",\n      \"properties\": {\n        \"dtype\": \"number\",\n        \"std\": 7.008730748349518,\n        \"min\": -30.125699815895796,\n        \"max\": 29.919438616334627,\n        \"num_unique_values\": 590,\n        \"samples\": [\n          0.17372819192210295,\n          1.344161214532053,\n          -9.522824233557078\n        ],\n        \"semantic_type\": \"\",\n        \"description\": \"\"\n      }\n    },\n    {\n      \"column\": \"Reaction Growth Rate\",\n      \"properties\": {\n        \"dtype\": \"number\",\n        \"std\": 4.401355474099886,\n        \"min\": -30.125699815895796,\n        \"max\": 26.741914748588357,\n        \"num_unique_values\": 590,\n        \"samples\": [\n          -1.7559101550745106,\n          -0.3430209278632616,\n          2.970983348520667\n        ],\n        \"semantic_type\": \"\",\n        \"description\": \"\"\n      }\n    }\n  ]\n}"
            }
          },
          "metadata": {},
          "execution_count": 64
        }
      ]
    },
    {
      "cell_type": "code",
      "source": [
        "# Drop rows with any NaN values\n",
        "df_cleaned = df.dropna()\n",
        "\n",
        "# Display the cleaned DataFrame\n",
        "print(df_cleaned)"
      ],
      "metadata": {
        "colab": {
          "base_uri": "https://localhost:8080/"
        },
        "id": "0p_she_u45uS",
        "outputId": "6e3fc04f-c8cd-4fd7-d985-e9c41f074f7f"
      },
      "execution_count": 49,
      "outputs": [
        {
          "output_type": "stream",
          "name": "stdout",
          "text": [
            "         date1    Market_Cap      date2  Market_Cap_Date2      date3  \\\n",
            "0   2010-08-02  2.089656e+10 2010-08-09      2.393932e+10 2010-08-16   \n",
            "1   2010-08-09  2.089656e+10 2010-08-16      2.247556e+10 2010-08-23   \n",
            "2   2010-08-16  1.961886e+10 2010-08-23      2.136123e+10 2010-08-30   \n",
            "6   2010-09-13  2.008873e+10 2010-09-20      2.236224e+10 2010-09-27   \n",
            "7   2010-09-20  1.951995e+10 2010-09-27      2.272109e+10 2010-10-04   \n",
            "..         ...           ...        ...               ...        ...   \n",
            "726 2024-07-01  5.256124e+10 2024-07-08      5.122210e+10 2024-07-15   \n",
            "727 2024-07-08  5.122210e+10 2024-07-15      5.544040e+10 2024-07-22   \n",
            "728 2024-07-15  5.544040e+10 2024-07-22      5.862755e+10 2024-07-29   \n",
            "729 2024-07-22  5.862755e+10 2024-07-29      5.953816e+10 2024-08-05   \n",
            "730 2024-07-29  5.953816e+10 2024-08-05      5.514578e+10 2024-08-12   \n",
            "\n",
            "     Market_Cap_Date3  Growth Rate  Reaction Growth Rate  \n",
            "0        2.247556e+10    14.561019             -6.114459  \n",
            "1        2.136123e+10     7.556225             -4.957959  \n",
            "2        2.065296e+10     8.881084             -3.315663  \n",
            "6        2.272109e+10    11.317366              1.604717  \n",
            "7        2.273055e+10    16.399347              0.041605  \n",
            "..                ...          ...                   ...  \n",
            "726      5.544040e+10    -2.547771              8.235298  \n",
            "727      5.862755e+10     8.235298              5.748785  \n",
            "728      5.953816e+10     5.748785              1.553221  \n",
            "729      5.514578e+10     1.553221             -7.377415  \n",
            "730      5.519935e+10    -7.377415              0.097137  \n",
            "\n",
            "[528 rows x 8 columns]\n"
          ]
        }
      ]
    },
    {
      "cell_type": "code",
      "source": [
        "# Getting the average reaction\n",
        "df_cleaned['Reaction Growth Rate Indicator'] = df_cleaned['Reaction Growth Rate'].apply(lambda x: 1 if x > 0 else 0)\n",
        "df_cleaned"
      ],
      "metadata": {
        "colab": {
          "base_uri": "https://localhost:8080/",
          "height": 531
        },
        "id": "nzhgVmr86HW4",
        "outputId": "f0b6fc45-83bc-43a2-c07c-cde5fe513122"
      },
      "execution_count": 50,
      "outputs": [
        {
          "output_type": "stream",
          "name": "stderr",
          "text": [
            "<ipython-input-50-8cf9657ef64d>:2: SettingWithCopyWarning: \n",
            "A value is trying to be set on a copy of a slice from a DataFrame.\n",
            "Try using .loc[row_indexer,col_indexer] = value instead\n",
            "\n",
            "See the caveats in the documentation: https://pandas.pydata.org/pandas-docs/stable/user_guide/indexing.html#returning-a-view-versus-a-copy\n",
            "  df_cleaned['Reaction Growth Rate Indicator'] = df_cleaned['Reaction Growth Rate'].apply(lambda x: 1 if x > 0 else 0)\n"
          ]
        },
        {
          "output_type": "execute_result",
          "data": {
            "text/plain": [
              "         date1    Market_Cap      date2  Market_Cap_Date2      date3  \\\n",
              "0   2010-08-02  2.089656e+10 2010-08-09      2.393932e+10 2010-08-16   \n",
              "1   2010-08-09  2.089656e+10 2010-08-16      2.247556e+10 2010-08-23   \n",
              "2   2010-08-16  1.961886e+10 2010-08-23      2.136123e+10 2010-08-30   \n",
              "6   2010-09-13  2.008873e+10 2010-09-20      2.236224e+10 2010-09-27   \n",
              "7   2010-09-20  1.951995e+10 2010-09-27      2.272109e+10 2010-10-04   \n",
              "..         ...           ...        ...               ...        ...   \n",
              "726 2024-07-01  5.256124e+10 2024-07-08      5.122210e+10 2024-07-15   \n",
              "727 2024-07-08  5.122210e+10 2024-07-15      5.544040e+10 2024-07-22   \n",
              "728 2024-07-15  5.544040e+10 2024-07-22      5.862755e+10 2024-07-29   \n",
              "729 2024-07-22  5.862755e+10 2024-07-29      5.953816e+10 2024-08-05   \n",
              "730 2024-07-29  5.953816e+10 2024-08-05      5.514578e+10 2024-08-12   \n",
              "\n",
              "     Market_Cap_Date3  Growth Rate  Reaction Growth Rate  \\\n",
              "0        2.247556e+10    14.561019             -6.114459   \n",
              "1        2.136123e+10     7.556225             -4.957959   \n",
              "2        2.065296e+10     8.881084             -3.315663   \n",
              "6        2.272109e+10    11.317366              1.604717   \n",
              "7        2.273055e+10    16.399347              0.041605   \n",
              "..                ...          ...                   ...   \n",
              "726      5.544040e+10    -2.547771              8.235298   \n",
              "727      5.862755e+10     8.235298              5.748785   \n",
              "728      5.953816e+10     5.748785              1.553221   \n",
              "729      5.514578e+10     1.553221             -7.377415   \n",
              "730      5.519935e+10    -7.377415              0.097137   \n",
              "\n",
              "     Reaction Growth Rate Indicator  \n",
              "0                                 0  \n",
              "1                                 0  \n",
              "2                                 0  \n",
              "6                                 1  \n",
              "7                                 1  \n",
              "..                              ...  \n",
              "726                               1  \n",
              "727                               1  \n",
              "728                               1  \n",
              "729                               0  \n",
              "730                               1  \n",
              "\n",
              "[528 rows x 9 columns]"
            ],
            "text/html": [
              "\n",
              "  <div id=\"df-9327442a-8d94-476e-8804-5f51a3e47903\" class=\"colab-df-container\">\n",
              "    <div>\n",
              "<style scoped>\n",
              "    .dataframe tbody tr th:only-of-type {\n",
              "        vertical-align: middle;\n",
              "    }\n",
              "\n",
              "    .dataframe tbody tr th {\n",
              "        vertical-align: top;\n",
              "    }\n",
              "\n",
              "    .dataframe thead th {\n",
              "        text-align: right;\n",
              "    }\n",
              "</style>\n",
              "<table border=\"1\" class=\"dataframe\">\n",
              "  <thead>\n",
              "    <tr style=\"text-align: right;\">\n",
              "      <th></th>\n",
              "      <th>date1</th>\n",
              "      <th>Market_Cap</th>\n",
              "      <th>date2</th>\n",
              "      <th>Market_Cap_Date2</th>\n",
              "      <th>date3</th>\n",
              "      <th>Market_Cap_Date3</th>\n",
              "      <th>Growth Rate</th>\n",
              "      <th>Reaction Growth Rate</th>\n",
              "      <th>Reaction Growth Rate Indicator</th>\n",
              "    </tr>\n",
              "  </thead>\n",
              "  <tbody>\n",
              "    <tr>\n",
              "      <th>0</th>\n",
              "      <td>2010-08-02</td>\n",
              "      <td>2.089656e+10</td>\n",
              "      <td>2010-08-09</td>\n",
              "      <td>2.393932e+10</td>\n",
              "      <td>2010-08-16</td>\n",
              "      <td>2.247556e+10</td>\n",
              "      <td>14.561019</td>\n",
              "      <td>-6.114459</td>\n",
              "      <td>0</td>\n",
              "    </tr>\n",
              "    <tr>\n",
              "      <th>1</th>\n",
              "      <td>2010-08-09</td>\n",
              "      <td>2.089656e+10</td>\n",
              "      <td>2010-08-16</td>\n",
              "      <td>2.247556e+10</td>\n",
              "      <td>2010-08-23</td>\n",
              "      <td>2.136123e+10</td>\n",
              "      <td>7.556225</td>\n",
              "      <td>-4.957959</td>\n",
              "      <td>0</td>\n",
              "    </tr>\n",
              "    <tr>\n",
              "      <th>2</th>\n",
              "      <td>2010-08-16</td>\n",
              "      <td>1.961886e+10</td>\n",
              "      <td>2010-08-23</td>\n",
              "      <td>2.136123e+10</td>\n",
              "      <td>2010-08-30</td>\n",
              "      <td>2.065296e+10</td>\n",
              "      <td>8.881084</td>\n",
              "      <td>-3.315663</td>\n",
              "      <td>0</td>\n",
              "    </tr>\n",
              "    <tr>\n",
              "      <th>6</th>\n",
              "      <td>2010-09-13</td>\n",
              "      <td>2.008873e+10</td>\n",
              "      <td>2010-09-20</td>\n",
              "      <td>2.236224e+10</td>\n",
              "      <td>2010-09-27</td>\n",
              "      <td>2.272109e+10</td>\n",
              "      <td>11.317366</td>\n",
              "      <td>1.604717</td>\n",
              "      <td>1</td>\n",
              "    </tr>\n",
              "    <tr>\n",
              "      <th>7</th>\n",
              "      <td>2010-09-20</td>\n",
              "      <td>1.951995e+10</td>\n",
              "      <td>2010-09-27</td>\n",
              "      <td>2.272109e+10</td>\n",
              "      <td>2010-10-04</td>\n",
              "      <td>2.273055e+10</td>\n",
              "      <td>16.399347</td>\n",
              "      <td>0.041605</td>\n",
              "      <td>1</td>\n",
              "    </tr>\n",
              "    <tr>\n",
              "      <th>...</th>\n",
              "      <td>...</td>\n",
              "      <td>...</td>\n",
              "      <td>...</td>\n",
              "      <td>...</td>\n",
              "      <td>...</td>\n",
              "      <td>...</td>\n",
              "      <td>...</td>\n",
              "      <td>...</td>\n",
              "      <td>...</td>\n",
              "    </tr>\n",
              "    <tr>\n",
              "      <th>726</th>\n",
              "      <td>2024-07-01</td>\n",
              "      <td>5.256124e+10</td>\n",
              "      <td>2024-07-08</td>\n",
              "      <td>5.122210e+10</td>\n",
              "      <td>2024-07-15</td>\n",
              "      <td>5.544040e+10</td>\n",
              "      <td>-2.547771</td>\n",
              "      <td>8.235298</td>\n",
              "      <td>1</td>\n",
              "    </tr>\n",
              "    <tr>\n",
              "      <th>727</th>\n",
              "      <td>2024-07-08</td>\n",
              "      <td>5.122210e+10</td>\n",
              "      <td>2024-07-15</td>\n",
              "      <td>5.544040e+10</td>\n",
              "      <td>2024-07-22</td>\n",
              "      <td>5.862755e+10</td>\n",
              "      <td>8.235298</td>\n",
              "      <td>5.748785</td>\n",
              "      <td>1</td>\n",
              "    </tr>\n",
              "    <tr>\n",
              "      <th>728</th>\n",
              "      <td>2024-07-15</td>\n",
              "      <td>5.544040e+10</td>\n",
              "      <td>2024-07-22</td>\n",
              "      <td>5.862755e+10</td>\n",
              "      <td>2024-07-29</td>\n",
              "      <td>5.953816e+10</td>\n",
              "      <td>5.748785</td>\n",
              "      <td>1.553221</td>\n",
              "      <td>1</td>\n",
              "    </tr>\n",
              "    <tr>\n",
              "      <th>729</th>\n",
              "      <td>2024-07-22</td>\n",
              "      <td>5.862755e+10</td>\n",
              "      <td>2024-07-29</td>\n",
              "      <td>5.953816e+10</td>\n",
              "      <td>2024-08-05</td>\n",
              "      <td>5.514578e+10</td>\n",
              "      <td>1.553221</td>\n",
              "      <td>-7.377415</td>\n",
              "      <td>0</td>\n",
              "    </tr>\n",
              "    <tr>\n",
              "      <th>730</th>\n",
              "      <td>2024-07-29</td>\n",
              "      <td>5.953816e+10</td>\n",
              "      <td>2024-08-05</td>\n",
              "      <td>5.514578e+10</td>\n",
              "      <td>2024-08-12</td>\n",
              "      <td>5.519935e+10</td>\n",
              "      <td>-7.377415</td>\n",
              "      <td>0.097137</td>\n",
              "      <td>1</td>\n",
              "    </tr>\n",
              "  </tbody>\n",
              "</table>\n",
              "<p>528 rows × 9 columns</p>\n",
              "</div>\n",
              "    <div class=\"colab-df-buttons\">\n",
              "\n",
              "  <div class=\"colab-df-container\">\n",
              "    <button class=\"colab-df-convert\" onclick=\"convertToInteractive('df-9327442a-8d94-476e-8804-5f51a3e47903')\"\n",
              "            title=\"Convert this dataframe to an interactive table.\"\n",
              "            style=\"display:none;\">\n",
              "\n",
              "  <svg xmlns=\"http://www.w3.org/2000/svg\" height=\"24px\" viewBox=\"0 -960 960 960\">\n",
              "    <path d=\"M120-120v-720h720v720H120Zm60-500h600v-160H180v160Zm220 220h160v-160H400v160Zm0 220h160v-160H400v160ZM180-400h160v-160H180v160Zm440 0h160v-160H620v160ZM180-180h160v-160H180v160Zm440 0h160v-160H620v160Z\"/>\n",
              "  </svg>\n",
              "    </button>\n",
              "\n",
              "  <style>\n",
              "    .colab-df-container {\n",
              "      display:flex;\n",
              "      gap: 12px;\n",
              "    }\n",
              "\n",
              "    .colab-df-convert {\n",
              "      background-color: #E8F0FE;\n",
              "      border: none;\n",
              "      border-radius: 50%;\n",
              "      cursor: pointer;\n",
              "      display: none;\n",
              "      fill: #1967D2;\n",
              "      height: 32px;\n",
              "      padding: 0 0 0 0;\n",
              "      width: 32px;\n",
              "    }\n",
              "\n",
              "    .colab-df-convert:hover {\n",
              "      background-color: #E2EBFA;\n",
              "      box-shadow: 0px 1px 2px rgba(60, 64, 67, 0.3), 0px 1px 3px 1px rgba(60, 64, 67, 0.15);\n",
              "      fill: #174EA6;\n",
              "    }\n",
              "\n",
              "    .colab-df-buttons div {\n",
              "      margin-bottom: 4px;\n",
              "    }\n",
              "\n",
              "    [theme=dark] .colab-df-convert {\n",
              "      background-color: #3B4455;\n",
              "      fill: #D2E3FC;\n",
              "    }\n",
              "\n",
              "    [theme=dark] .colab-df-convert:hover {\n",
              "      background-color: #434B5C;\n",
              "      box-shadow: 0px 1px 3px 1px rgba(0, 0, 0, 0.15);\n",
              "      filter: drop-shadow(0px 1px 2px rgba(0, 0, 0, 0.3));\n",
              "      fill: #FFFFFF;\n",
              "    }\n",
              "  </style>\n",
              "\n",
              "    <script>\n",
              "      const buttonEl =\n",
              "        document.querySelector('#df-9327442a-8d94-476e-8804-5f51a3e47903 button.colab-df-convert');\n",
              "      buttonEl.style.display =\n",
              "        google.colab.kernel.accessAllowed ? 'block' : 'none';\n",
              "\n",
              "      async function convertToInteractive(key) {\n",
              "        const element = document.querySelector('#df-9327442a-8d94-476e-8804-5f51a3e47903');\n",
              "        const dataTable =\n",
              "          await google.colab.kernel.invokeFunction('convertToInteractive',\n",
              "                                                    [key], {});\n",
              "        if (!dataTable) return;\n",
              "\n",
              "        const docLinkHtml = 'Like what you see? Visit the ' +\n",
              "          '<a target=\"_blank\" href=https://colab.research.google.com/notebooks/data_table.ipynb>data table notebook</a>'\n",
              "          + ' to learn more about interactive tables.';\n",
              "        element.innerHTML = '';\n",
              "        dataTable['output_type'] = 'display_data';\n",
              "        await google.colab.output.renderOutput(dataTable, element);\n",
              "        const docLink = document.createElement('div');\n",
              "        docLink.innerHTML = docLinkHtml;\n",
              "        element.appendChild(docLink);\n",
              "      }\n",
              "    </script>\n",
              "  </div>\n",
              "\n",
              "\n",
              "<div id=\"df-a4227ba7-abb8-4884-8030-4006ab9c5e33\">\n",
              "  <button class=\"colab-df-quickchart\" onclick=\"quickchart('df-a4227ba7-abb8-4884-8030-4006ab9c5e33')\"\n",
              "            title=\"Suggest charts\"\n",
              "            style=\"display:none;\">\n",
              "\n",
              "<svg xmlns=\"http://www.w3.org/2000/svg\" height=\"24px\"viewBox=\"0 0 24 24\"\n",
              "     width=\"24px\">\n",
              "    <g>\n",
              "        <path d=\"M19 3H5c-1.1 0-2 .9-2 2v14c0 1.1.9 2 2 2h14c1.1 0 2-.9 2-2V5c0-1.1-.9-2-2-2zM9 17H7v-7h2v7zm4 0h-2V7h2v10zm4 0h-2v-4h2v4z\"/>\n",
              "    </g>\n",
              "</svg>\n",
              "  </button>\n",
              "\n",
              "<style>\n",
              "  .colab-df-quickchart {\n",
              "      --bg-color: #E8F0FE;\n",
              "      --fill-color: #1967D2;\n",
              "      --hover-bg-color: #E2EBFA;\n",
              "      --hover-fill-color: #174EA6;\n",
              "      --disabled-fill-color: #AAA;\n",
              "      --disabled-bg-color: #DDD;\n",
              "  }\n",
              "\n",
              "  [theme=dark] .colab-df-quickchart {\n",
              "      --bg-color: #3B4455;\n",
              "      --fill-color: #D2E3FC;\n",
              "      --hover-bg-color: #434B5C;\n",
              "      --hover-fill-color: #FFFFFF;\n",
              "      --disabled-bg-color: #3B4455;\n",
              "      --disabled-fill-color: #666;\n",
              "  }\n",
              "\n",
              "  .colab-df-quickchart {\n",
              "    background-color: var(--bg-color);\n",
              "    border: none;\n",
              "    border-radius: 50%;\n",
              "    cursor: pointer;\n",
              "    display: none;\n",
              "    fill: var(--fill-color);\n",
              "    height: 32px;\n",
              "    padding: 0;\n",
              "    width: 32px;\n",
              "  }\n",
              "\n",
              "  .colab-df-quickchart:hover {\n",
              "    background-color: var(--hover-bg-color);\n",
              "    box-shadow: 0 1px 2px rgba(60, 64, 67, 0.3), 0 1px 3px 1px rgba(60, 64, 67, 0.15);\n",
              "    fill: var(--button-hover-fill-color);\n",
              "  }\n",
              "\n",
              "  .colab-df-quickchart-complete:disabled,\n",
              "  .colab-df-quickchart-complete:disabled:hover {\n",
              "    background-color: var(--disabled-bg-color);\n",
              "    fill: var(--disabled-fill-color);\n",
              "    box-shadow: none;\n",
              "  }\n",
              "\n",
              "  .colab-df-spinner {\n",
              "    border: 2px solid var(--fill-color);\n",
              "    border-color: transparent;\n",
              "    border-bottom-color: var(--fill-color);\n",
              "    animation:\n",
              "      spin 1s steps(1) infinite;\n",
              "  }\n",
              "\n",
              "  @keyframes spin {\n",
              "    0% {\n",
              "      border-color: transparent;\n",
              "      border-bottom-color: var(--fill-color);\n",
              "      border-left-color: var(--fill-color);\n",
              "    }\n",
              "    20% {\n",
              "      border-color: transparent;\n",
              "      border-left-color: var(--fill-color);\n",
              "      border-top-color: var(--fill-color);\n",
              "    }\n",
              "    30% {\n",
              "      border-color: transparent;\n",
              "      border-left-color: var(--fill-color);\n",
              "      border-top-color: var(--fill-color);\n",
              "      border-right-color: var(--fill-color);\n",
              "    }\n",
              "    40% {\n",
              "      border-color: transparent;\n",
              "      border-right-color: var(--fill-color);\n",
              "      border-top-color: var(--fill-color);\n",
              "    }\n",
              "    60% {\n",
              "      border-color: transparent;\n",
              "      border-right-color: var(--fill-color);\n",
              "    }\n",
              "    80% {\n",
              "      border-color: transparent;\n",
              "      border-right-color: var(--fill-color);\n",
              "      border-bottom-color: var(--fill-color);\n",
              "    }\n",
              "    90% {\n",
              "      border-color: transparent;\n",
              "      border-bottom-color: var(--fill-color);\n",
              "    }\n",
              "  }\n",
              "</style>\n",
              "\n",
              "  <script>\n",
              "    async function quickchart(key) {\n",
              "      const quickchartButtonEl =\n",
              "        document.querySelector('#' + key + ' button');\n",
              "      quickchartButtonEl.disabled = true;  // To prevent multiple clicks.\n",
              "      quickchartButtonEl.classList.add('colab-df-spinner');\n",
              "      try {\n",
              "        const charts = await google.colab.kernel.invokeFunction(\n",
              "            'suggestCharts', [key], {});\n",
              "      } catch (error) {\n",
              "        console.error('Error during call to suggestCharts:', error);\n",
              "      }\n",
              "      quickchartButtonEl.classList.remove('colab-df-spinner');\n",
              "      quickchartButtonEl.classList.add('colab-df-quickchart-complete');\n",
              "    }\n",
              "    (() => {\n",
              "      let quickchartButtonEl =\n",
              "        document.querySelector('#df-a4227ba7-abb8-4884-8030-4006ab9c5e33 button');\n",
              "      quickchartButtonEl.style.display =\n",
              "        google.colab.kernel.accessAllowed ? 'block' : 'none';\n",
              "    })();\n",
              "  </script>\n",
              "</div>\n",
              "\n",
              "  <div id=\"id_de74d5d7-9d33-4799-ae5a-a5a787c4cc62\">\n",
              "    <style>\n",
              "      .colab-df-generate {\n",
              "        background-color: #E8F0FE;\n",
              "        border: none;\n",
              "        border-radius: 50%;\n",
              "        cursor: pointer;\n",
              "        display: none;\n",
              "        fill: #1967D2;\n",
              "        height: 32px;\n",
              "        padding: 0 0 0 0;\n",
              "        width: 32px;\n",
              "      }\n",
              "\n",
              "      .colab-df-generate:hover {\n",
              "        background-color: #E2EBFA;\n",
              "        box-shadow: 0px 1px 2px rgba(60, 64, 67, 0.3), 0px 1px 3px 1px rgba(60, 64, 67, 0.15);\n",
              "        fill: #174EA6;\n",
              "      }\n",
              "\n",
              "      [theme=dark] .colab-df-generate {\n",
              "        background-color: #3B4455;\n",
              "        fill: #D2E3FC;\n",
              "      }\n",
              "\n",
              "      [theme=dark] .colab-df-generate:hover {\n",
              "        background-color: #434B5C;\n",
              "        box-shadow: 0px 1px 3px 1px rgba(0, 0, 0, 0.15);\n",
              "        filter: drop-shadow(0px 1px 2px rgba(0, 0, 0, 0.3));\n",
              "        fill: #FFFFFF;\n",
              "      }\n",
              "    </style>\n",
              "    <button class=\"colab-df-generate\" onclick=\"generateWithVariable('df_cleaned')\"\n",
              "            title=\"Generate code using this dataframe.\"\n",
              "            style=\"display:none;\">\n",
              "\n",
              "  <svg xmlns=\"http://www.w3.org/2000/svg\" height=\"24px\"viewBox=\"0 0 24 24\"\n",
              "       width=\"24px\">\n",
              "    <path d=\"M7,19H8.4L18.45,9,17,7.55,7,17.6ZM5,21V16.75L18.45,3.32a2,2,0,0,1,2.83,0l1.4,1.43a1.91,1.91,0,0,1,.58,1.4,1.91,1.91,0,0,1-.58,1.4L9.25,21ZM18.45,9,17,7.55Zm-12,3A5.31,5.31,0,0,0,4.9,8.1,5.31,5.31,0,0,0,1,6.5,5.31,5.31,0,0,0,4.9,4.9,5.31,5.31,0,0,0,6.5,1,5.31,5.31,0,0,0,8.1,4.9,5.31,5.31,0,0,0,12,6.5,5.46,5.46,0,0,0,6.5,12Z\"/>\n",
              "  </svg>\n",
              "    </button>\n",
              "    <script>\n",
              "      (() => {\n",
              "      const buttonEl =\n",
              "        document.querySelector('#id_de74d5d7-9d33-4799-ae5a-a5a787c4cc62 button.colab-df-generate');\n",
              "      buttonEl.style.display =\n",
              "        google.colab.kernel.accessAllowed ? 'block' : 'none';\n",
              "\n",
              "      buttonEl.onclick = () => {\n",
              "        google.colab.notebook.generateWithVariable('df_cleaned');\n",
              "      }\n",
              "      })();\n",
              "    </script>\n",
              "  </div>\n",
              "\n",
              "    </div>\n",
              "  </div>\n"
            ],
            "application/vnd.google.colaboratory.intrinsic+json": {
              "type": "dataframe",
              "variable_name": "df_cleaned",
              "summary": "{\n  \"name\": \"df_cleaned\",\n  \"rows\": 528,\n  \"fields\": [\n    {\n      \"column\": \"date1\",\n      \"properties\": {\n        \"dtype\": \"date\",\n        \"min\": \"2010-08-02 00:00:00\",\n        \"max\": \"2024-07-29 00:00:00\",\n        \"num_unique_values\": 528,\n        \"samples\": [\n          \"2014-10-06 00:00:00\",\n          \"2020-11-09 00:00:00\",\n          \"2010-10-04 00:00:00\"\n        ],\n        \"semantic_type\": \"\",\n        \"description\": \"\"\n      }\n    },\n    {\n      \"column\": \"Market_Cap\",\n      \"properties\": {\n        \"dtype\": \"number\",\n        \"std\": 16236767915.141373,\n        \"min\": 17377467972.791626,\n        \"max\": 85462088645.44092,\n        \"num_unique_values\": 526,\n        \"samples\": [\n          56487498899.35449,\n          61641224101.97656,\n          19841426971.492065\n        ],\n        \"semantic_type\": \"\",\n        \"description\": \"\"\n      }\n    },\n    {\n      \"column\": \"date2\",\n      \"properties\": {\n        \"dtype\": \"date\",\n        \"min\": \"2010-08-09 00:00:00\",\n        \"max\": \"2024-08-05 00:00:00\",\n        \"num_unique_values\": 528,\n        \"samples\": [\n          \"2014-10-13 00:00:00\",\n          \"2020-11-16 00:00:00\",\n          \"2010-10-11 00:00:00\"\n        ],\n        \"semantic_type\": \"\",\n        \"description\": \"\"\n      }\n    },\n    {\n      \"column\": \"Market_Cap_Date2\",\n      \"properties\": {\n        \"dtype\": \"number\",\n        \"std\": 15399068205.899061,\n        \"min\": 18543856718.95227,\n        \"max\": 85462088645.44092,\n        \"num_unique_values\": 526,\n        \"samples\": [\n          58805175921.15039,\n          59129718543.93408,\n          22192263982.90161\n        ],\n        \"semantic_type\": \"\",\n        \"description\": \"\"\n      }\n    },\n    {\n      \"column\": \"date3\",\n      \"properties\": {\n        \"dtype\": \"date\",\n        \"min\": \"2010-08-16 00:00:00\",\n        \"max\": \"2024-08-12 00:00:00\",\n        \"num_unique_values\": 528,\n        \"samples\": [\n          \"2014-10-20 00:00:00\",\n          \"2020-11-23 00:00:00\",\n          \"2010-10-18 00:00:00\"\n        ],\n        \"semantic_type\": \"\",\n        \"description\": \"\"\n      }\n    },\n    {\n      \"column\": \"Market_Cap_Date3\",\n      \"properties\": {\n        \"dtype\": \"number\",\n        \"std\": 15437278295.710264,\n        \"min\": 18543856718.95227,\n        \"max\": 86791721855.7793,\n        \"num_unique_values\": 525,\n        \"samples\": [\n          58805175921.15039,\n          61915254731.33838,\n          21981271177.045654\n        ],\n        \"semantic_type\": \"\",\n        \"description\": \"\"\n      }\n    },\n    {\n      \"column\": \"Growth Rate\",\n      \"properties\": {\n        \"dtype\": \"number\",\n        \"std\": 7.062661580302249,\n        \"min\": -30.125699815895796,\n        \"max\": 27.306742722885947,\n        \"num_unique_values\": 528,\n        \"samples\": [\n          -1.6980397958676083,\n          1.0343350150091777,\n          11.84812470790131\n        ],\n        \"semantic_type\": \"\",\n        \"description\": \"\"\n      }\n    },\n    {\n      \"column\": \"Reaction Growth Rate\",\n      \"properties\": {\n        \"dtype\": \"number\",\n        \"std\": 4.387988958801025,\n        \"min\": -30.125699815895796,\n        \"max\": 26.741914748588357,\n        \"num_unique_values\": 528,\n        \"samples\": [\n          -4.534413267801188,\n          -3.273628968410325,\n          -0.9507493512988123\n        ],\n        \"semantic_type\": \"\",\n        \"description\": \"\"\n      }\n    },\n    {\n      \"column\": \"Reaction Growth Rate Indicator\",\n      \"properties\": {\n        \"dtype\": \"number\",\n        \"std\": 0,\n        \"min\": 0,\n        \"max\": 1,\n        \"num_unique_values\": 2,\n        \"samples\": [\n          1,\n          0\n        ],\n        \"semantic_type\": \"\",\n        \"description\": \"\"\n      }\n    }\n  ]\n}"
            }
          },
          "metadata": {},
          "execution_count": 50
        }
      ]
    },
    {
      "cell_type": "code",
      "source": [
        "# Calculate the average of the 'Reaction Growth Rate Indicator' column to get the percentage of positive weeks\n",
        "average_indicator = df_cleaned['Reaction Growth Rate Indicator'].mean()\n",
        "\n",
        "print(f\"Average of 'Reaction Growth Rate Indicator': {average_indicator}\")"
      ],
      "metadata": {
        "colab": {
          "base_uri": "https://localhost:8080/"
        },
        "id": "ftmLfOqA68Cn",
        "outputId": "69ea9805-d4ad-44a7-c776-367af1f8e3a6"
      },
      "execution_count": 51,
      "outputs": [
        {
          "output_type": "stream",
          "name": "stdout",
          "text": [
            "Average of 'Reaction Growth Rate Indicator': 0.5492424242424242\n"
          ]
        }
      ]
    },
    {
      "cell_type": "code",
      "source": [
        "# Creating new dataframes for each category\n",
        "\n",
        "veryneg = df_cleaned[df_cleaned['Growth Rate'] < -5]\n",
        "\n",
        "neg1 = df_cleaned[df_cleaned['Growth Rate'] < -1]\n",
        "neg = neg1[neg1['Growth Rate'] > -5]\n",
        "\n",
        "neutral1 = df_cleaned[df_cleaned['Growth Rate'] > -1]\n",
        "neutral = neutral1[neutral1['Growth Rate'] < 1]\n",
        "\n",
        "pos1 = df_cleaned[df_cleaned['Growth Rate'] < 5]\n",
        "pos = pos1[pos1['Growth Rate'] > 1]\n",
        "\n",
        "verypos = df_cleaned[df_cleaned['Growth Rate'] > 5]\n",
        "\n",
        "neutral"
      ],
      "metadata": {
        "colab": {
          "base_uri": "https://localhost:8080/",
          "height": 424
        },
        "id": "BI8ymsJCFxyk",
        "outputId": "3ea490c5-7e19-4c15-cdbd-58a197efe14b"
      },
      "execution_count": 52,
      "outputs": [
        {
          "output_type": "execute_result",
          "data": {
            "text/plain": [
              "         date1    Market_Cap      date2  Market_Cap_Date2      date3  \\\n",
              "124 2012-12-17  2.912163e+10 2012-12-24      2.921155e+10 2012-12-31   \n",
              "125 2012-12-24  2.921155e+10 2012-12-31      2.908168e+10 2013-01-07   \n",
              "137 2013-03-18  3.116367e+10 2013-03-25      3.123460e+10 2013-04-01   \n",
              "138 2013-03-25  3.123460e+10 2013-04-01      3.130555e+10 2013-04-08   \n",
              "140 2013-04-08  3.078868e+10 2013-04-15      3.050493e+10 2013-04-22   \n",
              "..         ...           ...        ...               ...        ...   \n",
              "685 2023-09-18  3.839314e+10 2023-09-25      3.862080e+10 2023-10-02   \n",
              "687 2023-10-02  3.700044e+10 2023-10-09      3.673261e+10 2023-10-16   \n",
              "716 2024-04-22  5.096767e+10 2024-04-29      5.130245e+10 2024-05-06   \n",
              "718 2024-05-06  5.278890e+10 2024-05-13      5.246750e+10 2024-05-20   \n",
              "723 2024-06-10  4.823582e+10 2024-06-17      4.794121e+10 2024-06-24   \n",
              "\n",
              "     Market_Cap_Date3  Growth Rate  Reaction Growth Rate  \\\n",
              "124      2.908168e+10     0.308777             -0.444606   \n",
              "125      3.021839e+10    -0.444606              3.908686   \n",
              "137      3.130555e+10     0.227606              0.227138   \n",
              "138      3.078868e+10     0.227138             -1.651039   \n",
              "140      3.017048e+10    -0.921611             -1.096365   \n",
              "..                ...          ...                   ...   \n",
              "685      3.700044e+10     0.592955             -4.195565   \n",
              "687      3.883506e+10    -0.723847              5.723659   \n",
              "716      5.278890e+10     0.656858              2.897407   \n",
              "718      5.226663e+10    -0.608823             -0.382852   \n",
              "723      5.016418e+10    -0.610775              4.636871   \n",
              "\n",
              "     Reaction Growth Rate Indicator  \n",
              "124                               0  \n",
              "125                               1  \n",
              "137                               1  \n",
              "138                               0  \n",
              "140                               0  \n",
              "..                              ...  \n",
              "685                               0  \n",
              "687                               1  \n",
              "716                               1  \n",
              "718                               0  \n",
              "723                               1  \n",
              "\n",
              "[114 rows x 9 columns]"
            ],
            "text/html": [
              "\n",
              "  <div id=\"df-648c0e7d-f41e-4317-92d6-56cb3042d182\" class=\"colab-df-container\">\n",
              "    <div>\n",
              "<style scoped>\n",
              "    .dataframe tbody tr th:only-of-type {\n",
              "        vertical-align: middle;\n",
              "    }\n",
              "\n",
              "    .dataframe tbody tr th {\n",
              "        vertical-align: top;\n",
              "    }\n",
              "\n",
              "    .dataframe thead th {\n",
              "        text-align: right;\n",
              "    }\n",
              "</style>\n",
              "<table border=\"1\" class=\"dataframe\">\n",
              "  <thead>\n",
              "    <tr style=\"text-align: right;\">\n",
              "      <th></th>\n",
              "      <th>date1</th>\n",
              "      <th>Market_Cap</th>\n",
              "      <th>date2</th>\n",
              "      <th>Market_Cap_Date2</th>\n",
              "      <th>date3</th>\n",
              "      <th>Market_Cap_Date3</th>\n",
              "      <th>Growth Rate</th>\n",
              "      <th>Reaction Growth Rate</th>\n",
              "      <th>Reaction Growth Rate Indicator</th>\n",
              "    </tr>\n",
              "  </thead>\n",
              "  <tbody>\n",
              "    <tr>\n",
              "      <th>124</th>\n",
              "      <td>2012-12-17</td>\n",
              "      <td>2.912163e+10</td>\n",
              "      <td>2012-12-24</td>\n",
              "      <td>2.921155e+10</td>\n",
              "      <td>2012-12-31</td>\n",
              "      <td>2.908168e+10</td>\n",
              "      <td>0.308777</td>\n",
              "      <td>-0.444606</td>\n",
              "      <td>0</td>\n",
              "    </tr>\n",
              "    <tr>\n",
              "      <th>125</th>\n",
              "      <td>2012-12-24</td>\n",
              "      <td>2.921155e+10</td>\n",
              "      <td>2012-12-31</td>\n",
              "      <td>2.908168e+10</td>\n",
              "      <td>2013-01-07</td>\n",
              "      <td>3.021839e+10</td>\n",
              "      <td>-0.444606</td>\n",
              "      <td>3.908686</td>\n",
              "      <td>1</td>\n",
              "    </tr>\n",
              "    <tr>\n",
              "      <th>137</th>\n",
              "      <td>2013-03-18</td>\n",
              "      <td>3.116367e+10</td>\n",
              "      <td>2013-03-25</td>\n",
              "      <td>3.123460e+10</td>\n",
              "      <td>2013-04-01</td>\n",
              "      <td>3.130555e+10</td>\n",
              "      <td>0.227606</td>\n",
              "      <td>0.227138</td>\n",
              "      <td>1</td>\n",
              "    </tr>\n",
              "    <tr>\n",
              "      <th>138</th>\n",
              "      <td>2013-03-25</td>\n",
              "      <td>3.123460e+10</td>\n",
              "      <td>2013-04-01</td>\n",
              "      <td>3.130555e+10</td>\n",
              "      <td>2013-04-08</td>\n",
              "      <td>3.078868e+10</td>\n",
              "      <td>0.227138</td>\n",
              "      <td>-1.651039</td>\n",
              "      <td>0</td>\n",
              "    </tr>\n",
              "    <tr>\n",
              "      <th>140</th>\n",
              "      <td>2013-04-08</td>\n",
              "      <td>3.078868e+10</td>\n",
              "      <td>2013-04-15</td>\n",
              "      <td>3.050493e+10</td>\n",
              "      <td>2013-04-22</td>\n",
              "      <td>3.017048e+10</td>\n",
              "      <td>-0.921611</td>\n",
              "      <td>-1.096365</td>\n",
              "      <td>0</td>\n",
              "    </tr>\n",
              "    <tr>\n",
              "      <th>...</th>\n",
              "      <td>...</td>\n",
              "      <td>...</td>\n",
              "      <td>...</td>\n",
              "      <td>...</td>\n",
              "      <td>...</td>\n",
              "      <td>...</td>\n",
              "      <td>...</td>\n",
              "      <td>...</td>\n",
              "      <td>...</td>\n",
              "    </tr>\n",
              "    <tr>\n",
              "      <th>685</th>\n",
              "      <td>2023-09-18</td>\n",
              "      <td>3.839314e+10</td>\n",
              "      <td>2023-09-25</td>\n",
              "      <td>3.862080e+10</td>\n",
              "      <td>2023-10-02</td>\n",
              "      <td>3.700044e+10</td>\n",
              "      <td>0.592955</td>\n",
              "      <td>-4.195565</td>\n",
              "      <td>0</td>\n",
              "    </tr>\n",
              "    <tr>\n",
              "      <th>687</th>\n",
              "      <td>2023-10-02</td>\n",
              "      <td>3.700044e+10</td>\n",
              "      <td>2023-10-09</td>\n",
              "      <td>3.673261e+10</td>\n",
              "      <td>2023-10-16</td>\n",
              "      <td>3.883506e+10</td>\n",
              "      <td>-0.723847</td>\n",
              "      <td>5.723659</td>\n",
              "      <td>1</td>\n",
              "    </tr>\n",
              "    <tr>\n",
              "      <th>716</th>\n",
              "      <td>2024-04-22</td>\n",
              "      <td>5.096767e+10</td>\n",
              "      <td>2024-04-29</td>\n",
              "      <td>5.130245e+10</td>\n",
              "      <td>2024-05-06</td>\n",
              "      <td>5.278890e+10</td>\n",
              "      <td>0.656858</td>\n",
              "      <td>2.897407</td>\n",
              "      <td>1</td>\n",
              "    </tr>\n",
              "    <tr>\n",
              "      <th>718</th>\n",
              "      <td>2024-05-06</td>\n",
              "      <td>5.278890e+10</td>\n",
              "      <td>2024-05-13</td>\n",
              "      <td>5.246750e+10</td>\n",
              "      <td>2024-05-20</td>\n",
              "      <td>5.226663e+10</td>\n",
              "      <td>-0.608823</td>\n",
              "      <td>-0.382852</td>\n",
              "      <td>0</td>\n",
              "    </tr>\n",
              "    <tr>\n",
              "      <th>723</th>\n",
              "      <td>2024-06-10</td>\n",
              "      <td>4.823582e+10</td>\n",
              "      <td>2024-06-17</td>\n",
              "      <td>4.794121e+10</td>\n",
              "      <td>2024-06-24</td>\n",
              "      <td>5.016418e+10</td>\n",
              "      <td>-0.610775</td>\n",
              "      <td>4.636871</td>\n",
              "      <td>1</td>\n",
              "    </tr>\n",
              "  </tbody>\n",
              "</table>\n",
              "<p>114 rows × 9 columns</p>\n",
              "</div>\n",
              "    <div class=\"colab-df-buttons\">\n",
              "\n",
              "  <div class=\"colab-df-container\">\n",
              "    <button class=\"colab-df-convert\" onclick=\"convertToInteractive('df-648c0e7d-f41e-4317-92d6-56cb3042d182')\"\n",
              "            title=\"Convert this dataframe to an interactive table.\"\n",
              "            style=\"display:none;\">\n",
              "\n",
              "  <svg xmlns=\"http://www.w3.org/2000/svg\" height=\"24px\" viewBox=\"0 -960 960 960\">\n",
              "    <path d=\"M120-120v-720h720v720H120Zm60-500h600v-160H180v160Zm220 220h160v-160H400v160Zm0 220h160v-160H400v160ZM180-400h160v-160H180v160Zm440 0h160v-160H620v160ZM180-180h160v-160H180v160Zm440 0h160v-160H620v160Z\"/>\n",
              "  </svg>\n",
              "    </button>\n",
              "\n",
              "  <style>\n",
              "    .colab-df-container {\n",
              "      display:flex;\n",
              "      gap: 12px;\n",
              "    }\n",
              "\n",
              "    .colab-df-convert {\n",
              "      background-color: #E8F0FE;\n",
              "      border: none;\n",
              "      border-radius: 50%;\n",
              "      cursor: pointer;\n",
              "      display: none;\n",
              "      fill: #1967D2;\n",
              "      height: 32px;\n",
              "      padding: 0 0 0 0;\n",
              "      width: 32px;\n",
              "    }\n",
              "\n",
              "    .colab-df-convert:hover {\n",
              "      background-color: #E2EBFA;\n",
              "      box-shadow: 0px 1px 2px rgba(60, 64, 67, 0.3), 0px 1px 3px 1px rgba(60, 64, 67, 0.15);\n",
              "      fill: #174EA6;\n",
              "    }\n",
              "\n",
              "    .colab-df-buttons div {\n",
              "      margin-bottom: 4px;\n",
              "    }\n",
              "\n",
              "    [theme=dark] .colab-df-convert {\n",
              "      background-color: #3B4455;\n",
              "      fill: #D2E3FC;\n",
              "    }\n",
              "\n",
              "    [theme=dark] .colab-df-convert:hover {\n",
              "      background-color: #434B5C;\n",
              "      box-shadow: 0px 1px 3px 1px rgba(0, 0, 0, 0.15);\n",
              "      filter: drop-shadow(0px 1px 2px rgba(0, 0, 0, 0.3));\n",
              "      fill: #FFFFFF;\n",
              "    }\n",
              "  </style>\n",
              "\n",
              "    <script>\n",
              "      const buttonEl =\n",
              "        document.querySelector('#df-648c0e7d-f41e-4317-92d6-56cb3042d182 button.colab-df-convert');\n",
              "      buttonEl.style.display =\n",
              "        google.colab.kernel.accessAllowed ? 'block' : 'none';\n",
              "\n",
              "      async function convertToInteractive(key) {\n",
              "        const element = document.querySelector('#df-648c0e7d-f41e-4317-92d6-56cb3042d182');\n",
              "        const dataTable =\n",
              "          await google.colab.kernel.invokeFunction('convertToInteractive',\n",
              "                                                    [key], {});\n",
              "        if (!dataTable) return;\n",
              "\n",
              "        const docLinkHtml = 'Like what you see? Visit the ' +\n",
              "          '<a target=\"_blank\" href=https://colab.research.google.com/notebooks/data_table.ipynb>data table notebook</a>'\n",
              "          + ' to learn more about interactive tables.';\n",
              "        element.innerHTML = '';\n",
              "        dataTable['output_type'] = 'display_data';\n",
              "        await google.colab.output.renderOutput(dataTable, element);\n",
              "        const docLink = document.createElement('div');\n",
              "        docLink.innerHTML = docLinkHtml;\n",
              "        element.appendChild(docLink);\n",
              "      }\n",
              "    </script>\n",
              "  </div>\n",
              "\n",
              "\n",
              "<div id=\"df-60e10dce-ee50-47b6-8793-2f87447984ac\">\n",
              "  <button class=\"colab-df-quickchart\" onclick=\"quickchart('df-60e10dce-ee50-47b6-8793-2f87447984ac')\"\n",
              "            title=\"Suggest charts\"\n",
              "            style=\"display:none;\">\n",
              "\n",
              "<svg xmlns=\"http://www.w3.org/2000/svg\" height=\"24px\"viewBox=\"0 0 24 24\"\n",
              "     width=\"24px\">\n",
              "    <g>\n",
              "        <path d=\"M19 3H5c-1.1 0-2 .9-2 2v14c0 1.1.9 2 2 2h14c1.1 0 2-.9 2-2V5c0-1.1-.9-2-2-2zM9 17H7v-7h2v7zm4 0h-2V7h2v10zm4 0h-2v-4h2v4z\"/>\n",
              "    </g>\n",
              "</svg>\n",
              "  </button>\n",
              "\n",
              "<style>\n",
              "  .colab-df-quickchart {\n",
              "      --bg-color: #E8F0FE;\n",
              "      --fill-color: #1967D2;\n",
              "      --hover-bg-color: #E2EBFA;\n",
              "      --hover-fill-color: #174EA6;\n",
              "      --disabled-fill-color: #AAA;\n",
              "      --disabled-bg-color: #DDD;\n",
              "  }\n",
              "\n",
              "  [theme=dark] .colab-df-quickchart {\n",
              "      --bg-color: #3B4455;\n",
              "      --fill-color: #D2E3FC;\n",
              "      --hover-bg-color: #434B5C;\n",
              "      --hover-fill-color: #FFFFFF;\n",
              "      --disabled-bg-color: #3B4455;\n",
              "      --disabled-fill-color: #666;\n",
              "  }\n",
              "\n",
              "  .colab-df-quickchart {\n",
              "    background-color: var(--bg-color);\n",
              "    border: none;\n",
              "    border-radius: 50%;\n",
              "    cursor: pointer;\n",
              "    display: none;\n",
              "    fill: var(--fill-color);\n",
              "    height: 32px;\n",
              "    padding: 0;\n",
              "    width: 32px;\n",
              "  }\n",
              "\n",
              "  .colab-df-quickchart:hover {\n",
              "    background-color: var(--hover-bg-color);\n",
              "    box-shadow: 0 1px 2px rgba(60, 64, 67, 0.3), 0 1px 3px 1px rgba(60, 64, 67, 0.15);\n",
              "    fill: var(--button-hover-fill-color);\n",
              "  }\n",
              "\n",
              "  .colab-df-quickchart-complete:disabled,\n",
              "  .colab-df-quickchart-complete:disabled:hover {\n",
              "    background-color: var(--disabled-bg-color);\n",
              "    fill: var(--disabled-fill-color);\n",
              "    box-shadow: none;\n",
              "  }\n",
              "\n",
              "  .colab-df-spinner {\n",
              "    border: 2px solid var(--fill-color);\n",
              "    border-color: transparent;\n",
              "    border-bottom-color: var(--fill-color);\n",
              "    animation:\n",
              "      spin 1s steps(1) infinite;\n",
              "  }\n",
              "\n",
              "  @keyframes spin {\n",
              "    0% {\n",
              "      border-color: transparent;\n",
              "      border-bottom-color: var(--fill-color);\n",
              "      border-left-color: var(--fill-color);\n",
              "    }\n",
              "    20% {\n",
              "      border-color: transparent;\n",
              "      border-left-color: var(--fill-color);\n",
              "      border-top-color: var(--fill-color);\n",
              "    }\n",
              "    30% {\n",
              "      border-color: transparent;\n",
              "      border-left-color: var(--fill-color);\n",
              "      border-top-color: var(--fill-color);\n",
              "      border-right-color: var(--fill-color);\n",
              "    }\n",
              "    40% {\n",
              "      border-color: transparent;\n",
              "      border-right-color: var(--fill-color);\n",
              "      border-top-color: var(--fill-color);\n",
              "    }\n",
              "    60% {\n",
              "      border-color: transparent;\n",
              "      border-right-color: var(--fill-color);\n",
              "    }\n",
              "    80% {\n",
              "      border-color: transparent;\n",
              "      border-right-color: var(--fill-color);\n",
              "      border-bottom-color: var(--fill-color);\n",
              "    }\n",
              "    90% {\n",
              "      border-color: transparent;\n",
              "      border-bottom-color: var(--fill-color);\n",
              "    }\n",
              "  }\n",
              "</style>\n",
              "\n",
              "  <script>\n",
              "    async function quickchart(key) {\n",
              "      const quickchartButtonEl =\n",
              "        document.querySelector('#' + key + ' button');\n",
              "      quickchartButtonEl.disabled = true;  // To prevent multiple clicks.\n",
              "      quickchartButtonEl.classList.add('colab-df-spinner');\n",
              "      try {\n",
              "        const charts = await google.colab.kernel.invokeFunction(\n",
              "            'suggestCharts', [key], {});\n",
              "      } catch (error) {\n",
              "        console.error('Error during call to suggestCharts:', error);\n",
              "      }\n",
              "      quickchartButtonEl.classList.remove('colab-df-spinner');\n",
              "      quickchartButtonEl.classList.add('colab-df-quickchart-complete');\n",
              "    }\n",
              "    (() => {\n",
              "      let quickchartButtonEl =\n",
              "        document.querySelector('#df-60e10dce-ee50-47b6-8793-2f87447984ac button');\n",
              "      quickchartButtonEl.style.display =\n",
              "        google.colab.kernel.accessAllowed ? 'block' : 'none';\n",
              "    })();\n",
              "  </script>\n",
              "</div>\n",
              "\n",
              "  <div id=\"id_1bb81760-4724-4562-962e-8716fc528af1\">\n",
              "    <style>\n",
              "      .colab-df-generate {\n",
              "        background-color: #E8F0FE;\n",
              "        border: none;\n",
              "        border-radius: 50%;\n",
              "        cursor: pointer;\n",
              "        display: none;\n",
              "        fill: #1967D2;\n",
              "        height: 32px;\n",
              "        padding: 0 0 0 0;\n",
              "        width: 32px;\n",
              "      }\n",
              "\n",
              "      .colab-df-generate:hover {\n",
              "        background-color: #E2EBFA;\n",
              "        box-shadow: 0px 1px 2px rgba(60, 64, 67, 0.3), 0px 1px 3px 1px rgba(60, 64, 67, 0.15);\n",
              "        fill: #174EA6;\n",
              "      }\n",
              "\n",
              "      [theme=dark] .colab-df-generate {\n",
              "        background-color: #3B4455;\n",
              "        fill: #D2E3FC;\n",
              "      }\n",
              "\n",
              "      [theme=dark] .colab-df-generate:hover {\n",
              "        background-color: #434B5C;\n",
              "        box-shadow: 0px 1px 3px 1px rgba(0, 0, 0, 0.15);\n",
              "        filter: drop-shadow(0px 1px 2px rgba(0, 0, 0, 0.3));\n",
              "        fill: #FFFFFF;\n",
              "      }\n",
              "    </style>\n",
              "    <button class=\"colab-df-generate\" onclick=\"generateWithVariable('neutral')\"\n",
              "            title=\"Generate code using this dataframe.\"\n",
              "            style=\"display:none;\">\n",
              "\n",
              "  <svg xmlns=\"http://www.w3.org/2000/svg\" height=\"24px\"viewBox=\"0 0 24 24\"\n",
              "       width=\"24px\">\n",
              "    <path d=\"M7,19H8.4L18.45,9,17,7.55,7,17.6ZM5,21V16.75L18.45,3.32a2,2,0,0,1,2.83,0l1.4,1.43a1.91,1.91,0,0,1,.58,1.4,1.91,1.91,0,0,1-.58,1.4L9.25,21ZM18.45,9,17,7.55Zm-12,3A5.31,5.31,0,0,0,4.9,8.1,5.31,5.31,0,0,0,1,6.5,5.31,5.31,0,0,0,4.9,4.9,5.31,5.31,0,0,0,6.5,1,5.31,5.31,0,0,0,8.1,4.9,5.31,5.31,0,0,0,12,6.5,5.46,5.46,0,0,0,6.5,12Z\"/>\n",
              "  </svg>\n",
              "    </button>\n",
              "    <script>\n",
              "      (() => {\n",
              "      const buttonEl =\n",
              "        document.querySelector('#id_1bb81760-4724-4562-962e-8716fc528af1 button.colab-df-generate');\n",
              "      buttonEl.style.display =\n",
              "        google.colab.kernel.accessAllowed ? 'block' : 'none';\n",
              "\n",
              "      buttonEl.onclick = () => {\n",
              "        google.colab.notebook.generateWithVariable('neutral');\n",
              "      }\n",
              "      })();\n",
              "    </script>\n",
              "  </div>\n",
              "\n",
              "    </div>\n",
              "  </div>\n"
            ],
            "application/vnd.google.colaboratory.intrinsic+json": {
              "type": "dataframe",
              "variable_name": "neutral",
              "summary": "{\n  \"name\": \"neutral\",\n  \"rows\": 114,\n  \"fields\": [\n    {\n      \"column\": \"date1\",\n      \"properties\": {\n        \"dtype\": \"date\",\n        \"min\": \"2012-12-17 00:00:00\",\n        \"max\": \"2024-06-10 00:00:00\",\n        \"num_unique_values\": 114,\n        \"samples\": [\n          \"2019-12-16 00:00:00\",\n          \"2013-04-08 00:00:00\",\n          \"2016-04-25 00:00:00\"\n        ],\n        \"semantic_type\": \"\",\n        \"description\": \"\"\n      }\n    },\n    {\n      \"column\": \"Market_Cap\",\n      \"properties\": {\n        \"dtype\": \"number\",\n        \"std\": 13411038827.29597,\n        \"min\": 29121632876.613525,\n        \"max\": 85198198217.02393,\n        \"num_unique_values\": 114,\n        \"samples\": [\n          69362453292.2417,\n          30788681911.942627,\n          38994035456.636475\n        ],\n        \"semantic_type\": \"\",\n        \"description\": \"\"\n      }\n    },\n    {\n      \"column\": \"date2\",\n      \"properties\": {\n        \"dtype\": \"date\",\n        \"min\": \"2012-12-24 00:00:00\",\n        \"max\": \"2024-06-17 00:00:00\",\n        \"num_unique_values\": 114,\n        \"samples\": [\n          \"2019-12-23 00:00:00\",\n          \"2013-04-15 00:00:00\",\n          \"2016-05-02 00:00:00\"\n        ],\n        \"semantic_type\": \"\",\n        \"description\": \"\"\n      }\n    },\n    {\n      \"column\": \"Market_Cap_Date2\",\n      \"properties\": {\n        \"dtype\": \"number\",\n        \"std\": 13412921003.029802,\n        \"min\": 29081677419.842773,\n        \"max\": 85462088645.44092,\n        \"num_unique_values\": 114,\n        \"samples\": [\n          69337779654.67822,\n          30504929971.549072,\n          38939048492.923584\n        ],\n        \"semantic_type\": \"\",\n        \"description\": \"\"\n      }\n    },\n    {\n      \"column\": \"date3\",\n      \"properties\": {\n        \"dtype\": \"date\",\n        \"min\": \"2012-12-31 00:00:00\",\n        \"max\": \"2024-06-24 00:00:00\",\n        \"num_unique_values\": 114,\n        \"samples\": [\n          \"2019-12-30 00:00:00\",\n          \"2013-04-22 00:00:00\",\n          \"2016-05-09 00:00:00\"\n        ],\n        \"semantic_type\": \"\",\n        \"description\": \"\"\n      }\n    },\n    {\n      \"column\": \"Market_Cap_Date3\",\n      \"properties\": {\n        \"dtype\": \"number\",\n        \"std\": 13586345185.196766,\n        \"min\": 29081677419.842773,\n        \"max\": 85462088645.44092,\n        \"num_unique_values\": 114,\n        \"samples\": [\n          69609199884.70361,\n          30170484689.051758,\n          37091613711.66846\n        ],\n        \"semantic_type\": \"\",\n        \"description\": \"\"\n      }\n    },\n    {\n      \"column\": \"Growth Rate\",\n      \"properties\": {\n        \"dtype\": \"number\",\n        \"std\": 0.5837614907530908,\n        \"min\": -0.9988103251918934,\n        \"max\": 0.9405509639084729,\n        \"num_unique_values\": 114,\n        \"samples\": [\n          -0.03557203702054804,\n          -0.9216111985732331,\n          -0.1410137808743575\n        ],\n        \"semantic_type\": \"\",\n        \"description\": \"\"\n      }\n    },\n    {\n      \"column\": \"Reaction Growth Rate\",\n      \"properties\": {\n        \"dtype\": \"number\",\n        \"std\": 3.3059718255756114,\n        \"min\": -8.788072390656945,\n        \"max\": 10.120166007926263,\n        \"num_unique_values\": 114,\n        \"samples\": [\n          0.39144638230001055,\n          -1.0963646951795671,\n          -4.744427131009281\n        ],\n        \"semantic_type\": \"\",\n        \"description\": \"\"\n      }\n    },\n    {\n      \"column\": \"Reaction Growth Rate Indicator\",\n      \"properties\": {\n        \"dtype\": \"number\",\n        \"std\": 0,\n        \"min\": 0,\n        \"max\": 1,\n        \"num_unique_values\": 2,\n        \"samples\": [\n          1,\n          0\n        ],\n        \"semantic_type\": \"\",\n        \"description\": \"\"\n      }\n    }\n  ]\n}"
            }
          },
          "metadata": {},
          "execution_count": 52
        }
      ]
    },
    {
      "cell_type": "code",
      "source": [
        "# Get the number of value in each category\n",
        "row_count_veryneg = len(veryneg)\n",
        "row_count_neg = len(neg)\n",
        "row_count_neutral = len(neutral)\n",
        "row_count_pos = len(pos)\n",
        "row_count_verypos = len(verypos)\n",
        "\n",
        "\n",
        "print(f\"Number of rows: {row_count_veryneg}\")\n",
        "print(f\"Number of rows: {row_count_neg}\")\n",
        "print(f\"Number of rows: {row_count_neutral}\")\n",
        "print(f\"Number of rows: {row_count_pos}\")\n",
        "print(f\"Number of rows: {row_count_verypos}\")"
      ],
      "metadata": {
        "colab": {
          "base_uri": "https://localhost:8080/"
        },
        "id": "K5JqDD_h4qs4",
        "outputId": "b67480e5-bbc4-4ae2-c8ed-9339471f2c90"
      },
      "execution_count": 62,
      "outputs": [
        {
          "output_type": "stream",
          "name": "stdout",
          "text": [
            "Number of rows: 35\n",
            "Number of rows: 120\n",
            "Number of rows: 114\n",
            "Number of rows: 150\n",
            "Number of rows: 109\n"
          ]
        }
      ]
    },
    {
      "cell_type": "code",
      "source": [
        "# Printing the expected counts\n",
        "ECveryneg = average_indicator * row_count_veryneg\n",
        "ECneg = average_indicator * row_count_neg\n",
        "ECneutral = average_indicator * row_count_neutral\n",
        "ECpos = average_indicator * row_count_pos\n",
        "ECverypos = average_indicator * row_count_verypos\n",
        "\n",
        "print(f\"The positive expected counts of the veryneg sample is : {ECveryneg}\")\n",
        "print(f\"The positive expected counts of the neg sample is : {ECneg}\")\n",
        "print(f\"The positive expected counts of the neutral sample is : {ECneutral}\")\n",
        "print(f\"The positive expected counts of the pos sample is : {ECpos}\")\n",
        "print(f\"The positive expected counts of the verypos sample is : {ECverypos}\")"
      ],
      "metadata": {
        "colab": {
          "base_uri": "https://localhost:8080/"
        },
        "id": "EJxItpQ49MsY",
        "outputId": "101ce958-3b43-4fe7-b118-848b2aba5be6"
      },
      "execution_count": 61,
      "outputs": [
        {
          "output_type": "stream",
          "name": "stdout",
          "text": [
            "The positive expected counts of the veryneg sample is : 19.223484848484848\n",
            "The positive expected counts of the neg sample is : 65.9090909090909\n",
            "The positive expected counts of the neutral sample is : 62.61363636363636\n",
            "The positive expected counts of the pos sample is : 82.38636363636363\n",
            "The positive expected counts of the verypos sample is : 59.867424242424235\n"
          ]
        }
      ]
    },
    {
      "cell_type": "code",
      "source": [
        "# Printing the observed values\n",
        "count_ones1 = veryneg['Reaction Growth Rate Indicator'].sum()\n",
        "\n",
        "print(f\"Number of rows with '1': {count_ones1}\")"
      ],
      "metadata": {
        "colab": {
          "base_uri": "https://localhost:8080/"
        },
        "id": "xQ3vLyX5_MG9",
        "outputId": "6dc9824f-c4bb-497c-bf8c-6ab388cb5812"
      },
      "execution_count": 60,
      "outputs": [
        {
          "output_type": "stream",
          "name": "stdout",
          "text": [
            "Number of rows with '1': 21\n"
          ]
        }
      ]
    },
    {
      "cell_type": "code",
      "source": [
        "count_ones2 = neg['Reaction Growth Rate Indicator'].sum()\n",
        "\n",
        "print(f\"Number of rows with '1': {count_ones2}\")"
      ],
      "metadata": {
        "colab": {
          "base_uri": "https://localhost:8080/"
        },
        "id": "6yzb77Ay_aYU",
        "outputId": "b3e2025a-2da2-4c28-d1cb-f450d161378c"
      },
      "execution_count": 56,
      "outputs": [
        {
          "output_type": "stream",
          "name": "stdout",
          "text": [
            "Number of rows with '1': 69\n"
          ]
        }
      ]
    },
    {
      "cell_type": "code",
      "source": [
        "count_ones3 = neutral['Reaction Growth Rate Indicator'].sum()\n",
        "\n",
        "print(f\"Number of rows with '1': {count_ones3}\")"
      ],
      "metadata": {
        "colab": {
          "base_uri": "https://localhost:8080/"
        },
        "id": "6hKkZsZ-_a0y",
        "outputId": "44cb35df-3aa5-4afb-9512-c17b9684623b"
      },
      "execution_count": 57,
      "outputs": [
        {
          "output_type": "stream",
          "name": "stdout",
          "text": [
            "Number of rows with '1': 71\n"
          ]
        }
      ]
    },
    {
      "cell_type": "code",
      "source": [
        "count_ones4 = pos['Reaction Growth Rate Indicator'].sum()\n",
        "\n",
        "print(f\"Number of rows with '1': {count_ones4}\")"
      ],
      "metadata": {
        "colab": {
          "base_uri": "https://localhost:8080/"
        },
        "id": "cVLf2HBL_bFT",
        "outputId": "d70df6e9-472f-45b3-b13f-0c7da42151af"
      },
      "execution_count": 58,
      "outputs": [
        {
          "output_type": "stream",
          "name": "stdout",
          "text": [
            "Number of rows with '1': 74\n"
          ]
        }
      ]
    },
    {
      "cell_type": "code",
      "source": [
        "count_ones5 = verypos['Reaction Growth Rate Indicator'].sum()\n",
        "\n",
        "print(f\"Number of rows with '1': {count_ones5}\")"
      ],
      "metadata": {
        "colab": {
          "base_uri": "https://localhost:8080/"
        },
        "id": "sLGELLBv_bms",
        "outputId": "84e2bffd-1973-485c-dd09-63ac2d74f3cd"
      },
      "execution_count": 59,
      "outputs": [
        {
          "output_type": "stream",
          "name": "stdout",
          "text": [
            "Number of rows with '1': 55\n"
          ]
        }
      ]
    }
  ]
}